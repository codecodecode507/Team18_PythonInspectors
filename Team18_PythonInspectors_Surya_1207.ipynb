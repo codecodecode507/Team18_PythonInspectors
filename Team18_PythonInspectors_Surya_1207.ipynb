{
 "cells": [
  {
   "cell_type": "code",
   "execution_count": 2,
   "id": "4094763d",
   "metadata": {},
   "outputs": [],
   "source": [
    "\n",
    "import pandas as pd\n",
    "import numpy as np\n",
    "import matplotlib.pyplot as plt\n",
    "from datetime import datetime\n",
    "import seaborn as sns\n",
    "import plotly.express as px"
   ]
  },
  {
   "cell_type": "code",
   "execution_count": 3,
   "id": "b3abe5bb",
   "metadata": {},
   "outputs": [],
   "source": [
    "df = pd.read_excel(\"C:\\Surya\\DA\\Hackathons\\Python Hackathon Dec2023\\Exam Stress Final.xlsx\",sheet_name=None)\n",
    "grades=df['Grades']\n",
    "demography=df['Demography']\n",
    "eda=df['EDA']\n",
    "hr=df['HR']\n",
    "temp=df['Temp']\n",
    "ibi=df['IBI']\n"
   ]
  },
  {
   "cell_type": "markdown",
   "id": "2ab01361",
   "metadata": {},
   "source": [
    "Q1. Using the mean interbeat interval per minute, calculate the Root Mean Square of successive differences for any 30 minute interval and add this to IBI"
   ]
  },
  {
   "cell_type": "code",
   "execution_count": 3,
   "id": "1e05cf98",
   "metadata": {},
   "outputs": [
    {
     "name": "stdout",
     "output_type": "stream",
     "text": [
      "RMSSD:  0.6549284511905323\n"
     ]
    }
   ],
   "source": [
    "ibi_mean = np.mean(ibi.IBI)\n",
    "selected_interval = ibi.IBI[:30]\n",
    "successive_diff = np.diff(selected_interval)\n",
    "rmssd = np.sqrt(np.mean(successive_diff**2))\n",
    "ibi_with_rmssd = ibi_mean + rmssd\n",
    "print('RMSSD: ',ibi_with_rmssd)"
   ]
  },
  {
   "cell_type": "markdown",
   "id": "f8813855",
   "metadata": {},
   "source": [
    "Q7. \"Using numpy functions, transpose and multiply the following arrays\n",
    "a=np.arange(4).reshape(2,2)\n",
    "b=np.arange(6).reshape(3,2) \""
   ]
  },
  {
   "cell_type": "code",
   "execution_count": 18,
   "id": "16888c94",
   "metadata": {},
   "outputs": [
    {
     "name": "stdout",
     "output_type": "stream",
     "text": [
      "\n",
      " Array a:\n",
      "[[0 1]\n",
      " [2 3]]\n",
      "\n",
      " Array b:\n",
      "[[0 1]\n",
      " [2 3]\n",
      " [4 5]]\n",
      "\n",
      "Transposed Array a:\n",
      "[[0 2]\n",
      " [1 3]]\n",
      "\n",
      "Transposed Array b:\n",
      "[[0 2 4]\n",
      " [1 3 5]]\n",
      "\n",
      "Result of Transposed Multiplication:\n",
      "[[ 2  6 10]\n",
      " [ 3 11 19]]\n"
     ]
    }
   ],
   "source": [
    "a = np.arange(4).reshape(2, 2)\n",
    "b = np.arange(6).reshape(3, 2)\n",
    "print(\"\\n Array a:\")\n",
    "print(a)\n",
    "print(\"\\n Array b:\")\n",
    "print(b)\n",
    "print(\"\\nTransposed Array a:\")\n",
    "print(np.transpose(a))\n",
    "\n",
    "print(\"\\nTransposed Array b:\")\n",
    "print(np.transpose(b))\n",
    "\n",
    "print(\"\\nResult of Transposed Multiplication:\")\n",
    "print(np.dot(a_transposed, b_transposed))"
   ]
  },
  {
   "cell_type": "markdown",
   "id": "282aa5b8",
   "metadata": {},
   "source": [
    "Q8.Write a Python program to create an array of 5 integers and display the array items in reverse order"
   ]
  },
  {
   "cell_type": "code",
   "execution_count": 13,
   "id": "137cb5ae",
   "metadata": {},
   "outputs": [
    {
     "name": "stdout",
     "output_type": "stream",
     "text": [
      "Array Created: [1 2 3 4 5]\n",
      "\n",
      "Array in Reverse Order: [5 4 3 2 1]\n"
     ]
    }
   ],
   "source": [
    "array1 = np.array([1, 2, 3, 4, 5])\n",
    "print(\"Array Created:\", array1)\n",
    "\n",
    "rev_array1 = np.flip(array1)\n",
    "print(\"\\nArray in Reverse Order:\", rev_array1)"
   ]
  },
  {
   "cell_type": "markdown",
   "id": "998280ce",
   "metadata": {},
   "source": [
    "Q9. What was the average grade for all students in the final exam vs both midterms"
   ]
  },
  {
   "cell_type": "code",
   "execution_count": 16,
   "id": "fa30319c",
   "metadata": {},
   "outputs": [
    {
     "name": "stdout",
     "output_type": "stream",
     "text": [
      "Average Grade for all Students:\n",
      "            Midterm 1  Midterm 2  final\n",
      "Student_id                             \n",
      "S01              78.0       82.0  182.0\n",
      "S02              82.0       85.0  180.0\n",
      "S03              77.0       90.0  188.0\n",
      "S04              75.0       77.0  149.0\n",
      "S05              67.0       77.0  157.0\n",
      "S06              71.0       64.0  175.0\n",
      "S07              64.0       33.0  110.0\n",
      "S08              92.0       88.0  184.0\n",
      "S09              80.0       39.0  126.0\n",
      "S10              89.0       64.0  116.0\n"
     ]
    }
   ],
   "source": [
    "average_grades_by_student = grades.groupby('Student_id').mean()\n",
    "\n",
    "print(\"Average Grade for all Students:\")\n",
    "print(average_grades_by_student)"
   ]
  },
  {
   "cell_type": "code",
   "execution_count": 8,
   "id": "6d9ef861",
   "metadata": {},
   "outputs": [
    {
     "name": "stdout",
     "output_type": "stream",
     "text": [
      "DataFrame with Age:\n",
      "  Student_id First Name  Last Name        DOB  Age\n",
      "0        S01    Barbara    Walters 2009-01-01   14\n",
      "1        S02       Nora      Jones 2009-02-02   14\n",
      "2        S03    Gabriel    Willows 2009-07-12   14\n",
      "3        S04       John        Doe 2009-09-09   14\n",
      "4        S05       Jane        Doe 2009-05-06   14\n",
      "5        S06        Pat     Murray 2008-04-04   15\n",
      "6        S07      Roger  Frederick 2010-08-01   13\n",
      "7        S08       John      Wills 2009-03-03   14\n",
      "8        S09       Paul    Cartney 2009-10-23   14\n",
      "9        S10     Janice      Smith 2009-11-14   14\n"
     ]
    }
   ],
   "source": [
    "current_year = datetime.now().year\n",
    "demography['Age'] = current_year - demography['DOB'].dt.year\n",
    "#print(demography['Age'])\n",
    "print(\"DataFrame with Age:\")\n",
    "print(demography[['Student_id', 'First Name', 'Last Name', 'DOB', 'Age']])\n",
    "demography.drop(columns=['DOB'], inplace=True)\n",
    "\n"
   ]
  },
  {
   "cell_type": "code",
   "execution_count": 9,
   "id": "ca2e601b",
   "metadata": {},
   "outputs": [
    {
     "name": "stdout",
     "output_type": "stream",
     "text": [
      "  Student_id First Name  Last Name Gender     Race  Age\n",
      "0        S01    Barbara    Walters      F    White   14\n",
      "1        S02       Nora      Jones      F    White   14\n",
      "2        S03    Gabriel    Willows      F    Asian   14\n",
      "3        S04       John        Doe      M    Asian   14\n",
      "4        S05       Jane        Doe      F  African   14\n",
      "5        S06        Pat     Murray      M  African   15\n",
      "6        S07      Roger  Frederick      M  African   13\n",
      "7        S08       John      Wills      M    White   14\n",
      "8        S09       Paul    Cartney      M    White   14\n",
      "9        S10     Janice      Smith      F  Spanish   14\n"
     ]
    }
   ],
   "source": [
    "print(demography)"
   ]
  },
  {
   "cell_type": "code",
   "execution_count": 10,
   "id": "1328b6ab",
   "metadata": {},
   "outputs": [
    {
     "ename": "NameError",
     "evalue": "name 'excel_file' is not defined",
     "output_type": "error",
     "traceback": [
      "\u001b[1;31m---------------------------------------------------------------------------\u001b[0m",
      "\u001b[1;31mNameError\u001b[0m                                 Traceback (most recent call last)",
      "Cell \u001b[1;32mIn[10], line 1\u001b[0m\n\u001b[1;32m----> 1\u001b[0m demography_original_df \u001b[38;5;241m=\u001b[39m \u001b[43mexcel_file\u001b[49m\u001b[38;5;241m.\u001b[39mparse(\u001b[38;5;124m'\u001b[39m\u001b[38;5;124mDemography\u001b[39m\u001b[38;5;124m'\u001b[39m)\n\u001b[0;32m      3\u001b[0m \u001b[38;5;66;03m# Merge the original DataFrame with the one containing 'DOB'\u001b[39;00m\n\u001b[0;32m      4\u001b[0m merged_df \u001b[38;5;241m=\u001b[39m pd\u001b[38;5;241m.\u001b[39mmerge(demography_original_df, demography_df[[\u001b[38;5;124m'\u001b[39m\u001b[38;5;124mStudent_id\u001b[39m\u001b[38;5;124m'\u001b[39m, \u001b[38;5;124m'\u001b[39m\u001b[38;5;124mDOB\u001b[39m\u001b[38;5;124m'\u001b[39m]], on\u001b[38;5;241m=\u001b[39m\u001b[38;5;124m'\u001b[39m\u001b[38;5;124mStudent_id\u001b[39m\u001b[38;5;124m'\u001b[39m, how\u001b[38;5;241m=\u001b[39m\u001b[38;5;124m'\u001b[39m\u001b[38;5;124minner\u001b[39m\u001b[38;5;124m'\u001b[39m)\n",
      "\u001b[1;31mNameError\u001b[0m: name 'excel_file' is not defined"
     ]
    }
   ],
   "source": [
    "demography_original_df = excel_file.parse('Demography')\n",
    "\n",
    "# Merge the original DataFrame with the one containing 'DOB'\n",
    "merged_df = pd.merge(demography_original_df, demography_df[['Student_id', 'DOB']], on='Student_id', how='inner')\n",
    "\n",
    "# Drop the 'Age' column\n",
    "merged_df.drop(columns=['Age'], inplace=True)\n",
    "\n",
    "# Display the final DataFrame without 'Age'\n",
    "print(\"\\nFinal DataFrame without 'Age' column:\")\n",
    "print(merged_df[['Student_id', 'First Name', 'Last Name', 'DOB']])"
   ]
  },
  {
   "cell_type": "code",
   "execution_count": 20,
   "id": "e9a01ea1",
   "metadata": {},
   "outputs": [
    {
     "name": "stdout",
     "output_type": "stream",
     "text": [
      "  Student_id First Name  Last Name Gender     Race  Age\n",
      "0        S01    Barbara    Walters      F    White   14\n",
      "1        S02       Nora      Jones      F    White   14\n",
      "2        S03    Gabriel    Willows      F    Asian   14\n",
      "3        S04       John        Doe      M    Asian   14\n",
      "4        S05       Jane        Doe      F  African   14\n",
      "5        S06        Pat     Murray      M  African   15\n",
      "6        S07      Roger  Frederick      M  African   13\n",
      "7        S08       John      Wills      M    White   14\n",
      "8        S09       Paul    Cartney      M    White   14\n",
      "9        S10     Janice      Smith      F  Spanish   14\n"
     ]
    }
   ],
   "source": [
    "print(demography)"
   ]
  },
  {
   "cell_type": "code",
   "execution_count": 26,
   "id": "eb2c77e8",
   "metadata": {},
   "outputs": [
    {
     "name": "stdout",
     "output_type": "stream",
     "text": [
      "Columns of the DataFrame:\n",
      "Index(['Student_id', 'DOB', 'First Name', 'Last Name', 'Gender', 'Race'], dtype='object')\n",
      "DataFrame with Age (DOB dropped):\n",
      "   index Student_id        DOB First Name  Last Name Gender     Race  Age\n",
      "0      0        S01 2009-01-01    Barbara    Walters      F    White   14\n",
      "1      1        S02 2009-02-02       Nora      Jones      F    White   14\n",
      "2      2        S03 2009-07-12    Gabriel    Willows      F    Asian   14\n",
      "3      3        S04 2009-09-09       John        Doe      M    Asian   14\n",
      "4      4        S05 2009-05-06       Jane        Doe      F  African   14\n",
      "5      5        S06 2008-04-04        Pat     Murray      M  African   15\n",
      "6      6        S07 2010-08-01      Roger  Frederick      M  African   13\n",
      "7      7        S08 2009-03-03       John      Wills      M    White   14\n",
      "8      8        S09 2009-10-23       Paul    Cartney      M    White   14\n",
      "9      9        S10 2009-11-14     Janice      Smith      F  Spanish   14\n",
      "   index Student_id First Name  Last Name Gender     Race  Age\n",
      "0      0        S01    Barbara    Walters      F    White   14\n",
      "1      1        S02       Nora      Jones      F    White   14\n",
      "2      2        S03    Gabriel    Willows      F    Asian   14\n",
      "3      3        S04       John        Doe      M    Asian   14\n",
      "4      4        S05       Jane        Doe      F  African   14\n",
      "5      5        S06        Pat     Murray      M  African   15\n",
      "6      6        S07      Roger  Frederick      M  African   13\n",
      "7      7        S08       John      Wills      M    White   14\n",
      "8      8        S09       Paul    Cartney      M    White   14\n",
      "9      9        S10     Janice      Smith      F  Spanish   14\n",
      "  Student_id        DOB First Name  Last Name Gender     Race\n",
      "0        S01 2009-01-01    Barbara    Walters      F    White\n",
      "1        S02 2009-02-02       Nora      Jones      F    White\n",
      "2        S03 2009-07-12    Gabriel    Willows      F    Asian\n",
      "3        S04 2009-09-09       John        Doe      M    Asian\n",
      "4        S05 2009-05-06       Jane        Doe      F  African\n",
      "5        S06 2008-04-04        Pat     Murray      M  African\n",
      "6        S07 2010-08-01      Roger  Frederick      M  African\n",
      "7        S08 2009-03-03       John      Wills      M    White\n",
      "8        S09 2009-10-23       Paul    Cartney      M    White\n",
      "9        S10 2009-11-14     Janice      Smith      F  Spanish\n"
     ]
    },
    {
     "ename": "KeyError",
     "evalue": "\"['DOB'] not in index\"",
     "output_type": "error",
     "traceback": [
      "\u001b[1;31m---------------------------------------------------------------------------\u001b[0m",
      "\u001b[1;31mKeyError\u001b[0m                                  Traceback (most recent call last)",
      "Cell \u001b[1;32mIn[26], line 31\u001b[0m\n\u001b[0;32m     28\u001b[0m \u001b[38;5;28mprint\u001b[39m(demography_original_df)\n\u001b[0;32m     30\u001b[0m \u001b[38;5;66;03m# Merge the original DataFrame with the one containing 'DOB'\u001b[39;00m\n\u001b[1;32m---> 31\u001b[0m merged_df \u001b[38;5;241m=\u001b[39m pd\u001b[38;5;241m.\u001b[39mmerge(demography_original_df, \u001b[43mdemography_df\u001b[49m\u001b[43m[\u001b[49m\u001b[43m[\u001b[49m\u001b[38;5;124;43m'\u001b[39;49m\u001b[38;5;124;43mStudent_id\u001b[39;49m\u001b[38;5;124;43m'\u001b[39;49m\u001b[43m,\u001b[49m\u001b[43m \u001b[49m\u001b[38;5;124;43m'\u001b[39;49m\u001b[38;5;124;43mDOB\u001b[39;49m\u001b[38;5;124;43m'\u001b[39;49m\u001b[43m]\u001b[49m\u001b[43m]\u001b[49m, on\u001b[38;5;241m=\u001b[39m\u001b[38;5;124m'\u001b[39m\u001b[38;5;124mStudent_id\u001b[39m\u001b[38;5;124m'\u001b[39m, how\u001b[38;5;241m=\u001b[39m\u001b[38;5;124m'\u001b[39m\u001b[38;5;124minner\u001b[39m\u001b[38;5;124m'\u001b[39m)\n\u001b[0;32m     33\u001b[0m \u001b[38;5;66;03m# Drop the 'Age' column\u001b[39;00m\n\u001b[0;32m     34\u001b[0m merged_df\u001b[38;5;241m.\u001b[39mdrop(columns\u001b[38;5;241m=\u001b[39m[\u001b[38;5;124m'\u001b[39m\u001b[38;5;124mAge\u001b[39m\u001b[38;5;124m'\u001b[39m], inplace\u001b[38;5;241m=\u001b[39m\u001b[38;5;28;01mTrue\u001b[39;00m)\n",
      "File \u001b[1;32m~\\anaconda3\\lib\\site-packages\\pandas\\core\\frame.py:3813\u001b[0m, in \u001b[0;36mDataFrame.__getitem__\u001b[1;34m(self, key)\u001b[0m\n\u001b[0;32m   3811\u001b[0m     \u001b[38;5;28;01mif\u001b[39;00m is_iterator(key):\n\u001b[0;32m   3812\u001b[0m         key \u001b[38;5;241m=\u001b[39m \u001b[38;5;28mlist\u001b[39m(key)\n\u001b[1;32m-> 3813\u001b[0m     indexer \u001b[38;5;241m=\u001b[39m \u001b[38;5;28;43mself\u001b[39;49m\u001b[38;5;241;43m.\u001b[39;49m\u001b[43mcolumns\u001b[49m\u001b[38;5;241;43m.\u001b[39;49m\u001b[43m_get_indexer_strict\u001b[49m\u001b[43m(\u001b[49m\u001b[43mkey\u001b[49m\u001b[43m,\u001b[49m\u001b[43m \u001b[49m\u001b[38;5;124;43m\"\u001b[39;49m\u001b[38;5;124;43mcolumns\u001b[39;49m\u001b[38;5;124;43m\"\u001b[39;49m\u001b[43m)\u001b[49m[\u001b[38;5;241m1\u001b[39m]\n\u001b[0;32m   3815\u001b[0m \u001b[38;5;66;03m# take() does not accept boolean indexers\u001b[39;00m\n\u001b[0;32m   3816\u001b[0m \u001b[38;5;28;01mif\u001b[39;00m \u001b[38;5;28mgetattr\u001b[39m(indexer, \u001b[38;5;124m\"\u001b[39m\u001b[38;5;124mdtype\u001b[39m\u001b[38;5;124m\"\u001b[39m, \u001b[38;5;28;01mNone\u001b[39;00m) \u001b[38;5;241m==\u001b[39m \u001b[38;5;28mbool\u001b[39m:\n",
      "File \u001b[1;32m~\\anaconda3\\lib\\site-packages\\pandas\\core\\indexes\\base.py:6070\u001b[0m, in \u001b[0;36mIndex._get_indexer_strict\u001b[1;34m(self, key, axis_name)\u001b[0m\n\u001b[0;32m   6067\u001b[0m \u001b[38;5;28;01melse\u001b[39;00m:\n\u001b[0;32m   6068\u001b[0m     keyarr, indexer, new_indexer \u001b[38;5;241m=\u001b[39m \u001b[38;5;28mself\u001b[39m\u001b[38;5;241m.\u001b[39m_reindex_non_unique(keyarr)\n\u001b[1;32m-> 6070\u001b[0m \u001b[38;5;28;43mself\u001b[39;49m\u001b[38;5;241;43m.\u001b[39;49m\u001b[43m_raise_if_missing\u001b[49m\u001b[43m(\u001b[49m\u001b[43mkeyarr\u001b[49m\u001b[43m,\u001b[49m\u001b[43m \u001b[49m\u001b[43mindexer\u001b[49m\u001b[43m,\u001b[49m\u001b[43m \u001b[49m\u001b[43maxis_name\u001b[49m\u001b[43m)\u001b[49m\n\u001b[0;32m   6072\u001b[0m keyarr \u001b[38;5;241m=\u001b[39m \u001b[38;5;28mself\u001b[39m\u001b[38;5;241m.\u001b[39mtake(indexer)\n\u001b[0;32m   6073\u001b[0m \u001b[38;5;28;01mif\u001b[39;00m \u001b[38;5;28misinstance\u001b[39m(key, Index):\n\u001b[0;32m   6074\u001b[0m     \u001b[38;5;66;03m# GH 42790 - Preserve name from an Index\u001b[39;00m\n",
      "File \u001b[1;32m~\\anaconda3\\lib\\site-packages\\pandas\\core\\indexes\\base.py:6133\u001b[0m, in \u001b[0;36mIndex._raise_if_missing\u001b[1;34m(self, key, indexer, axis_name)\u001b[0m\n\u001b[0;32m   6130\u001b[0m     \u001b[38;5;28;01mraise\u001b[39;00m \u001b[38;5;167;01mKeyError\u001b[39;00m(\u001b[38;5;124mf\u001b[39m\u001b[38;5;124m\"\u001b[39m\u001b[38;5;124mNone of [\u001b[39m\u001b[38;5;132;01m{\u001b[39;00mkey\u001b[38;5;132;01m}\u001b[39;00m\u001b[38;5;124m] are in the [\u001b[39m\u001b[38;5;132;01m{\u001b[39;00maxis_name\u001b[38;5;132;01m}\u001b[39;00m\u001b[38;5;124m]\u001b[39m\u001b[38;5;124m\"\u001b[39m)\n\u001b[0;32m   6132\u001b[0m not_found \u001b[38;5;241m=\u001b[39m \u001b[38;5;28mlist\u001b[39m(ensure_index(key)[missing_mask\u001b[38;5;241m.\u001b[39mnonzero()[\u001b[38;5;241m0\u001b[39m]]\u001b[38;5;241m.\u001b[39munique())\n\u001b[1;32m-> 6133\u001b[0m \u001b[38;5;28;01mraise\u001b[39;00m \u001b[38;5;167;01mKeyError\u001b[39;00m(\u001b[38;5;124mf\u001b[39m\u001b[38;5;124m\"\u001b[39m\u001b[38;5;132;01m{\u001b[39;00mnot_found\u001b[38;5;132;01m}\u001b[39;00m\u001b[38;5;124m not in index\u001b[39m\u001b[38;5;124m\"\u001b[39m)\n",
      "\u001b[1;31mKeyError\u001b[0m: \"['DOB'] not in index\""
     ]
    }
   ],
   "source": [
    "# Load your Excel file into a DataFrame\n",
    "excel_file = pd.ExcelFile('C:\\Surya\\DA\\Hackathons\\Python Hackathon Dec2023\\Exam Stress Final.xlsx')\n",
    "demography_df = excel_file.parse('Demography')\n",
    "\n",
    "# Print the columns of the DataFrame\n",
    "print(\"Columns of the DataFrame:\")\n",
    "print(demography_df.columns)\n",
    "\n",
    "# Calculate age based on the current date\n",
    "current_year = datetime.now().year\n",
    "\n",
    "# Assuming 'DOB' is part of the index, reset the index to make it a regular column\n",
    "demography_df.reset_index(inplace=True)\n",
    "\n",
    "# Now try calculating age again\n",
    "demography_df['Age'] = current_year - demography_df['DOB'].dt.year\n",
    "\n",
    "# Display the DataFrame with the calculated age and drop 'DOB'\n",
    "print(\"DataFrame with Age (DOB dropped):\")\n",
    "print(demography_df)\n",
    "\n",
    "# Drop the 'DOB' column\n",
    "demography_df.drop(columns=['DOB'], inplace=True)\n",
    "print(demography_df)\n",
    "\n",
    "# Reload the original \"Demography\" DataFrame\n",
    "demography_original_df = excel_file.parse('Demography')\n",
    "print(demography_original_df)\n",
    "\n",
    "# Merge the original DataFrame with the one containing 'DOB'\n",
    "merged_df = pd.merge(demography_original_df, demography_df[['Student_id', 'DOB']], on='Student_id', how='inner')\n",
    "\n",
    "# Drop the 'Age' column\n",
    "merged_df.drop(columns=['Age'], inplace=True)\n",
    "\n",
    "# Display the final DataFrame without 'Age'\n",
    "print(\"\\nFinal DataFrame without 'Age' column:\")\n",
    "print(merged_df[['Student_id', 'First Name', 'Last Name', 'DOB']])\n"
   ]
  },
  {
   "cell_type": "markdown",
   "id": "5eb36c2b",
   "metadata": {},
   "source": [
    "Q11. What are the top 3 grades in the final exam? What % of the top 3 grades belonged to males vs females? \n"
   ]
  },
  {
   "cell_type": "code",
   "execution_count": 32,
   "id": "e2c523fe",
   "metadata": {},
   "outputs": [
    {
     "name": "stdout",
     "output_type": "stream",
     "text": [
      "Top 3 grades in final exam:\n",
      "\n",
      "  Student_id First Name Last Name Gender  final\n",
      "2        S03    Gabriel   Willows      F    188\n",
      "7        S08       John     Wills      M    184\n",
      "0        S01    Barbara   Walters      F    182\n",
      "\n",
      "Male percentage in Top 3: 33.3%\n",
      "Female percentage in Top 3: 66.7%\n"
     ]
    }
   ],
   "source": [
    "merged_df = pd.merge(grades, demography, on='Student_id', how='inner')\n",
    "\n",
    "top_3_final_grades = merged_df.nlargest(3, 'final')\n",
    "print(\"Top 3 grades in final exam:\\n\")\n",
    "print(top_3_final_grades[['Student_id', 'First Name', 'Last Name', 'Gender', 'final']])\n",
    "\n",
    "# Calculate the percentage of top 3 grades belonging to males and females\n",
    "total_top_3 = top_3_final_grades.shape[0]\n",
    "male_percentage = (top_3_final_grades['Gender'].value_counts().get('M', 0) / total_top_3) * 100\n",
    "female_percentage = (top_3_final_grades['Gender'].value_counts().get('F', 0) / total_top_3) * 100\n",
    "\n",
    "print(f\"\\nMale percentage in Top 3: {male_percentage:.1f}%\")\n",
    "print(f\"Female percentage in Top 3: {female_percentage:.1f}%\")"
   ]
  },
  {
   "cell_type": "markdown",
   "id": "137d95f6",
   "metadata": {},
   "source": [
    "Q12. phonebook={\"john\":938477566,\"Jack\":938377264,\"Jill\":947662781}  ,find the phone number of Joe"
   ]
  },
  {
   "cell_type": "code",
   "execution_count": 36,
   "id": "b6f8d3f6",
   "metadata": {},
   "outputs": [
    {
     "name": "stdout",
     "output_type": "stream",
     "text": [
      "Not Found\n"
     ]
    }
   ],
   "source": [
    "phonebook = {\"john\": 938477566, \"Jack\": 938377264, \"Jill\": 947662781}\n",
    "\n",
    "output = phonebook.get(\"Joe\",\"Not Found\")\n",
    "\n",
    "print(output)"
   ]
  },
  {
   "cell_type": "markdown",
   "id": "6ec471e4",
   "metadata": {},
   "source": [
    "Q13. How many minutes did the midterm 2 last( on average) for all 10 students\n"
   ]
  },
  {
   "cell_type": "code",
   "execution_count": 40,
   "id": "9f7b3ad1",
   "metadata": {},
   "outputs": [
    {
     "name": "stdout",
     "output_type": "stream",
     "text": [
      " Average duration of Midterm 2 for all 10 students: 102.6 minutes\n"
     ]
    }
   ],
   "source": [
    "midterm2_df = eda[eda['Exam'] == 'midterm 2']\n",
    "avg_time = midterm2_df['Time in mins'].mean()\n",
    "\n",
    "print(f\" Average duration of midterm-2 for all 10 students: {avg_time:.1f} minutes\")"
   ]
  },
  {
   "cell_type": "code",
   "execution_count": 46,
   "id": "824e261a",
   "metadata": {},
   "outputs": [
    {
     "name": "stdout",
     "output_type": "stream",
     "text": [
      "0    133.333333\n",
      "1    119.512195\n",
      "2    144.155844\n",
      "3     98.666667\n",
      "4    134.328358\n",
      "5    146.478873\n",
      "6     71.875000\n",
      "7    100.000000\n",
      "8     57.500000\n",
      "9     30.337079\n",
      "Name: Midterm1_vs_Final, dtype: float64\n",
      "DataFrame with Percentage Differences:\n",
      "  Student_id  Midterm1_vs_Final  Midterm2_vs_Final\n",
      "0        S01         133.333333         121.951220\n",
      "1        S02         119.512195         111.764706\n",
      "2        S03         144.155844         108.888889\n",
      "3        S04          98.666667          93.506494\n",
      "4        S05         134.328358         103.896104\n",
      "5        S06         146.478873         173.437500\n",
      "6        S07          71.875000         233.333333\n",
      "7        S08         100.000000         109.090909\n",
      "8        S09          57.500000         223.076923\n",
      "9        S10          30.337079          81.250000\n"
     ]
    }
   ],
   "source": [
    "# Calculate the percentage difference between Midterm1 and Final\n",
    "grades['Midterm1_vs_Final'] = ((grades['final'] - grades['Midterm 1']) / grades['Midterm 1']) * 100\n",
    "print(grades['Midterm1_vs_Final'])\n",
    "\n",
    "# Calculate the percentage difference between Midterm2 and Final\n",
    "grades['Midterm2_vs_Final'] = ((grades['final'] - grades['Midterm 2']) / grades['Midterm 2']) * 100\n",
    "\n",
    "# Display the resulting DataFrame with the percentage differences\n",
    "print(\"DataFrame with Percentage Differences:\")\n",
    "print(grades[['Student_id', 'Midterm1_vs_Final', 'Midterm2_vs_Final']])"
   ]
  },
  {
   "cell_type": "markdown",
   "id": "c92929ef",
   "metadata": {},
   "source": [
    "Q16. What was the % difference between scores in both mid-terms vs the final\n"
   ]
  },
  {
   "cell_type": "code",
   "execution_count": 57,
   "id": "fc6c7b43",
   "metadata": {},
   "outputs": [
    {
     "name": "stdout",
     "output_type": "stream",
     "text": [
      "Percentage difference of grades in both Midterms Vs Final:\n",
      "  Student_id     result\n",
      "0        S01  13.750000\n",
      "1        S02   7.784431\n",
      "2        S03  12.574850\n",
      "3        S04  -1.973684\n",
      "4        S05   9.027778\n",
      "5        S06  29.629630\n",
      "6        S07  13.402062\n",
      "7        S08   2.222222\n",
      "8        S09   5.882353\n",
      "9        S10 -24.183007\n"
     ]
    }
   ],
   "source": [
    "avg_midterm = (grades['Midterm 1'] + grades['Midterm 2'])\n",
    "\n",
    "grades['result'] = ((grades['final'] - avg_midterm) / avg_midterm) * 100\n",
    "print(\"Percentage difference of grades in both Midterms Vs Final:\")\n",
    "print(grades[['Student_id','result']])"
   ]
  },
  {
   "cell_type": "code",
   "execution_count": null,
   "id": "d2a63be2",
   "metadata": {},
   "outputs": [],
   "source": []
  }
 ],
 "metadata": {
  "kernelspec": {
   "display_name": "Python 3 (ipykernel)",
   "language": "python",
   "name": "python3"
  },
  "language_info": {
   "codemirror_mode": {
    "name": "ipython",
    "version": 3
   },
   "file_extension": ".py",
   "mimetype": "text/x-python",
   "name": "python",
   "nbconvert_exporter": "python",
   "pygments_lexer": "ipython3",
   "version": "3.10.9"
  }
 },
 "nbformat": 4,
 "nbformat_minor": 5
}
