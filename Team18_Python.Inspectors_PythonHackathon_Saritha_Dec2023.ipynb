{
 "cells": [
  {
   "cell_type": "code",
   "execution_count": 1,
   "id": "0ac062b9",
   "metadata": {},
   "outputs": [],
   "source": [
    "import pandas as pd\n",
    "import numpy as np\n",
    "import matplotlib.pyplot as plt\n",
    "import seaborn as sns\n",
    "from datetime import datetime\n",
    "import plotly.express as px\n",
    "import re\n",
    "\n",
    "df = pd.read_excel('/Users/vn93214/Downloads/Dec5th2023_Python/Exam Stress Final.xlsx', sheet_name=None)\n",
    "grades=df['Grades']\n",
    "demography=df['Demography']\n",
    "eda=df['EDA']\n",
    "hr=df['HR']\n",
    "temp=df['Temp']\n",
    "ibi=df['IBI']\n"
   ]
  },
  {
   "cell_type": "markdown",
   "id": "923b8909",
   "metadata": {},
   "source": [
    "# Q50.Count the students who are in the Race group White\n",
    "\n",
    "\n"
   ]
  },
  {
   "cell_type": "code",
   "execution_count": 15,
   "id": "d6d86345",
   "metadata": {},
   "outputs": [
    {
     "name": "stdout",
     "output_type": "stream",
     "text": [
      "Students in Race group white count is: 4\n"
     ]
    }
   ],
   "source": [
    "import pandas as pd\n",
    "df = pd.read_excel('/Users/vn93214/Downloads/Dec5th2023_Python/Exam Stress Final.xlsx', sheet_name='Demography')\n",
    "count = len(df[df['Race'] == 'White'])\n",
    "print(\"Students in Race group white count is:\", count)\n"
   ]
  },
  {
   "cell_type": "markdown",
   "id": "ce1b835a",
   "metadata": {},
   "source": [
    "# Q49. [ \"\"Python Hackthaon.\"\",\"\"December 2023.\"\",\"\"Numpy Ninja.\"\" ]\n",
    "# tokenise the Sentences and place it in single column\"\n"
   ]
  },
  {
   "cell_type": "code",
   "execution_count": 16,
   "id": "2d802bff",
   "metadata": {},
   "outputs": [
    {
     "name": "stdout",
     "output_type": "stream",
     "text": [
      "                                 Tokenise Sen\n",
      "0  Python Hackthaon December 2023 Numpy Ninja\n"
     ]
    }
   ],
   "source": [
    "df = pd.DataFrame({'Tokenise Sen': ['Python Hackthaon ''December 2023 ''Numpy Ninja']})\n",
    "df = df.explode('Tokenise Sen')\n",
    "print(df)"
   ]
  },
  {
   "cell_type": "markdown",
   "id": "9a6ba0e6",
   "metadata": {},
   "source": [
    "# Q51.Display the Youngest Student demographic details. with Avg Heart Rate"
   ]
  },
  {
   "cell_type": "code",
   "execution_count": 16,
   "id": "686d2a01",
   "metadata": {},
   "outputs": [
    {
     "name": "stdout",
     "output_type": "stream",
     "text": [
      "Youngest Student Demographic Details:\n",
      "Student_id                    S07\n",
      "DOB           2010-08-01 00:00:00\n",
      "First Name                  Roger\n",
      "Last Name               Frederick\n",
      "Gender                          M\n",
      "Race                      African\n",
      "Age                          13.0\n",
      "Name: 6, dtype: object\n",
      "\n",
      "Average Heart Rate: 103.84210238429172\n"
     ]
    },
    {
     "name": "stderr",
     "output_type": "stream",
     "text": [
      "/var/folders/y5/z4d13gw941b7vzy8rx_tvzxh0000gq/T/ipykernel_86797/2939478277.py:17: FutureWarning: The parsing of 'now' in pd.to_datetime without `utc=True` is deprecated. In a future version, this will match Timestamp('now') and Timestamp.now()\n",
      "  demography['Age'] = (pd.to_datetime('now') - demography['DOB']).astype('<m8[Y]')\n"
     ]
    }
   ],
   "source": [
    "import pandas as pd\n",
    "import numpy as np\n",
    "import matplotlib.pyplot as plt\n",
    "import plotly.express as px\n",
    "from datetime import datetime\n",
    "import seaborn as sns\n",
    "df = pd.read_excel('/Users/vn93214/Downloads/Dec5th2023_Python/Exam Stress Final.xlsx', sheet_name=None)\n",
    "grades=df['Grades']\n",
    "demography=df['Demography']\n",
    "eda=df['EDA']\n",
    "hr=df['HR']\n",
    "temp=df['Temp']\n",
    "ibi=df['IBI']\n",
    "#DOB = pd.to_datetime(demography['DOB'], format='%m/%d/%Y')\n",
    "#date_object = pd.to_datetime(demography['DOB'], origin='1900-01-01')\n",
    "\n",
    "demography['Age'] = (pd.to_datetime('now') - demography['DOB']).astype('<m8[Y]')\n",
    "youngest_student_index = demography['Age'].idxmin()\n",
    "\n",
    "youngest_student_demographics = demography.loc[youngest_student_index]\n",
    "\n",
    "youngest_student_hr_data = hr[hr['Student_id'] == youngest_student_demographics['Student_id']]\n",
    "\n",
    "avg_heart_rate = youngest_student_hr_data['HR'].mean()\n",
    "\n",
    "print(\"Youngest Student Demographic Details:\")\n",
    "print(youngest_student_demographics)\n",
    "print(f\"\\nAverage Heart Rate: {avg_heart_rate}\")"
   ]
  },
  {
   "cell_type": "markdown",
   "id": "2da804cc",
   "metadata": {},
   "source": [
    "# Q52.Plot the Donut chart Student distrubution by Gender\n"
   ]
  },
  {
   "cell_type": "code",
   "execution_count": 17,
   "id": "d97384fe",
   "metadata": {},
   "outputs": [
    {
     "name": "stdout",
     "output_type": "stream",
     "text": [
      "F    5\n",
      "M    5\n",
      "Name: Gender, dtype: int64\n"
     ]
    },
    {
     "data": {
      "image/png": "[encoded data removed]",
      "text/plain": [
       "<Figure size 1000x500 with 1 Axes>"
      ]
     },
     "metadata": {},
     "output_type": "display_data"
    }
   ],
   "source": [
    "df = pd.read_excel('/Users/vn93214/Downloads/Dec5th2023_Python/Exam Stress Final.xlsx', sheet_name='Demography')\n",
    "print(df['Gender'].value_counts())\n",
    "def label_function(val):\n",
    "    return f'{val / 100 * len(df):.0f}\\n{val:.0f}%'\n",
    "\n",
    "fig, ax1 = plt.subplots(ncols=1, figsize=(10, 5))\n",
    "\n",
    "df.groupby('Gender').size().plot(kind='pie',autopct=label_function,textprops={'fontsize': 20},\n",
    "                                  colors=['r', 'b'], ax=ax1)\n",
    "\n",
    "plt.show()"
   ]
  },
  {
   "cell_type": "markdown",
   "id": "74023b79",
   "metadata": {},
   "source": [
    "# Q58.Count the students based on Genderwise using count plot\n"
   ]
  },
  {
   "cell_type": "code",
   "execution_count": 18,
   "id": "da399a6a",
   "metadata": {},
   "outputs": [
    {
     "data": {
      "text/plain": [
       "Text(0, 0.5, 'Count')"
      ]
     },
     "execution_count": 18,
     "metadata": {},
     "output_type": "execute_result"
    },
    {
     "data": {
      "image/png": "[encoded data removed]",
      "text/plain": [
       "<Figure size 400x600 with 1 Axes>"
      ]
     },
     "metadata": {},
     "output_type": "display_data"
    }
   ],
   "source": [
    "import seaborn as sns\n",
    "import matplotlib.pyplot as plt\n",
    "sns.set(style=\"ticks\")\n",
    "plt.figure(figsize=(4, 6))\n",
    "sns.countplot(data=df, x='Gender')\n",
    "plt.title('Count of Students by Gender')\n",
    "plt.xlabel('Gender')\n",
    "plt.ylabel('Count')"
   ]
  },
  {
   "cell_type": "markdown",
   "id": "5cf9d414",
   "metadata": {},
   "source": [
    "# Q54.np.arange(1,31).reshape(6,5),find array slicing to get the elements 4,5,24,25,29,30.\n"
   ]
  },
  {
   "cell_type": "code",
   "execution_count": 19,
   "id": "032293c6",
   "metadata": {},
   "outputs": [
    {
     "name": "stdout",
     "output_type": "stream",
     "text": [
      "Result is: [ 6  7 24 25 26 27]\n"
     ]
    }
   ],
   "source": [
    "arr = np.arange(1, 31).reshape(6, 5)\n",
    "result = arr[[1, 1, 4, 4, 5, 5], [0, 1, 3, 4, 0, 1]]\n",
    "print(\"Result is:\",result)"
   ]
  },
  {
   "cell_type": "markdown",
   "id": "48f817a0",
   "metadata": {},
   "source": [
    "# 53.Calculate the 'AGE' of the Student and Display with Student Name \n"
   ]
  },
  {
   "cell_type": "code",
   "execution_count": 20,
   "id": "dfee57a8",
   "metadata": {},
   "outputs": [
    {
     "name": "stdout",
     "output_type": "stream",
     "text": [
      "First Name: Barbara - Age: 14\n",
      "First Name: Nora - Age: 14\n",
      "First Name: Gabriel - Age: 14\n",
      "First Name: John - Age: 14\n",
      "First Name: Jane - Age: 14\n",
      "First Name: Pat - Age: 15\n",
      "First Name: Roger - Age: 13\n",
      "First Name: John - Age: 14\n",
      "First Name: Paul - Age: 14\n",
      "First Name: Janice - Age: 14\n"
     ]
    }
   ],
   "source": [
    "from datetime import datetime\n",
    "import io\n",
    "import numpy as np\n",
    "import pandas as pd\n",
    "df = pd.read_excel('/Users/vn93214/Downloads/Dec5th2023_Python/Exam Stress Final.xlsx', sheet_name='Demography')\n",
    "df['DOB'] = pd.to_datetime(df['DOB'])\n",
    "current_date = datetime.now()\n",
    "df['Age'] = (current_date - df['DOB']) // pd.Timedelta(days=365.25)\n",
    "for index, row in df.iterrows():\n",
    "    print(f\"First Name: {row['First Name']} - Age: {row['Age']}\")\n"
   ]
  },
  {
   "cell_type": "markdown",
   "id": "8d5f7c1d",
   "metadata": {},
   "source": [
    "# Q60.\"[ 1,  2,  3,  4,  5],\n",
    "       [ 6,  7,  8,  9, 10],\n",
    "       [11, 12, 13, 14, 15],\n",
    "       [16, 17, 18, 19, 20],\n",
    "       [21, 22, 23, 24, 25],\n",
    "       [26, 27, 28, 29, 30]  In the Array,find array slicing for elements 2,8,14,20.\""
   ]
  },
  {
   "cell_type": "code",
   "execution_count": 5,
   "id": "5f2074af",
   "metadata": {},
   "outputs": [
    {
     "name": "stdout",
     "output_type": "stream",
     "text": [
      "[ 2  8 14 20]\n"
     ]
    }
   ],
   "source": [
    "import numpy as np\n",
    "arr = np.array([[1, 2, 3, 4, 5],\n",
    "                [6, 7, 8, 9, 10],\n",
    "                [11, 12, 13, 14, 15],\n",
    "                [16, 17, 18, 19, 20],\n",
    "                [21, 22, 23, 24, 25],\n",
    "                [26, 27, 28, 29, 30]])\n",
    "\n",
    "result = arr[[0, 1, 2, 3], [1, 2, 3, 4]]\n",
    "print(result)"
   ]
  },
  {
   "cell_type": "markdown",
   "id": "1c3fd292",
   "metadata": {},
   "source": [
    "# Q55.Display the Mean Heart Rate who scored least grade in final"
   ]
  },
  {
   "cell_type": "code",
   "execution_count": 2,
   "id": "14e75c0d",
   "metadata": {},
   "outputs": [
    {
     "name": "stdout",
     "output_type": "stream",
     "text": [
      "HR                          105.692\n",
      "Time in mins                    1.0\n",
      "Student_id                      S07\n",
      "Exam                      Midterm 2\n",
      "Midterm 1                        64\n",
      "Midterm 2                        33\n",
      "final                           110\n",
      "DOB             2010-08-01 00:00:00\n",
      "First Name                    Roger\n",
      "Last Name                 Frederick\n",
      "Gender                            M\n",
      "Race                        African\n",
      "Name: 4569, dtype: object\n",
      "Mean heart rate of the student who scored the least grade in Finals: 103.84210238429172\n"
     ]
    }
   ],
   "source": [
    "merged_df = pd.merge(hr, grades, on='Student_id')\n",
    "merged_df = pd.merge(merged_df, demography, on='Student_id')\n",
    "# Find the student who scored the least in Finals\n",
    "least_scored_student = merged_df.loc[merged_df['final'].idxmin()]\n",
    "print(least_scored_student)\n",
    "# Get the heart rate of the least scored student\n",
    "least_scored_hr = least_scored_student['HR']\n",
    "mean_heart_rate_least_scored = merged_df[merged_df['Student_id'] == least_scored_student['Student_id']]['HR'].mean()\n",
    "\n",
    "print(f\"Mean heart rate of the student who scored the least grade in Finals: {mean_heart_rate_least_scored}\")"
   ]
  },
  {
   "cell_type": "markdown",
   "id": "1c79e5b4",
   "metadata": {},
   "source": [
    "# Q56.Input the Lastname of the Student and Based on the gender concatinate 'MR' or 'MS' to the Full Name"
   ]
  },
  {
   "cell_type": "code",
   "execution_count": 11,
   "id": "acc051d5",
   "metadata": {},
   "outputs": [
    {
     "name": "stdout",
     "output_type": "stream",
     "text": [
      "Enter the last name of the student: Murray\n",
      "M\n",
      "The full name with title for Murray: MR. Pat Murray\n"
     ]
    }
   ],
   "source": [
    "input_last_name = input(\"Enter the last name of the student: \")\n",
    "\n",
    "# Find the gender for the input last name\n",
    "gender = demography.loc[demography['Last Name'] == input_last_name, 'Gender'].values[0]\n",
    "print(gender)\n",
    "# Concatenate 'MR' or 'MS' based on gender\n",
    "title = 'MR' if gender == 'M' else 'MS'\n",
    "\n",
    "# Get the full name\n",
    "full_name = demography.loc[demography['Last Name'] == input_last_name, 'First Name'].values[0]\n",
    "\n",
    "# Concatenate 'MR' or 'MS' to the full name\n",
    "full_name_with_title = f\"{title}. {full_name} {input_last_name}\"\n",
    "print(f\"The full name with title for {input_last_name}: {full_name_with_title}\")"
   ]
  },
  {
   "cell_type": "markdown",
   "id": "e95e480b",
   "metadata": {},
   "source": [
    "# Q59.Display full name of Student who are born in year '2010'"
   ]
  },
  {
   "cell_type": "code",
   "execution_count": 30,
   "id": "1df0d821",
   "metadata": {},
   "outputs": [
    {
     "name": "stdout",
     "output_type": "stream",
     "text": [
      "Full names of students born in the year 2010:\n",
      "6    Roger Frederick\n",
      "dtype: object\n"
     ]
    }
   ],
   "source": [
    "\n",
    "demography['DOB'] = pd.to_datetime(demography['DOB'])\n",
    "\n",
    "born_2010 = demography[demography['DOB'].dt.year == 2010]\n",
    "\n",
    "full_names_2010 = born_2010['First Name'] + ' ' + born_2010['Last Name']\n",
    "\n",
    "print(\"Full names of students born in the year 2010:\")\n",
    "print(full_names_2010)  "
   ]
  },
  {
   "cell_type": "markdown",
   "id": "03ea0aef",
   "metadata": {},
   "source": [
    "# Q64.get the last letter of last name of students using RegEX"
   ]
  },
  {
   "cell_type": "code",
   "execution_count": 23,
   "id": "25ce857c",
   "metadata": {},
   "outputs": [
    {
     "name": "stdout",
     "output_type": "stream",
     "text": [
      "0    s\n",
      "1    s\n",
      "2    s\n",
      "3    e\n",
      "4    e\n",
      "5    y\n",
      "6    k\n",
      "7    s\n",
      "8    y\n",
      "9    h\n",
      "Name: Last_Letter, dtype: object\n"
     ]
    }
   ],
   "source": [
    "import re\n",
    "demography['Last_Letter'] = demography['Last Name'].apply(lambda x: re.findall(r'(\\w)\\b', x)[0])\n",
    "\n",
    "print(demography['Last_Letter'])"
   ]
  },
  {
   "cell_type": "markdown",
   "id": "bcf74ab1",
   "metadata": {},
   "source": [
    "# Q61.Create a dataframe with Max EDA and Mean HR as the indices and the count of number of records per student as the value."
   ]
  },
  {
   "cell_type": "code",
   "execution_count": 24,
   "id": "95945871",
   "metadata": {},
   "outputs": [
    {
     "name": "stdout",
     "output_type": "stream",
     "text": [
      "  Student_id    EDA          HR\n",
      "0        S01  2.198  106.522138\n",
      "1       S010  1.423  106.231091\n",
      "2        S02  1.311  114.313813\n",
      "3        S03  1.651  103.283502\n",
      "4        S04  5.795   98.399456\n",
      "5        S05  1.611  104.806015\n",
      "6        S06  2.184  104.793488\n",
      "7        S07  1.485  103.842102\n",
      "8        S08  2.920  105.475896\n",
      "9        S09  2.756   98.802752\n",
      "                  Count\n",
      "EDA   HR               \n",
      "1.311 114.313813      1\n",
      "1.423 106.231091      1\n",
      "1.485 103.842102      1\n",
      "1.611 104.806015      1\n",
      "1.651 103.283502      1\n",
      "2.184 104.793488      1\n",
      "2.198 106.522138      1\n",
      "2.756 98.802752       1\n",
      "2.920 105.475896      1\n",
      "5.795 98.399456       1\n"
     ]
    }
   ],
   "source": [
    "\n",
    "eda = pd.DataFrame(eda)\n",
    "hr = pd.DataFrame(hr)\n",
    "\n",
    "merged_df = pd.merge(eda, hr, on='Student_id')\n",
    "summary_df = merged_df.groupby('Student_id').agg({'EDA': 'max', 'HR': 'mean'}).reset_index()\n",
    "print(summary_df)\n",
    "\n",
    "# Group by 'Max EDA' and 'Mean HR', count records per student\n",
    "result = summary_df.groupby(['EDA', 'HR']).size().reset_index(name='Count')\n",
    "\n",
    "# Set 'Max EDA' and 'Mean HR' as indices\n",
    "result.set_index(['EDA', 'HR'], inplace=True)\n",
    "print(result)"
   ]
  },
  {
   "cell_type": "markdown",
   "id": "8eb7a7a2",
   "metadata": {},
   "source": [
    "# Q63.Retrieve the row with minimum EDA using sorting technique."
   ]
  },
  {
   "cell_type": "code",
   "execution_count": 25,
   "id": "213d6f1c",
   "metadata": {},
   "outputs": [
    {
     "name": "stdout",
     "output_type": "stream",
     "text": [
      "Row with minimum EDA:\n",
      "EDA                   0.0\n",
      "Time in mins          166\n",
      "Student_id            S06\n",
      "Exam            midterm 2\n",
      "Name: 4499, dtype: object\n"
     ]
    }
   ],
   "source": [
    "sorted_df = eda.sort_values(by='EDA')\n",
    "# Retrieve the row with minimum 'EDA'\n",
    "row_with_min_EDA = sorted_df.iloc[0]\n",
    "print(\"Row with minimum EDA:\")\n",
    "print(row_with_min_EDA)"
   ]
  },
  {
   "cell_type": "markdown",
   "id": "9c32f548",
   "metadata": {},
   "source": [
    "# Q62.Print the Last name like below ouptput eg:.Last Name and count of Last Name Occurance :\n",
    "Counter({'Doe': 2, 'Walters': 1, 'Jones': 1, 'Willows': 1, 'Murray': 1, 'Frederick': 1, 'Wills': 1, 'Cartney': 1, 'Smith': 1})\""
   ]
  },
  {
   "cell_type": "code",
   "execution_count": 31,
   "id": "033613b6",
   "metadata": {},
   "outputs": [
    {
     "name": "stdout",
     "output_type": "stream",
     "text": [
      "Last Name and count of Last Name Occurrence:\n",
      "Doe          2\n",
      "Walters      1\n",
      "Jones        1\n",
      "Willows      1\n",
      "Murray       1\n",
      "Frederick    1\n",
      "Wills        1\n",
      "Cartney      1\n",
      "Smith        1\n",
      "Name: Last Name, dtype: int64\n"
     ]
    }
   ],
   "source": [
    "last_name_counts = demography['Last Name'].value_counts()\n",
    "\n",
    "# Display last name and count of last name\n",
    "print(\"Last Name and count of Last Name Occurrence:\")\n",
    "print(last_name_counts)"
   ]
  },
  {
   "cell_type": "markdown",
   "id": "fb2750cd",
   "metadata": {},
   "source": [
    "# Q57.Give Distrubution chart of MAX EDA of the midterm1"
   ]
  },
  {
   "cell_type": "code",
   "execution_count": null,
   "id": "52c2fe7f",
   "metadata": {},
   "outputs": [],
   "source": []
  }
 ],
 "metadata": {
  "kernelspec": {
   "display_name": "Python 3 (ipykernel)",
   "language": "python",
   "name": "python3"
  },
  "language_info": {
   "codemirror_mode": {
    "name": "ipython",
    "version": 3
   },
   "file_extension": ".py",
   "mimetype": "text/x-python",
   "name": "python",
   "nbconvert_exporter": "python",
   "pygments_lexer": "ipython3",
   "version": "3.10.9"
  }
 },
 "nbformat": 4,
 "nbformat_minor": 5
}
