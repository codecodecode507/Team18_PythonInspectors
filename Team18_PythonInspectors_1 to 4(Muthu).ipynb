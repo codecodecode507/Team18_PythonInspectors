{
 "cells": [
  {
   "cell_type": "code",
   "execution_count": 2,
   "id": "0001c0a4",
   "metadata": {},
   "outputs": [],
   "source": [
    "import pandas as pd\n",
    "import numpy as np"
   ]
  },
  {
   "cell_type": "code",
   "execution_count": 3,
   "id": "6c930369",
   "metadata": {},
   "outputs": [],
   "source": [
    "df = pd.read_excel(\"C:\\Python\\Python_Hackthon\\Exam Stress Final.xlsx-20231206T150515Z-001\\Exam Stress Final.xlsx\",sheet_name=None)\n",
    "grades=df['Grades']\n",
    "demography=df['Demography']\n",
    "eda=df['EDA']\n",
    "hr=df['HR']\n",
    "temp=df['Temp']\n",
    "ibi=df['IBI']"
   ]
  },
  {
   "cell_type": "markdown",
   "id": "4f860fb7",
   "metadata": {},
   "source": [
    "# Q1. Using the mean interbeat interval per minute, calculate the Root Mean Square of successive differences for any 30 minute interval and add this to IBI"
   ]
  },
  {
   "cell_type": "code",
   "execution_count": 4,
   "id": "dd121215",
   "metadata": {},
   "outputs": [
    {
     "name": "stdout",
     "output_type": "stream",
     "text": [
      "RMSSD:  0.6549284511905323\n"
     ]
    }
   ],
   "source": [
    "ibi_mean = np.mean(ibi.IBI)\n",
    "selected_interval = ibi.IBI[:30]\n",
    "successive_diff = np.diff(selected_interval)\n",
    "rmssd = np.sqrt(np.mean(successive_diff**2))\n",
    "ibi_with_rmssd = ibi_mean + rmssd\n",
    "print('RMSSD: ',ibi_with_rmssd)"
   ]
  },
  {
   "cell_type": "markdown",
   "id": "e7429a2e",
   "metadata": {},
   "source": [
    "# Q17. What % of all students are Asian?"
   ]
  },
  {
   "cell_type": "code",
   "execution_count": 5,
   "id": "76d48b11",
   "metadata": {},
   "outputs": [
    {
     "name": "stdout",
     "output_type": "stream",
     "text": [
      "Percentage of Asian Students:  20.0\n"
     ]
    }
   ],
   "source": [
    "race_counts = demography['Race'].value_counts()\n",
    "asian_percentage = (race_counts.get('Asian', 0) / len(demography)) * 100\n",
    "print(\"Percentage of Asian Students: \",asian_percentage)"
   ]
  },
  {
   "cell_type": "code",
   "execution_count": null,
   "id": "bcf8b466",
   "metadata": {},
   "outputs": [],
   "source": []
  }
 ],
 "metadata": {
  "kernelspec": {
   "display_name": "Python 3 (ipykernel)",
   "language": "python",
   "name": "python3"
  },
  "language_info": {
   "codemirror_mode": {
    "name": "ipython",
    "version": 3
   },
   "file_extension": ".py",
   "mimetype": "text/x-python",
   "name": "python",
   "nbconvert_exporter": "python",
   "pygments_lexer": "ipython3",
   "version": "3.11.5"
  }
 },
 "nbformat": 4,
 "nbformat_minor": 5
}
