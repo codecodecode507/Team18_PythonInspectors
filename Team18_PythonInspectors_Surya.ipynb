{
 "cells": [
  {
   "cell_type": "code",
   "execution_count": 39,
   "id": "4094763d",
   "metadata": {},
   "outputs": [],
   "source": [
    "\n",
    "import pandas as pd\n",
    "import numpy as np\n",
    "import matplotlib.pyplot as plt"
   ]
  },
  {
   "cell_type": "code",
   "execution_count": 2,
   "id": "b3abe5bb",
   "metadata": {},
   "outputs": [],
   "source": [
    "df = pd.read_excel(\"C:\\Surya\\DA\\Hackathons\\Python Hackathon Dec2023\\Exam Stress Final.xlsx\",sheet_name=None)\n",
    "grades=df['Grades']\n",
    "demography=df['Demography']\n",
    "eda=df['EDA']\n",
    "hr=df['HR']\n",
    "temp=df['Temp']\n",
    "ibi=df['IBI']\n"
   ]
  },
  {
   "cell_type": "markdown",
   "id": "2ab01361",
   "metadata": {},
   "source": [
    "Q1. Using the mean interbeat interval per minute, calculate the Root Mean Square of successive differences for any 30 minute interval and add this to IBI"
   ]
  },
  {
   "cell_type": "code",
   "execution_count": 3,
   "id": "1e05cf98",
   "metadata": {},
   "outputs": [
    {
     "name": "stdout",
     "output_type": "stream",
     "text": [
      "RMSSD:  0.6549284511905323\n"
     ]
    }
   ],
   "source": [
    "ibi_mean = np.mean(ibi.IBI)\n",
    "selected_interval = ibi.IBI[:30]\n",
    "successive_diff = np.diff(selected_interval)\n",
    "rmssd = np.sqrt(np.mean(successive_diff**2))\n",
    "ibi_with_rmssd = ibi_mean + rmssd\n",
    "print('RMSSD: ',ibi_with_rmssd)"
   ]
  },
  {
   "cell_type": "markdown",
   "id": "f8813855",
   "metadata": {},
   "source": [
    "Q7. \"Using numpy functions, transpose and multiply the following arrays\n",
    "a=np.arange(4).reshape(2,2)\n",
    "b=np.arange(6).reshape(3,2) \""
   ]
  },
  {
   "cell_type": "code",
   "execution_count": 18,
   "id": "16888c94",
   "metadata": {},
   "outputs": [
    {
     "name": "stdout",
     "output_type": "stream",
     "text": [
      "\n",
      " Array a:\n",
      "[[0 1]\n",
      " [2 3]]\n",
      "\n",
      " Array b:\n",
      "[[0 1]\n",
      " [2 3]\n",
      " [4 5]]\n",
      "\n",
      "Transposed Array a:\n",
      "[[0 2]\n",
      " [1 3]]\n",
      "\n",
      "Transposed Array b:\n",
      "[[0 2 4]\n",
      " [1 3 5]]\n",
      "\n",
      "Result of Transposed Multiplication:\n",
      "[[ 2  6 10]\n",
      " [ 3 11 19]]\n"
     ]
    }
   ],
   "source": [
    "a = np.arange(4).reshape(2, 2)\n",
    "b = np.arange(6).reshape(3, 2)\n",
    "print(\"\\n Array a:\")\n",
    "print(a)\n",
    "print(\"\\n Array b:\")\n",
    "print(b)\n",
    "print(\"\\nTransposed Array a:\")\n",
    "print(np.transpose(a))\n",
    "\n",
    "print(\"\\nTransposed Array b:\")\n",
    "print(np.transpose(b))\n",
    "\n",
    "print(\"\\nResult of Transposed Multiplication:\")\n",
    "print(np.dot(a_transposed, b_transposed))"
   ]
  },
  {
   "cell_type": "markdown",
   "id": "282aa5b8",
   "metadata": {},
   "source": [
    "Q8.Write a Python program to create an array of 5 integers and display the array items in reverse order"
   ]
  },
  {
   "cell_type": "code",
   "execution_count": 13,
   "id": "137cb5ae",
   "metadata": {},
   "outputs": [
    {
     "name": "stdout",
     "output_type": "stream",
     "text": [
      "Array Created: [1 2 3 4 5]\n",
      "\n",
      "Array in Reverse Order: [5 4 3 2 1]\n"
     ]
    }
   ],
   "source": [
    "array1 = np.array([1, 2, 3, 4, 5])\n",
    "print(\"Array Created:\", array1)\n",
    "\n",
    "rev_array1 = np.flip(array1)\n",
    "print(\"\\nArray in Reverse Order:\", rev_array1)"
   ]
  },
  {
   "cell_type": "markdown",
   "id": "998280ce",
   "metadata": {},
   "source": [
    "Q9. What was the average grade for all students in the final exam vs both midterms"
   ]
  },
  {
   "cell_type": "code",
   "execution_count": 16,
   "id": "fa30319c",
   "metadata": {},
   "outputs": [
    {
     "name": "stdout",
     "output_type": "stream",
     "text": [
      "Average Grade for all Students:\n",
      "            Midterm 1  Midterm 2  final\n",
      "Student_id                             \n",
      "S01              78.0       82.0  182.0\n",
      "S02              82.0       85.0  180.0\n",
      "S03              77.0       90.0  188.0\n",
      "S04              75.0       77.0  149.0\n",
      "S05              67.0       77.0  157.0\n",
      "S06              71.0       64.0  175.0\n",
      "S07              64.0       33.0  110.0\n",
      "S08              92.0       88.0  184.0\n",
      "S09              80.0       39.0  126.0\n",
      "S10              89.0       64.0  116.0\n"
     ]
    }
   ],
   "source": [
    "average_grades_by_student = grades.groupby('Student_id').mean()\n",
    "\n",
    "print(\"Average Grade for all Students:\")\n",
    "print(average_grades_by_student)"
   ]
  },
  {
   "cell_type": "code",
   "execution_count": 25,
   "id": "f5d1eb42",
   "metadata": {},
   "outputs": [
    {
     "name": "stdout",
     "output_type": "stream",
     "text": [
      "Full Names of Students Born in 2010:\n",
      "Roger Frederick\n"
     ]
    }
   ],
   "source": [
    "for index, row in demography.iterrows():\n",
    "    if row['DOB'].year == 2010:\n",
    "        full_name = f\"{row['First Name']} {row['Last Name']}\"\n",
    "        students_born_2010_names.append(full_name)\n",
    "\n",
    "# Display the full names of students born in 2010\n",
    "print(\"Full Names of Students Born in 2010:\")\n",
    "for name in students_born_2010_names:\n",
    "    print(name)"
   ]
  },
  {
   "cell_type": "code",
   "execution_count": 27,
   "id": "7af6cc62",
   "metadata": {},
   "outputs": [
    {
     "name": "stdout",
     "output_type": "stream",
     "text": [
      "Full Names of Students Born in 2010:\n",
      "Roger Frederick\n"
     ]
    }
   ],
   "source": [
    "# Create an empty list to store full names of students born in 2010\n",
    "students_born_2010_names = []\n",
    "\n",
    "# Iterate through rows and check if the student was born in 2010\n",
    "for index, row in demography.iterrows():\n",
    "    if row['DOB'].year == 2010:\n",
    "        full_name = f\"{row['First Name']} {row['Last Name']}\"\n",
    "        students_born_2010_names.append(full_name)\n",
    "\n",
    "# Display the full names of students born in 2010\n",
    "print(\"Full Names of Students Born in 2010:\")\n",
    "for name in students_born_2010_names:\n",
    "    print(name)"
   ]
  },
  {
   "cell_type": "code",
   "execution_count": 30,
   "id": "0d212303",
   "metadata": {},
   "outputs": [
    {
     "name": "stdout",
     "output_type": "stream",
     "text": [
      "Full Names of Students Born in 2010:\n",
      "First Name Last Name\n",
      "     Roger Frederick\n"
     ]
    }
   ],
   "source": [
    "students_born_2010 = demography[demography['DOB'].dt.year == 2010]\n",
    "\n",
    "# Display the full names of students born in 2010 without row numbers\n",
    "print(\"Full Names of Students Born in 2010:\")\n",
    "print(students_born_2010[['First Name', 'Last Name']].to_string(index=False))"
   ]
  },
  {
   "cell_type": "code",
   "execution_count": 35,
   "id": "2f7b90ca",
   "metadata": {},
   "outputs": [
    {
     "name": "stdout",
     "output_type": "stream",
     "text": [
      "The average HR of students with top 3 grades in Midterm 2: 107.99\n"
     ]
    }
   ],
   "source": [
    "top_3_midterm2 = grades.sort_values(by='Midterm 2', ascending=False).head(3)\n",
    "\n",
    "# Get the Student_ids of the top 3 grades\n",
    "top_3_student_ids = top_3_midterm2['Student_id']\n",
    "\n",
    "# Filter the HR DataFrame for students with top 3 grades in Midterm 2\n",
    "hr_top_3 = hr[hr['Student_id'].isin(top_3_student_ids)]\n",
    "\n",
    "# Calculate the average HR for these students\n",
    "average_hr_top_3 = hr_top_3['HR'].mean()\n",
    "\n",
    "print(f\"The average HR of students with top 3 grades in Midterm 2: {average_hr_top_3:.2f}\")"
   ]
  },
  {
   "cell_type": "code",
   "execution_count": 38,
   "id": "367afb32",
   "metadata": {},
   "outputs": [
    {
     "data": {
      "image/png": "[encoded data removed]",
      "text/plain": [
       "<Figure size 640x480 with 1 Axes>"
      ]
     },
     "metadata": {},
     "output_type": "display_data"
    }
   ],
   "source": [
    "plt.bar(grades['Student_id'], grades['Midterm 1'])\n",
    "\n",
    "# Set labels and title\n",
    "plt.xlabel('Student ID')\n",
    "plt.ylabel('Midterm 1 Grade')\n",
    "plt.title('Midterm 1 Grades of Students')\n",
    "\n",
    "# Display the bar chart\n",
    "plt.show()"
   ]
  },
  {
   "cell_type": "code",
   "execution_count": 40,
   "id": "3bce03ac",
   "metadata": {},
   "outputs": [
    {
     "name": "stdout",
     "output_type": "stream",
     "text": [
      "The percentage of female students is: 50.00%\n"
     ]
    }
   ],
   "source": [
    "female_percentage = (demography['Gender'].value_counts(normalize=True).get('F', 0)) * 100\n",
    "\n",
    "print(f\"The percentage of female students is: {female_percentage:.2f}%\")"
   ]
  },
  {
   "cell_type": "code",
   "execution_count": 42,
   "id": "e1c47d9c",
   "metadata": {},
   "outputs": [
    {
     "name": "stdout",
     "output_type": "stream",
     "text": [
      "Students for whom temperature fell below basal body temp of 36 degrees:\n",
      "        TEMP  Time in mins Student_id       Exam\n",
      "0     22.080             1        S01      final\n",
      "1     22.048             2        S01      final\n",
      "2     22.022             3        S01      final\n",
      "3     22.339             4        S01      final\n",
      "4     22.416             5        S01      final\n",
      "...      ...           ...        ...        ...\n",
      "7369  22.344           212       S010  Midterm 2\n",
      "7370  22.341           213       S010  Midterm 2\n",
      "7371  22.344           214       S010  Midterm 2\n",
      "7372  22.342           215       S010  Midterm 2\n",
      "7373  22.346           216       S010  Midterm 2\n",
      "\n",
      "[7367 rows x 4 columns]\n"
     ]
    }
   ],
   "source": [
    "students_below_basal_temp = temp[temp['TEMP'] < 36]\n",
    "\n",
    "# Display the relevant information\n",
    "print(\"Students for whom temperature fell below basal body temp of 36 degrees:\")\n",
    "print(students_below_basal_temp)"
   ]
  },
  {
   "cell_type": "code",
   "execution_count": 44,
   "id": "8656bc8b",
   "metadata": {},
   "outputs": [
    {
     "name": "stdout",
     "output_type": "stream",
     "text": [
      "Distinct Student IDs for whom temperature fell below basal body temp of 36 degrees:\n",
      "0        S01\n",
      "760      S02\n",
      "1612     S03\n",
      "2415     S04\n",
      "3097     S05\n",
      "3751     S06\n",
      "4570     S07\n",
      "5283     S08\n",
      "5926     S09\n",
      "6580    S010\n",
      "Name: Student_id, dtype: object\n"
     ]
    }
   ],
   "source": [
    "students_below_basal_temp = temp[temp['TEMP'] < 36]\n",
    "\n",
    "# Extract distinct student IDs from the filtered DataFrame\n",
    "distinct_student_ids = students_below_basal_temp['Student_id'].drop_duplicates()\n",
    "\n",
    "# Display distinct student IDs for whom temperature fell below basal body temp\n",
    "print(\"Distinct Student IDs for whom temperature fell below basal body temp of 36 degrees:\")\n",
    "print(distinct_student_ids)"
   ]
  },
  {
   "cell_type": "code",
   "execution_count": 46,
   "id": "6092e9aa",
   "metadata": {},
   "outputs": [
    {
     "name": "stdout",
     "output_type": "stream",
     "text": [
      "Distinct Student IDs with first name and last name for whom temperature fell below basal body temp of 36 degrees:\n",
      "     Student_id First Name  Last Name\n",
      "0           S01    Barbara    Walters\n",
      "760         S02       Nora      Jones\n",
      "1605        S03    Gabriel    Willows\n",
      "2408        S04       John        Doe\n",
      "3090        S05       Jane        Doe\n",
      "3744        S06        Pat     Murray\n",
      "4563        S07      Roger  Frederick\n",
      "5276        S08       John      Wills\n",
      "5919        S09       Paul    Cartney\n"
     ]
    }
   ],
   "source": [
    "students_below_basal_temp = temp[temp['TEMP'] < 36]\n",
    "\n",
    "# Merge with Demography to get first name and last name\n",
    "result_df = pd.merge(students_below_basal_temp[['Student_id']],\n",
    "                     demography[['Student_id', 'First Name', 'Last Name']],\n",
    "                     on='Student_id',\n",
    "                     how='inner')\n",
    "\n",
    "# Display distinct student IDs with first name and last name\n",
    "print(\"Distinct Student IDs with first name and last name for whom temperature fell below basal body temp of 36 degrees:\")\n",
    "print(result_df.drop_duplicates(subset='Student_id'))"
   ]
  },
  {
   "cell_type": "code",
   "execution_count": 47,
   "id": "fd112f20",
   "metadata": {},
   "outputs": [
    {
     "name": "stdout",
     "output_type": "stream",
     "text": [
      "Joe's phone number not found\n"
     ]
    }
   ],
   "source": [
    "phonebook = {\"john\": 938477566, \"Jack\": 938377264, \"Jill\": 947662781}\n",
    "\n",
    "# Attempt to find Joe's phone number with a default value\n",
    "joe_phone = phonebook.get(\"Joe\", \"Joe's phone number not found\")\n",
    "\n",
    "print(joe_phone)"
   ]
  },
  {
   "cell_type": "code",
   "execution_count": 51,
   "id": "1c6d1399",
   "metadata": {},
   "outputs": [
    {
     "name": "stdout",
     "output_type": "stream",
     "text": [
      "nan\n",
      "The average duration of Midterm 2 for all 10 students: nan minutes\n"
     ]
    }
   ],
   "source": [
    "midterm2_df = eda[eda['Exam'] == 'Midterm 2']\n",
    "\n",
    "# Calculate the average duration of Midterm 2\n",
    "average_duration_midterm2 = midterm2_df['Time in mins'].mean()\n",
    "print(average_duration_midterm2)\n",
    "\n",
    "print(f\"The average duration of Midterm 2 for all 10 students: {average_duration_midterm2:.2f} minutes\")"
   ]
  },
  {
   "cell_type": "code",
   "execution_count": 57,
   "id": "d73b5e61",
   "metadata": {},
   "outputs": [
    {
     "name": "stdout",
     "output_type": "stream",
     "text": [
      "        EDA  Time in mins Student_id       Exam\n",
      "575   0.040             1        S01  midterm 2\n",
      "576   0.024             2        S01  midterm 2\n",
      "577   0.023             3        S01  midterm 2\n",
      "578   0.024             4        S01  midterm 2\n",
      "579   0.024             5        S01  midterm 2\n",
      "...     ...           ...        ...        ...\n",
      "7369  0.021           212       S010  midterm 2\n",
      "7370  0.021           213       S010  midterm 2\n",
      "7371  0.021           214       S010  midterm 2\n",
      "7372  0.021           215       S010  midterm 2\n",
      "7373  0.021           216       S010  midterm 2\n",
      "\n",
      "[2014 rows x 4 columns]\n",
      "The average duration of Midterm 2 for all 10 students: 102.63 minutes\n"
     ]
    }
   ],
   "source": [
    "midterm2_df = eda[eda['Exam'] == 'midterm 2']\n",
    "print(midterm2_df)\n",
    "\n",
    "# Calculate the average duration of Midterm 2, excluding NaN values\n",
    "average_duration_midterm2 = midterm2_df['Time in mins'].mean()\n",
    "\n",
    "print(f\"The average duration of Midterm 2 for all 10 students: {average_duration_midterm2:.2f} minutes\")"
   ]
  },
  {
   "cell_type": "code",
   "execution_count": null,
   "id": "6d9ef861",
   "metadata": {},
   "outputs": [],
   "source": [
    "print(demography[demography[]])"
   ]
  }
 ],
 "metadata": {
  "kernelspec": {
   "display_name": "Python 3 (ipykernel)",
   "language": "python",
   "name": "python3"
  },
  "language_info": {
   "codemirror_mode": {
    "name": "ipython",
    "version": 3
   },
   "file_extension": ".py",
   "mimetype": "text/x-python",
   "name": "python",
   "nbconvert_exporter": "python",
   "pygments_lexer": "ipython3",
   "version": "3.10.9"
  }
 },
 "nbformat": 4,
 "nbformat_minor": 5
}
