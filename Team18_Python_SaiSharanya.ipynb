{
 "cells": [
  {
   "cell_type": "code",
   "execution_count": 38,
   "id": "3e1f1a5e",
   "metadata": {},
   "outputs": [
    {
     "name": "stdout",
     "output_type": "stream",
     "text": [
      "Requirement already satisfied: matplotlib in ./anaconda3/lib/python3.11/site-packages (3.7.2)\n",
      "Requirement already satisfied: contourpy>=1.0.1 in ./anaconda3/lib/python3.11/site-packages (from matplotlib) (1.0.5)\n",
      "Requirement already satisfied: cycler>=0.10 in ./anaconda3/lib/python3.11/site-packages (from matplotlib) (0.11.0)\n",
      "Requirement already satisfied: fonttools>=4.22.0 in ./anaconda3/lib/python3.11/site-packages (from matplotlib) (4.25.0)\n",
      "Requirement already satisfied: kiwisolver>=1.0.1 in ./anaconda3/lib/python3.11/site-packages (from matplotlib) (1.4.4)\n",
      "Requirement already satisfied: numpy>=1.20 in ./anaconda3/lib/python3.11/site-packages (from matplotlib) (1.24.3)\n",
      "Requirement already satisfied: packaging>=20.0 in ./anaconda3/lib/python3.11/site-packages (from matplotlib) (23.1)\n",
      "Requirement already satisfied: pillow>=6.2.0 in ./anaconda3/lib/python3.11/site-packages (from matplotlib) (9.4.0)\n",
      "Requirement already satisfied: pyparsing<3.1,>=2.3.1 in ./anaconda3/lib/python3.11/site-packages (from matplotlib) (3.0.9)\n",
      "Requirement already satisfied: python-dateutil>=2.7 in ./anaconda3/lib/python3.11/site-packages (from matplotlib) (2.8.2)\n",
      "Requirement already satisfied: six>=1.5 in ./anaconda3/lib/python3.11/site-packages (from python-dateutil>=2.7->matplotlib) (1.16.0)\n"
     ]
    }
   ],
   "source": [
    "import pandas as pd\n",
    "!pip install matplotlib\n",
    "import numpy as np\n",
    "#pip install openpyxl"
   ]
  },
  {
   "cell_type": "code",
   "execution_count": 43,
   "id": "73c0667a",
   "metadata": {},
   "outputs": [],
   "source": [
    "import pandas as pd\n",
    "dataset_grades = pd.read_excel(\"~/Sharanya/Sharanya_Numpy/ExamStressFinal.xlsx\", sheet_name=\"Grades\")\n",
    "dataset_demography = pd.read_excel(\"~/Sharanya/Sharanya_Numpy/ExamStressFinal.xlsx\", sheet_name=\"Demography\")\n",
    "dataset_eda = pd.read_excel(\"~/Sharanya/Sharanya_Numpy/ExamStressFinal.xlsx\", sheet_name=\"EDA\")\n",
    "dataset_hr = pd.read_excel(\"~/Sharanya/Sharanya_Numpy/ExamStressFinal.xlsx\", sheet_name=\"HR\")\n",
    "dataset_temp = pd.read_excel(\"~/Sharanya/Sharanya_Numpy/ExamStressFinal.xlsx\", sheet_name=\"Temp\")\n",
    "dataset_ibi = pd.read_excel(\"~/Sharanya/Sharanya_Numpy/ExamStressFinal.xlsx\", sheet_name=\"IBI\")"
   ]
  },
  {
   "cell_type": "code",
   "execution_count": 48,
   "id": "06f58861",
   "metadata": {},
   "outputs": [
    {
     "data": {
      "text/html": [
       "<div>\n",
       "<style scoped>\n",
       "    .dataframe tbody tr th:only-of-type {\n",
       "        vertical-align: middle;\n",
       "    }\n",
       "\n",
       "    .dataframe tbody tr th {\n",
       "        vertical-align: top;\n",
       "    }\n",
       "\n",
       "    .dataframe thead th {\n",
       "        text-align: right;\n",
       "    }\n",
       "</style>\n",
       "<table border=\"1\" class=\"dataframe\">\n",
       "  <thead>\n",
       "    <tr style=\"text-align: right;\">\n",
       "      <th></th>\n",
       "      <th>Time in mins</th>\n",
       "      <th>IBI</th>\n",
       "      <th>Student_id</th>\n",
       "      <th>Exam</th>\n",
       "    </tr>\n",
       "  </thead>\n",
       "  <tbody>\n",
       "    <tr>\n",
       "      <th>0</th>\n",
       "      <td>0</td>\n",
       "      <td>0.446</td>\n",
       "      <td>S01</td>\n",
       "      <td>final</td>\n",
       "    </tr>\n",
       "    <tr>\n",
       "      <th>1</th>\n",
       "      <td>1</td>\n",
       "      <td>0.473</td>\n",
       "      <td>S01</td>\n",
       "      <td>final</td>\n",
       "    </tr>\n",
       "    <tr>\n",
       "      <th>2</th>\n",
       "      <td>3</td>\n",
       "      <td>0.444</td>\n",
       "      <td>S01</td>\n",
       "      <td>final</td>\n",
       "    </tr>\n",
       "    <tr>\n",
       "      <th>3</th>\n",
       "      <td>4</td>\n",
       "      <td>0.496</td>\n",
       "      <td>S01</td>\n",
       "      <td>final</td>\n",
       "    </tr>\n",
       "    <tr>\n",
       "      <th>4</th>\n",
       "      <td>8</td>\n",
       "      <td>0.448</td>\n",
       "      <td>S01</td>\n",
       "      <td>final</td>\n",
       "    </tr>\n",
       "  </tbody>\n",
       "</table>\n",
       "</div>"
      ],
      "text/plain": [
       "   Time in mins    IBI Student_id   Exam\n",
       "0             0  0.446        S01  final\n",
       "1             1  0.473        S01  final\n",
       "2             3  0.444        S01  final\n",
       "3             4  0.496        S01  final\n",
       "4             8  0.448        S01  final"
      ]
     },
     "execution_count": 48,
     "metadata": {},
     "output_type": "execute_result"
    }
   ],
   "source": [
    "dataset_ibi.head()"
   ]
  },
  {
   "cell_type": "markdown",
   "id": "06db467e",
   "metadata": {},
   "source": [
    "# Q65 Generate a 3x3  Array using Random values between 1to 9  and Fix the values and position  in Next Run."
   ]
  },
  {
   "cell_type": "code",
   "execution_count": 64,
   "id": "b580edae",
   "metadata": {},
   "outputs": [
    {
     "name": "stdout",
     "output_type": "stream",
     "text": [
      "[[3 7 2]\n",
      " [1 5 7]\n",
      " [2 4 7]]\n"
     ]
    }
   ],
   "source": [
    "#Generating the random array\n",
    "random_int = np.random.randint(1,9,(3,3))\n",
    "#printing the random array\n",
    "print(random_int)"
   ]
  },
  {
   "cell_type": "code",
   "execution_count": 66,
   "id": "9b99a7b7",
   "metadata": {},
   "outputs": [
    {
     "name": "stdout",
     "output_type": "stream",
     "text": [
      "[[5 1 2]\n",
      " [1 2 9]\n",
      " [1 9 7]]\n"
     ]
    }
   ],
   "source": [
    "# set a seed for reproducibility\n",
    "np.random.seed(10)\n",
    "# generating the fixed array\n",
    "fixed_array = np.random.randint(1, 10, size=(3, 3))\n",
    "#printing the fixed array\n",
    "print(fixed_array)"
   ]
  },
  {
   "cell_type": "markdown",
   "id": "b537706e",
   "metadata": {},
   "source": [
    "# Q66 Find the way to reverse string for given input (eg: input : this is python hackathon output:hackathon python is this)"
   ]
  },
  {
   "cell_type": "code",
   "execution_count": null,
   "id": "29141d50",
   "metadata": {},
   "outputs": [],
   "source": []
  },
  {
   "cell_type": "code",
   "execution_count": null,
   "id": "659a003e",
   "metadata": {},
   "outputs": [],
   "source": []
  }
 ],
 "metadata": {
  "kernelspec": {
   "display_name": "Python 3 (ipykernel)",
   "language": "python",
   "name": "python3"
  },
  "language_info": {
   "codemirror_mode": {
    "name": "ipython",
    "version": 3
   },
   "file_extension": ".py",
   "mimetype": "text/x-python",
   "name": "python",
   "nbconvert_exporter": "python",
   "pygments_lexer": "ipython3",
   "version": "3.11.5"
  }
 },
 "nbformat": 4,
 "nbformat_minor": 5
}
