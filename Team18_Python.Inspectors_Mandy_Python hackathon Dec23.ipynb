{
 "cells": [
  {
   "cell_type": "code",
   "execution_count": 16,
   "id": "e511b641",
   "metadata": {},
   "outputs": [],
   "source": [
    "import pandas as pd\n",
    "import numpy as np"
   ]
  },
  {
   "cell_type": "code",
   "execution_count": 72,
   "id": "7ffe3546",
   "metadata": {},
   "outputs": [],
   "source": [
    "df=pd.read_excel(\"Exam Stress Final.xlsx\",sheet_name=None)"
   ]
  },
  {
   "cell_type": "code",
   "execution_count": 116,
   "id": "c4c2e7db",
   "metadata": {},
   "outputs": [],
   "source": [
    "grades=df['Grades']\n",
    "demography=df['Demography']\n",
    "eda=df['EDA']\n",
    "hr=df['HR']\n",
    "temp=df['Temp']\n",
    "ibi=df['IBI']"
   ]
  },
  {
   "cell_type": "markdown",
   "id": "dd3b88bd",
   "metadata": {},
   "source": [
    "# Q-2 Group the rows in file EDA in 3 parts- First ,second and third part of each exam"
   ]
  },
  {
   "cell_type": "code",
   "execution_count": 111,
   "id": "494204ad",
   "metadata": {},
   "outputs": [],
   "source": [
    "df=pd.read_csv(\"C:/Users/mande/Jupyterdocs/Py Hack/Data/EDA.csv\")\n",
    "grouped_data = df.groupby('Exam')"
   ]
  },
  {
   "cell_type": "code",
   "execution_count": 54,
   "id": "3f581003",
   "metadata": {},
   "outputs": [
    {
     "name": "stdout",
     "output_type": "stream",
     "text": [
      "final\n",
      "      EDA Value  Time in mins Student_id   Exam\n",
      "0         0.040             1        S01  final\n",
      "1         0.024             2        S01  final\n",
      "2         0.024             3        S01  final\n",
      "3         0.024             4        S01  final\n",
      "4         0.024             5        S01  final\n",
      "...         ...           ...        ...    ...\n",
      "6959      0.021           380       S010  final\n",
      "6960      0.021           381       S010  final\n",
      "6961      0.021           382       S010  final\n",
      "6962      0.021           383       S010  final\n",
      "6963      0.021           384       S010  final\n",
      "\n",
      "[3403 rows x 4 columns]\n",
      "midterm 1\n",
      "      EDA Value  Time in mins Student_id       Exam\n",
      "389       0.040             1        S01  midterm 1\n",
      "390       0.023             2        S01  midterm 1\n",
      "391       0.023             3        S01  midterm 1\n",
      "392       0.023             4        S01  midterm 1\n",
      "393       0.023             5        S01  midterm 1\n",
      "...         ...           ...        ...        ...\n",
      "7153      0.022           190       S010  midterm 1\n",
      "7154      0.021           191       S010  midterm 1\n",
      "7155      0.021           192       S010  midterm 1\n",
      "7156      0.021           193       S010  midterm 1\n",
      "7157      0.021           194       S010  midterm 1\n",
      "\n",
      "[1957 rows x 4 columns]\n",
      "midterm 2\n",
      "      EDA Value  Time in mins Student_id       Exam\n",
      "575       0.040             1        S01  midterm 2\n",
      "576       0.024             2        S01  midterm 2\n",
      "577       0.023             3        S01  midterm 2\n",
      "578       0.024             4        S01  midterm 2\n",
      "579       0.024             5        S01  midterm 2\n",
      "...         ...           ...        ...        ...\n",
      "7369      0.021           212       S010  midterm 2\n",
      "7370      0.021           213       S010  midterm 2\n",
      "7371      0.021           214       S010  midterm 2\n",
      "7372      0.021           215       S010  midterm 2\n",
      "7373      0.021           216       S010  midterm 2\n",
      "\n",
      "[2014 rows x 4 columns]\n"
     ]
    }
   ],
   "source": [
    "\n",
    "for exam, group in grouped_data:\n",
    "    print(exam)\n",
    "    print(group)"
   ]
  },
  {
   "cell_type": "markdown",
   "id": "c1beacb9",
   "metadata": {},
   "source": [
    "# Q3 Which part of the exam did students suffer max stress?"
   ]
  },
  {
   "cell_type": "code",
   "execution_count": 49,
   "id": "8cd26e45",
   "metadata": {},
   "outputs": [],
   "source": [
    "# Finding the max EDA value for all 3  exam parts\n",
    "max_values = df.groupby('Exam')['EDA Value'].max()"
   ]
  },
  {
   "cell_type": "code",
   "execution_count": 46,
   "id": "d91eb29c",
   "metadata": {},
   "outputs": [
    {
     "name": "stdout",
     "output_type": "stream",
     "text": [
      "Exam\n",
      "final        2.920\n",
      "midterm 1    3.130\n",
      "midterm 2    5.795\n",
      "Name: EDA Value, dtype: float64\n"
     ]
    }
   ],
   "source": [
    "print(max_values)"
   ]
  },
  {
   "cell_type": "code",
   "execution_count": 50,
   "id": "cfe615f2",
   "metadata": {},
   "outputs": [],
   "source": [
    "# Finding  the max EDA value for each exam for each student ID\n",
    "max_values = df.groupby(['Student_id', 'Exam'])['EDA Value'].max()"
   ]
  },
  {
   "cell_type": "code",
   "execution_count": 51,
   "id": "b974d76a",
   "metadata": {},
   "outputs": [
    {
     "name": "stdout",
     "output_type": "stream",
     "text": [
      "Student_id  Exam     \n",
      "S01         final        0.224\n",
      "            midterm 1    2.198\n",
      "            midterm 2    0.511\n",
      "S010        final        1.214\n",
      "            midterm 1    0.538\n",
      "            midterm 2    1.423\n",
      "S02         final        0.582\n",
      "            midterm 1    1.311\n",
      "            midterm 2    1.202\n",
      "S03         final        1.147\n",
      "            midterm 1    1.322\n",
      "            midterm 2    1.651\n",
      "S04         final        2.778\n",
      "            midterm 1    3.130\n",
      "            midterm 2    5.795\n",
      "S05         final        1.492\n",
      "            midterm 1    1.611\n",
      "            midterm 2    1.012\n",
      "S06         final        1.127\n",
      "            midterm 1    2.184\n",
      "            midterm 2    1.401\n",
      "S07         final        1.485\n",
      "            midterm 1    0.770\n",
      "            midterm 2    1.284\n",
      "S08         final        2.920\n",
      "            midterm 1    1.628\n",
      "            midterm 2    1.545\n",
      "S09         final        0.825\n",
      "            midterm 1    0.400\n",
      "            midterm 2    2.756\n",
      "Name: EDA Value, dtype: float64\n"
     ]
    }
   ],
   "source": [
    "print(max_values)"
   ]
  },
  {
   "cell_type": "code",
   "execution_count": 52,
   "id": "c3e543a9",
   "metadata": {},
   "outputs": [],
   "source": [
    "# Calculating the mean of the max EDA values for each exam\n",
    "mean_max_values = max_values.groupby('Exam').mean()"
   ]
  },
  {
   "cell_type": "code",
   "execution_count": 133,
   "id": "2bc1377f",
   "metadata": {
    "scrolled": true
   },
   "outputs": [
    {
     "name": "stdout",
     "output_type": "stream",
     "text": [
      "Exam\n",
      "final        1.3794\n",
      "midterm 1    1.5092\n",
      "midterm 2    1.8580\n",
      "Name: EDA Value, dtype: float64\n"
     ]
    }
   ],
   "source": [
    "print(mean_max_values)\n"
   ]
  },
  {
   "cell_type": "raw",
   "id": "3a39ce35",
   "metadata": {},
   "source": [
    " Max EDA value for each exam part (Highest is Midterm2)  and mean of max EDA values(Highest is Midterm 2) show that students suffer max stress in Midterm 2 Exams."
   ]
  },
  {
   "cell_type": "markdown",
   "id": "370f1236",
   "metadata": {},
   "source": [
    "# Q45 Find the student's Max Mean EDA who are attending final"
   ]
  },
  {
   "cell_type": "code",
   "execution_count": 57,
   "id": "96ace7a7",
   "metadata": {},
   "outputs": [],
   "source": [
    "#  data where the exam is final\n",
    "final_df = df[df['Exam'] == 'final']\n"
   ]
  },
  {
   "cell_type": "code",
   "execution_count": 58,
   "id": "1ef1a4df",
   "metadata": {},
   "outputs": [
    {
     "data": {
      "text/html": [
       "<div>\n",
       "<style scoped>\n",
       "    .dataframe tbody tr th:only-of-type {\n",
       "        vertical-align: middle;\n",
       "    }\n",
       "\n",
       "    .dataframe tbody tr th {\n",
       "        vertical-align: top;\n",
       "    }\n",
       "\n",
       "    .dataframe thead th {\n",
       "        text-align: right;\n",
       "    }\n",
       "</style>\n",
       "<table border=\"1\" class=\"dataframe\">\n",
       "  <thead>\n",
       "    <tr style=\"text-align: right;\">\n",
       "      <th></th>\n",
       "      <th>EDA Value</th>\n",
       "      <th>Time in mins</th>\n",
       "      <th>Student_id</th>\n",
       "      <th>Exam</th>\n",
       "    </tr>\n",
       "  </thead>\n",
       "  <tbody>\n",
       "    <tr>\n",
       "      <th>0</th>\n",
       "      <td>0.040</td>\n",
       "      <td>1</td>\n",
       "      <td>S01</td>\n",
       "      <td>final</td>\n",
       "    </tr>\n",
       "    <tr>\n",
       "      <th>1</th>\n",
       "      <td>0.024</td>\n",
       "      <td>2</td>\n",
       "      <td>S01</td>\n",
       "      <td>final</td>\n",
       "    </tr>\n",
       "    <tr>\n",
       "      <th>2</th>\n",
       "      <td>0.024</td>\n",
       "      <td>3</td>\n",
       "      <td>S01</td>\n",
       "      <td>final</td>\n",
       "    </tr>\n",
       "    <tr>\n",
       "      <th>3</th>\n",
       "      <td>0.024</td>\n",
       "      <td>4</td>\n",
       "      <td>S01</td>\n",
       "      <td>final</td>\n",
       "    </tr>\n",
       "    <tr>\n",
       "      <th>4</th>\n",
       "      <td>0.024</td>\n",
       "      <td>5</td>\n",
       "      <td>S01</td>\n",
       "      <td>final</td>\n",
       "    </tr>\n",
       "    <tr>\n",
       "      <th>...</th>\n",
       "      <td>...</td>\n",
       "      <td>...</td>\n",
       "      <td>...</td>\n",
       "      <td>...</td>\n",
       "    </tr>\n",
       "    <tr>\n",
       "      <th>6959</th>\n",
       "      <td>0.021</td>\n",
       "      <td>380</td>\n",
       "      <td>S010</td>\n",
       "      <td>final</td>\n",
       "    </tr>\n",
       "    <tr>\n",
       "      <th>6960</th>\n",
       "      <td>0.021</td>\n",
       "      <td>381</td>\n",
       "      <td>S010</td>\n",
       "      <td>final</td>\n",
       "    </tr>\n",
       "    <tr>\n",
       "      <th>6961</th>\n",
       "      <td>0.021</td>\n",
       "      <td>382</td>\n",
       "      <td>S010</td>\n",
       "      <td>final</td>\n",
       "    </tr>\n",
       "    <tr>\n",
       "      <th>6962</th>\n",
       "      <td>0.021</td>\n",
       "      <td>383</td>\n",
       "      <td>S010</td>\n",
       "      <td>final</td>\n",
       "    </tr>\n",
       "    <tr>\n",
       "      <th>6963</th>\n",
       "      <td>0.021</td>\n",
       "      <td>384</td>\n",
       "      <td>S010</td>\n",
       "      <td>final</td>\n",
       "    </tr>\n",
       "  </tbody>\n",
       "</table>\n",
       "<p>3403 rows × 4 columns</p>\n",
       "</div>"
      ],
      "text/plain": [
       "      EDA Value  Time in mins Student_id   Exam\n",
       "0         0.040             1        S01  final\n",
       "1         0.024             2        S01  final\n",
       "2         0.024             3        S01  final\n",
       "3         0.024             4        S01  final\n",
       "4         0.024             5        S01  final\n",
       "...         ...           ...        ...    ...\n",
       "6959      0.021           380       S010  final\n",
       "6960      0.021           381       S010  final\n",
       "6961      0.021           382       S010  final\n",
       "6962      0.021           383       S010  final\n",
       "6963      0.021           384       S010  final\n",
       "\n",
       "[3403 rows x 4 columns]"
      ]
     },
     "execution_count": 58,
     "metadata": {},
     "output_type": "execute_result"
    }
   ],
   "source": [
    "final_df"
   ]
  },
  {
   "cell_type": "code",
   "execution_count": 70,
   "id": "57555ba4",
   "metadata": {},
   "outputs": [
    {
     "name": "stdout",
     "output_type": "stream",
     "text": [
      "Max mean EDA of students in final exam are:\n",
      "Student_id\n",
      "S01     0.103118\n",
      "S010    0.111297\n",
      "S02     0.078360\n",
      "S03     0.169737\n",
      "S04     0.526800\n",
      "S05     0.542409\n",
      "S06     0.129932\n",
      "S07     0.212474\n",
      "S08     0.534721\n",
      "S09     0.402572\n",
      "Name: EDA Value, dtype: float64\n"
     ]
    }
   ],
   "source": [
    "# Group by Student_id and calculate the mean of EDA\n",
    "mean_eda_by_student = final_df.groupby('Student_id')['EDA Value'].mean()\n",
    "\n",
    "\n",
    "print (\"Max mean EDA of students in final exam are:\")\n",
    "print (mean_eda_by_student)\n",
    "\n",
    "\n"
   ]
  },
  {
   "cell_type": "markdown",
   "id": "a253bc3b",
   "metadata": {},
   "source": []
  },
  {
   "cell_type": "markdown",
   "id": "46f99d0d",
   "metadata": {},
   "source": []
  }
 ],
 "metadata": {
  "kernelspec": {
   "display_name": "Python 3 (ipykernel)",
   "language": "python",
   "name": "python3"
  },
  "language_info": {
   "codemirror_mode": {
    "name": "ipython",
    "version": 3
   },
   "file_extension": ".py",
   "mimetype": "text/x-python",
   "name": "python",
   "nbconvert_exporter": "python",
   "pygments_lexer": "ipython3",
   "version": "3.9.7"
  }
 },
 "nbformat": 4,
 "nbformat_minor": 5
}
