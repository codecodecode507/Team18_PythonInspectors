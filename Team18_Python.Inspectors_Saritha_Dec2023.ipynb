{
 "cells": [
  {
   "cell_type": "code",
   "execution_count": 1,
   "id": "0ac062b9",
   "metadata": {},
   "outputs": [],
   "source": [
    "import pandas as pd\n",
    "\n",
    "df = pd.read_excel('C:\\\\Users\\\\sarit\\\\Downloads\\\\ExamStressFinal.xlsx', sheet_name=None)\n",
    "grades=df['Grades']\n",
    "demography=df['Demography']\n",
    "eda=df['EDA']\n",
    "hr=df['HR']\n",
    "temp=df['Temp']\n",
    "ibi=df['IBI']\n"
   ]
  },
  {
   "cell_type": "markdown",
   "id": "923b8909",
   "metadata": {},
   "source": [
    "# Q50.Count the students who are in the Race group White\n",
    "\n",
    "\n"
   ]
  },
  {
   "cell_type": "code",
   "execution_count": 12,
   "id": "d6d86345",
   "metadata": {},
   "outputs": [
    {
     "name": "stdout",
     "output_type": "stream",
     "text": [
      "Students in Race group white count is: 4\n"
     ]
    }
   ],
   "source": [
    "import pandas as pd\n",
    "df = pd.read_excel('C:\\\\Users\\\\sarit\\\\Downloads\\\\ExamStressFinal.xlsx', sheet_name='Demography')\n",
    "count = len(df[df['Race'] == 'White'])\n",
    "print(\"Students in Race group white count is:\", count)\n"
   ]
  },
  {
   "cell_type": "markdown",
   "id": "ce1b835a",
   "metadata": {},
   "source": [
    "# Q49. [ \"\"Python Hackthaon.\"\",\"\"December 2023.\"\",\"\"Numpy Ninja.\"\" ]\n",
    "# tokenise the Sentences and place it in single column\"\n"
   ]
  },
  {
   "cell_type": "code",
   "execution_count": 10,
   "id": "2d802bff",
   "metadata": {},
   "outputs": [
    {
     "name": "stdout",
     "output_type": "stream",
     "text": [
      "                                 Tokenise Sen\n",
      "0  Python Hackthaon December 2023 Numpy Ninja\n"
     ]
    }
   ],
   "source": [
    "df = pd.DataFrame({'Tokenise Sen': ['Python Hackthaon ''December 2023 ''Numpy Ninja']})\n",
    "df = df.explode('Tokenise Sen')\n",
    "print(df)"
   ]
  },
  {
   "cell_type": "code",
   "execution_count": null,
   "id": "8bcd1a5d",
   "metadata": {},
   "outputs": [],
   "source": []
  }
 ],
 "metadata": {
  "kernelspec": {
   "display_name": "Python 3 (ipykernel)",
   "language": "python",
   "name": "python3"
  },
  "language_info": {
   "codemirror_mode": {
    "name": "ipython",
    "version": 3
   },
   "file_extension": ".py",
   "mimetype": "text/x-python",
   "name": "python",
   "nbconvert_exporter": "python",
   "pygments_lexer": "ipython3",
   "version": "3.11.5"
  }
 },
 "nbformat": 4,
 "nbformat_minor": 5
}
