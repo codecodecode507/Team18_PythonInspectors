{
 "cells": [
  {
   "cell_type": "code",
   "execution_count": 19,
   "id": "ec4604fb",
   "metadata": {},
   "outputs": [
    {
     "name": "stdout",
     "output_type": "stream",
     "text": [
      "Requirement already satisfied: matplotlib in ./anaconda3/lib/python3.11/site-packages (3.7.2)\n",
      "Requirement already satisfied: contourpy>=1.0.1 in ./anaconda3/lib/python3.11/site-packages (from matplotlib) (1.0.5)\n",
      "Requirement already satisfied: cycler>=0.10 in ./anaconda3/lib/python3.11/site-packages (from matplotlib) (0.11.0)\n",
      "Requirement already satisfied: fonttools>=4.22.0 in ./anaconda3/lib/python3.11/site-packages (from matplotlib) (4.25.0)\n",
      "Requirement already satisfied: kiwisolver>=1.0.1 in ./anaconda3/lib/python3.11/site-packages (from matplotlib) (1.4.4)\n",
      "Requirement already satisfied: numpy>=1.20 in ./anaconda3/lib/python3.11/site-packages (from matplotlib) (1.24.3)\n",
      "Requirement already satisfied: packaging>=20.0 in ./anaconda3/lib/python3.11/site-packages (from matplotlib) (23.1)\n",
      "Requirement already satisfied: pillow>=6.2.0 in ./anaconda3/lib/python3.11/site-packages (from matplotlib) (9.4.0)\n",
      "Requirement already satisfied: pyparsing<3.1,>=2.3.1 in ./anaconda3/lib/python3.11/site-packages (from matplotlib) (3.0.9)\n",
      "Requirement already satisfied: python-dateutil>=2.7 in ./anaconda3/lib/python3.11/site-packages (from matplotlib) (2.8.2)\n",
      "Requirement already satisfied: six>=1.5 in ./anaconda3/lib/python3.11/site-packages (from python-dateutil>=2.7->matplotlib) (1.16.0)\n"
     ]
    }
   ],
   "source": [
    "import pandas as pd\n",
    "!pip install matplotlib\n",
    "import numpy as np\n",
    "import builtins  \n",
    "import matplotlib.pyplot as plt\n",
    "import seaborn as sns\n"
   ]
  },
  {
   "cell_type": "code",
   "execution_count": 4,
   "id": "58cfd6e8",
   "metadata": {},
   "outputs": [],
   "source": [
    "import pandas as pd\n",
    "dataset_grades = pd.read_excel(\"~/Sharanya/Sharanya_Numpy/ExamStressFinal.xlsx\", sheet_name=\"Grades\")\n",
    "dataset_demography = pd.read_excel(\"~/Sharanya/Sharanya_Numpy/ExamStressFinal.xlsx\", sheet_name=\"Demography\")\n",
    "dataset_eda = pd.read_excel(\"~/Sharanya/Sharanya_Numpy/ExamStressFinal.xlsx\", sheet_name=\"EDA\")\n",
    "dataset_hr = pd.read_excel(\"~/Sharanya/Sharanya_Numpy/ExamStressFinal.xlsx\", sheet_name=\"HR\")\n",
    "dataset_temp = pd.read_excel(\"~/Sharanya/Sharanya_Numpy/ExamStressFinal.xlsx\", sheet_name=\"Temp\")\n",
    "dataset_ibi = pd.read_excel(\"~/Sharanya/Sharanya_Numpy/ExamStressFinal.xlsx\", sheet_name=\"IBI\")"
   ]
  },
  {
   "cell_type": "code",
   "execution_count": 120,
   "id": "a3e2399f",
   "metadata": {},
   "outputs": [
    {
     "data": {
      "text/html": [
       "<div>\n",
       "<style scoped>\n",
       "    .dataframe tbody tr th:only-of-type {\n",
       "        vertical-align: middle;\n",
       "    }\n",
       "\n",
       "    .dataframe tbody tr th {\n",
       "        vertical-align: top;\n",
       "    }\n",
       "\n",
       "    .dataframe thead th {\n",
       "        text-align: right;\n",
       "    }\n",
       "</style>\n",
       "<table border=\"1\" class=\"dataframe\">\n",
       "  <thead>\n",
       "    <tr style=\"text-align: right;\">\n",
       "      <th></th>\n",
       "      <th>HR</th>\n",
       "      <th>Time in mins</th>\n",
       "      <th>Student_id</th>\n",
       "      <th>Exam</th>\n",
       "    </tr>\n",
       "  </thead>\n",
       "  <tbody>\n",
       "    <tr>\n",
       "      <th>0</th>\n",
       "      <td>119.023</td>\n",
       "      <td>1.0</td>\n",
       "      <td>S01</td>\n",
       "      <td>final</td>\n",
       "    </tr>\n",
       "    <tr>\n",
       "      <th>1</th>\n",
       "      <td>130.879</td>\n",
       "      <td>2.0</td>\n",
       "      <td>S01</td>\n",
       "      <td>final</td>\n",
       "    </tr>\n",
       "    <tr>\n",
       "      <th>2</th>\n",
       "      <td>131.586</td>\n",
       "      <td>3.0</td>\n",
       "      <td>S01</td>\n",
       "      <td>final</td>\n",
       "    </tr>\n",
       "    <tr>\n",
       "      <th>3</th>\n",
       "      <td>109.852</td>\n",
       "      <td>4.0</td>\n",
       "      <td>S01</td>\n",
       "      <td>final</td>\n",
       "    </tr>\n",
       "    <tr>\n",
       "      <th>4</th>\n",
       "      <td>81.178</td>\n",
       "      <td>5.0</td>\n",
       "      <td>S01</td>\n",
       "      <td>final</td>\n",
       "    </tr>\n",
       "  </tbody>\n",
       "</table>\n",
       "</div>"
      ],
      "text/plain": [
       "        HR  Time in mins Student_id   Exam\n",
       "0  119.023           1.0        S01  final\n",
       "1  130.879           2.0        S01  final\n",
       "2  131.586           3.0        S01  final\n",
       "3  109.852           4.0        S01  final\n",
       "4   81.178           5.0        S01  final"
      ]
     },
     "execution_count": 120,
     "metadata": {},
     "output_type": "execute_result"
    }
   ],
   "source": [
    "dataset_hr.head()"
   ]
  },
  {
   "cell_type": "markdown",
   "id": "47ba2fbe",
   "metadata": {},
   "source": [
    "# Q65 Generate a 3x3  Array using Random values between 1to 9  and Fix the values and position  in Next Run."
   ]
  },
  {
   "cell_type": "code",
   "execution_count": 154,
   "id": "a3f0c75f",
   "metadata": {},
   "outputs": [
    {
     "name": "stdout",
     "output_type": "stream",
     "text": [
      "[[3 7 2]\n",
      " [1 5 7]\n",
      " [2 4 7]]\n"
     ]
    }
   ],
   "source": [
    "#Generating the random array\n",
    "random_int = np.random.randint(1,9,(3,3))\n",
    "\n",
    "#printing the random array\n",
    "print(random_int)"
   ]
  },
  {
   "cell_type": "code",
   "execution_count": 152,
   "id": "b09fefdd",
   "metadata": {},
   "outputs": [
    {
     "name": "stdout",
     "output_type": "stream",
     "text": [
      "[[5 1 2]\n",
      " [1 2 9]\n",
      " [1 9 7]]\n"
     ]
    }
   ],
   "source": [
    "# set a seed for reproducibility\n",
    "np.random.seed(10)\n",
    "\n",
    "# generating the fixed array\n",
    "fixed_array = np.random.randint(1, 10, size=(3, 3))\n",
    "\n",
    "#printing the fixed array\n",
    "print(fixed_array)"
   ]
  },
  {
   "cell_type": "markdown",
   "id": "b8a9dc37",
   "metadata": {},
   "source": [
    "# Q66 Find the way to reverse string for given input (eg: input : this is python hackathon output:hackathon python is this)"
   ]
  },
  {
   "cell_type": "code",
   "execution_count": 146,
   "id": "c23f010c",
   "metadata": {},
   "outputs": [
    {
     "name": "stdout",
     "output_type": "stream",
     "text": [
      "hackathon python is this\n"
     ]
    }
   ],
   "source": [
    "input = \"this is python hackathon\"\n",
    "# splitting the words in the input\n",
    "output = input.split()\n",
    "\n",
    "# reversing the words in the input\n",
    "output.reverse()\n",
    "\n",
    "# now joining them\n",
    "result = \" \".join(output)\n",
    "\n",
    "# printing the desired result\n",
    "print(result)"
   ]
  },
  {
   "cell_type": "markdown",
   "id": "b536743b",
   "metadata": {},
   "source": [
    "# Q67 From'Python Hackthon Dec 2023' give 'Python Hack' using RegEX"
   ]
  },
  {
   "cell_type": "code",
   "execution_count": 145,
   "id": "99693691",
   "metadata": {},
   "outputs": [
    {
     "name": "stdout",
     "output_type": "stream",
     "text": [
      "Python Hack\n"
     ]
    }
   ],
   "source": [
    "#import RegEX\n",
    "import re\n",
    "\n",
    "#searching the string for the word\n",
    "input = \"Python Hackthon Dec 2023\"\n",
    "match = re.search(r'Python Hack', input)\n",
    "\n",
    "# Based on the match printing the output\n",
    "if match:\n",
    "    result = match.group()\n",
    "    print(result)\n",
    "else:\n",
    "    print(\"No match found.\")"
   ]
  },
  {
   "cell_type": "markdown",
   "id": "7b974b43",
   "metadata": {},
   "source": [
    "# Q68 Using HR values print even if it even number and odd if it odd number"
   ]
  },
  {
   "cell_type": "code",
   "execution_count": 5,
   "id": "01768eef",
   "metadata": {},
   "outputs": [
    {
     "data": {
      "text/html": [
       "<div>\n",
       "<style scoped>\n",
       "    .dataframe tbody tr th:only-of-type {\n",
       "        vertical-align: middle;\n",
       "    }\n",
       "\n",
       "    .dataframe tbody tr th {\n",
       "        vertical-align: top;\n",
       "    }\n",
       "\n",
       "    .dataframe thead th {\n",
       "        text-align: right;\n",
       "    }\n",
       "</style>\n",
       "<table border=\"1\" class=\"dataframe\">\n",
       "  <thead>\n",
       "    <tr style=\"text-align: right;\">\n",
       "      <th></th>\n",
       "      <th>HR</th>\n",
       "      <th>Time in mins</th>\n",
       "      <th>Student_id</th>\n",
       "      <th>Exam</th>\n",
       "      <th>Validation</th>\n",
       "    </tr>\n",
       "  </thead>\n",
       "  <tbody>\n",
       "    <tr>\n",
       "      <th>0</th>\n",
       "      <td>119.023</td>\n",
       "      <td>1.0</td>\n",
       "      <td>S01</td>\n",
       "      <td>final</td>\n",
       "      <td>Odd</td>\n",
       "    </tr>\n",
       "    <tr>\n",
       "      <th>1</th>\n",
       "      <td>130.879</td>\n",
       "      <td>2.0</td>\n",
       "      <td>S01</td>\n",
       "      <td>final</td>\n",
       "      <td>Odd</td>\n",
       "    </tr>\n",
       "    <tr>\n",
       "      <th>2</th>\n",
       "      <td>131.586</td>\n",
       "      <td>3.0</td>\n",
       "      <td>S01</td>\n",
       "      <td>final</td>\n",
       "      <td>Odd</td>\n",
       "    </tr>\n",
       "    <tr>\n",
       "      <th>3</th>\n",
       "      <td>109.852</td>\n",
       "      <td>4.0</td>\n",
       "      <td>S01</td>\n",
       "      <td>final</td>\n",
       "      <td>Odd</td>\n",
       "    </tr>\n",
       "    <tr>\n",
       "      <th>4</th>\n",
       "      <td>81.178</td>\n",
       "      <td>5.0</td>\n",
       "      <td>S01</td>\n",
       "      <td>final</td>\n",
       "      <td>Odd</td>\n",
       "    </tr>\n",
       "    <tr>\n",
       "      <th>...</th>\n",
       "      <td>...</td>\n",
       "      <td>...</td>\n",
       "      <td>...</td>\n",
       "      <td>...</td>\n",
       "      <td>...</td>\n",
       "    </tr>\n",
       "    <tr>\n",
       "      <th>7369</th>\n",
       "      <td>171.387</td>\n",
       "      <td>214.0</td>\n",
       "      <td>S010</td>\n",
       "      <td>Midterm 2</td>\n",
       "      <td>Odd</td>\n",
       "    </tr>\n",
       "    <tr>\n",
       "      <th>7370</th>\n",
       "      <td>121.597</td>\n",
       "      <td>215.0</td>\n",
       "      <td>S010</td>\n",
       "      <td>Midterm 2</td>\n",
       "      <td>Odd</td>\n",
       "    </tr>\n",
       "    <tr>\n",
       "      <th>7371</th>\n",
       "      <td>109.165</td>\n",
       "      <td>216.0</td>\n",
       "      <td>S010</td>\n",
       "      <td>Midterm 2</td>\n",
       "      <td>Odd</td>\n",
       "    </tr>\n",
       "    <tr>\n",
       "      <th>7372</th>\n",
       "      <td>NaN</td>\n",
       "      <td>NaN</td>\n",
       "      <td>NaN</td>\n",
       "      <td>Midterm 2</td>\n",
       "      <td>Odd</td>\n",
       "    </tr>\n",
       "    <tr>\n",
       "      <th>7373</th>\n",
       "      <td>NaN</td>\n",
       "      <td>NaN</td>\n",
       "      <td>NaN</td>\n",
       "      <td>Midterm 2</td>\n",
       "      <td>Odd</td>\n",
       "    </tr>\n",
       "  </tbody>\n",
       "</table>\n",
       "<p>7374 rows × 5 columns</p>\n",
       "</div>"
      ],
      "text/plain": [
       "           HR  Time in mins Student_id       Exam Validation\n",
       "0     119.023           1.0        S01      final        Odd\n",
       "1     130.879           2.0        S01      final        Odd\n",
       "2     131.586           3.0        S01      final        Odd\n",
       "3     109.852           4.0        S01      final        Odd\n",
       "4      81.178           5.0        S01      final        Odd\n",
       "...       ...           ...        ...        ...        ...\n",
       "7369  171.387         214.0       S010  Midterm 2        Odd\n",
       "7370  121.597         215.0       S010  Midterm 2        Odd\n",
       "7371  109.165         216.0       S010  Midterm 2        Odd\n",
       "7372      NaN           NaN        NaN  Midterm 2        Odd\n",
       "7373      NaN           NaN        NaN  Midterm 2        Odd\n",
       "\n",
       "[7374 rows x 5 columns]"
      ]
     },
     "execution_count": 5,
     "metadata": {},
     "output_type": "execute_result"
    }
   ],
   "source": [
    "#dataset_hr['is_even'] = dataset_hr['values']%2 == 0\n",
    "#dataset_hr.head()\n",
    "#for num in dataset_hr:\n",
    " #   if num%2 == 0:\n",
    "  #      print(num,end='')\n",
    "#my_df['b'] = np.where(my_df['A'] % 2 != 0, 'X', 'Y')\n",
    "#dataset_hr['Validation'] = np.where((dataset_hr['HR'] % 2 != 0), 'ODD', 'EVEN')\n",
    "#dataset_hr\n",
    "\n",
    "for i in dataset_hr['HR']:\n",
    "    if i%2==0:\n",
    "        \n",
    "        dataset_hr['Validation'] = 'Even'\n",
    "    else:\n",
    "        dataset_hr['Validation'] = 'Odd'\n",
    "            \n",
    "dataset_hr\n",
    "\n"
   ]
  },
  {
   "cell_type": "markdown",
   "id": "e607c718",
   "metadata": {},
   "source": [
    "# Q69 Input any string from user, Convert that into a tuple and then find the lenghth of that tuple"
   ]
  },
  {
   "cell_type": "code",
   "execution_count": 1,
   "id": "ac693864",
   "metadata": {},
   "outputs": [
    {
     "name": "stdout",
     "output_type": "stream",
     "text": [
      "Enter a string: this is python\n",
      "Tuple from string: ('t', 'h', 'i', 's', ' ', 'i', 's', ' ', 'p', 'y', 't', 'h', 'o', 'n')\n",
      "Length of the tuple: 14\n"
     ]
    }
   ],
   "source": [
    "# Get user input\n",
    "usr_ipt = input(\"Enter a string: \")\n",
    "\n",
    "# Convert string to tuple\n",
    "tuple_from_string = tuple(usr_ipt)\n",
    "\n",
    "# Find the length of the tuple\n",
    "tuple_length = len(tuple_from_string)\n",
    "\n",
    "# Print the results\n",
    "print(\"Tuple from string:\", tuple_from_string)\n",
    "print(\"Length of the tuple:\", tuple_length)"
   ]
  },
  {
   "cell_type": "markdown",
   "id": "d6769d6a",
   "metadata": {},
   "source": [
    "# Q70 Find the students who has 'o' in their names and print them"
   ]
  },
  {
   "cell_type": "code",
   "execution_count": 18,
   "id": "400b6a00",
   "metadata": {},
   "outputs": [
    {
     "name": "stdout",
     "output_type": "stream",
     "text": [
      "  Student_id        DOB First Name  Last Name Gender     Race\n",
      "1        S02 2009-02-02       Nora      Jones      F    White\n",
      "2        S03 2009-07-12    Gabriel    Willows      F    Asian\n",
      "3        S04 2009-09-09       John        Doe      M    Asian\n",
      "4        S05 2009-05-06       Jane        Doe      F  African\n",
      "6        S07 2010-08-01      Roger  Frederick      M  African\n",
      "7        S08 2009-03-03       John      Wills      M    White\n"
     ]
    }
   ],
   "source": [
    "result = dataset_demography[dataset_demography['First Name'].str.contains('o') | dataset_demography['Last Name'].str.contains('o')]\n",
    "print(result)\n"
   ]
  },
  {
   "cell_type": "markdown",
   "id": "ba5f0d6e",
   "metadata": {},
   "source": [
    "# Q71 Creat the visualisation to count the student based on race"
   ]
  },
  {
   "cell_type": "code",
   "execution_count": 25,
   "id": "cffea80f",
   "metadata": {},
   "outputs": [
    {
     "data": {
      "text/plain": [
       "Text(0, 0.5, 'Number of Students')"
      ]
     },
     "execution_count": 25,
     "metadata": {},
     "output_type": "execute_result"
    },
    {
     "data": {
      "image/png": "[encoded data removed]",
      "text/plain": [
       "<Figure size 640x480 with 1 Axes>"
      ]
     },
     "metadata": {},
     "output_type": "display_data"
    }
   ],
   "source": [
    "dataset_demography.Race.value_counts().plot(kind='bar')\n",
    "plt.ylabel(\"Number of Students\")"
   ]
  },
  {
   "cell_type": "markdown",
   "id": "41700f2b",
   "metadata": {},
   "source": [
    "# Q72 select 25 different random values between 366 to 500. code should generates same value if we run again."
   ]
  },
  {
   "cell_type": "code",
   "execution_count": 31,
   "id": "2bd11ffa",
   "metadata": {},
   "outputs": [
    {
     "name": "stdout",
     "output_type": "stream",
     "text": [
      "[431, 457, 373, 485, 429, 379, 406, 394, 461, 486, 429, 463, 392, 429, 369, 421, 470, 437, 412, 465, 406, 384, 401, 479, 398]\n"
     ]
    }
   ],
   "source": [
    "import random\n",
    "random.seed(5)\n",
    "\n",
    "# Generate 25 random values between 366 and 500\n",
    "random_values = [random.randint(366, 500) for _ in range(25)]\n",
    "\n",
    "# Print the generated values\n",
    "print(random_values)"
   ]
  },
  {
   "cell_type": "markdown",
   "id": "06523498",
   "metadata": {},
   "source": [
    "# Q73 Find the max EDA of the higest scoring student (whose average of midterm1,midterm2 and Final is maximum)"
   ]
  },
  {
   "cell_type": "code",
   "execution_count": 44,
   "id": "9873f336",
   "metadata": {},
   "outputs": [
    {
     "name": "stdout",
     "output_type": "stream",
     "text": [
      "S01: 0.16117105263157896\n",
      "S02: 0.11153403755868543\n",
      "S03: 0.2725317559153176\n",
      "S04: 0.46446774193548385\n",
      "S05: 0.370782874617737\n",
      "S06: 0.2569047619047619\n",
      "S07: 0.2080336605890603\n",
      "S08: 0.3934370139968895\n",
      "S09: 0.2994159021406728\n",
      "S10: 0.1493690176322418\n",
      "Maximum value among the EDA: 0.46446774193548385\n"
     ]
    }
   ],
   "source": [
    "import pandas as pd\n",
    "condition = dataset_eda[(dataset_eda['Student_id'] == 'S01')] \n",
    "average_score_S01 = condition['EDA'].mean()\n",
    "print(\"S01:\", average_score_S01)\n",
    "\n",
    "condition = dataset_eda[(dataset_eda['Student_id'] == 'S02')] \n",
    "average_score_S02 = condition['EDA'].mean()\n",
    "print(\"S02:\", average_score_S02)\n",
    "\n",
    "condition = dataset_eda[(dataset_eda['Student_id'] == 'S03')] \n",
    "average_score_S03 = condition['EDA'].mean()\n",
    "print(\"S03:\", average_score_S03)\n",
    "\n",
    "condition = dataset_eda[(dataset_eda['Student_id'] == 'S04')] \n",
    "average_score_S04 = condition['EDA'].mean()\n",
    "print(\"S04:\", average_score_S04)\n",
    "\n",
    "condition = dataset_eda[(dataset_eda['Student_id'] == 'S05')] \n",
    "average_score_S05 = condition['EDA'].mean()\n",
    "print(\"S05:\", average_score_S05)\n",
    "\n",
    "condition = dataset_eda[(dataset_eda['Student_id'] == 'S06')] \n",
    "average_score_S06 = condition['EDA'].mean()\n",
    "print(\"S06:\", average_score_S06)\n",
    "\n",
    "condition = dataset_eda[(dataset_eda['Student_id'] == 'S07')] \n",
    "average_score_S07 = condition['EDA'].mean()\n",
    "print(\"S07:\", average_score_S07)\n",
    "\n",
    "condition = dataset_eda[(dataset_eda['Student_id'] == 'S08')] \n",
    "average_score_S08 = condition['EDA'].mean()\n",
    "print(\"S08:\", average_score_S08)\n",
    "\n",
    "condition = dataset_eda[(dataset_eda['Student_id'] == 'S09')] \n",
    "average_score_S09 = condition['EDA'].mean()\n",
    "print(\"S09:\", average_score_S09)\n",
    "\n",
    "condition = dataset_eda[(dataset_eda['Student_id'] == 'S010')] \n",
    "average_score_S010 = condition['EDA'].mean()\n",
    "print(\"S10:\", average_score_S010)\n",
    "\n",
    "max_value = max(average_score_S01, average_score_S02, average_score_S03, average_score_S04, average_score_S05, average_score_S06, average_score_S07, average_score_S08, average_score_S09, average_score_S010)\n",
    "print(\"Maximum value among the EDA:\", max_value)"
   ]
  },
  {
   "cell_type": "markdown",
   "id": "020c667d",
   "metadata": {},
   "source": [
    "# Q74 Create a Pie chart for  Grades and explode the wedge with Highest Grade in Final and Label with the Student ID"
   ]
  },
  {
   "cell_type": "code",
   "execution_count": 58,
   "id": "e0779f7e",
   "metadata": {},
   "outputs": [
    {
     "data": {
      "image/png": "[encoded data removed]",
      "text/plain": [
       "<Figure size 640x480 with 1 Axes>"
      ]
     },
     "metadata": {},
     "output_type": "display_data"
    }
   ],
   "source": [
    "import pandas as pd\n",
    "import matplotlib.pyplot as plt\n",
    "\n",
    "# Find the student with the highest final grade\n",
    "highest_grade_student = dataset_grades.loc[dataset_grades['final'].idxmax(), 'Student_id']\n",
    "\n",
    "# Create a pie chart\n",
    "labels = dataset_grades['Student_id']\n",
    "sizes = dataset_grades['final']\n",
    "\n",
    "# Explode the wedge with the highest grade\n",
    "explode = [0.1 if student == highest_grade_student else 0 for student in dataset_grades['Student_id']]\n",
    "\n",
    "# Plotting the pie chart\n",
    "plt.pie(sizes, labels=labels, autopct='%1.1f%%', explode=explode, shadow=True, startangle=90)\n",
    "plt.title('Final Grades Distribution')\n",
    "plt.show()\n"
   ]
  },
  {
   "cell_type": "markdown",
   "id": "035a6468",
   "metadata": {},
   "source": [
    "# Q75 Find min temparature of the student whose average score (midterm1,midterm2, final) is minimum"
   ]
  },
  {
   "cell_type": "code",
   "execution_count": 86,
   "id": "6a89ba4f",
   "metadata": {},
   "outputs": [
    {
     "name": "stdout",
     "output_type": "stream",
     "text": [
      "6    S07\n",
      "Name: Student_id, dtype: object\n"
     ]
    },
    {
     "data": {
      "text/plain": [
       "16.552"
      ]
     },
     "execution_count": 86,
     "metadata": {},
     "output_type": "execute_result"
    }
   ],
   "source": [
    "#Average of Midterm1, Midterm2 and final \n",
    "dataset_grades['Average'] = dataset_grades[['Midterm 1', 'Midterm 2', 'final']].mean(axis=1)\n",
    "\n",
    "#Minimum value of datasetgrades\n",
    "min_value = dataset_grades['Average'].min()\n",
    "result75 = dataset_grades[dataset_grades['Average'] == min_value]\n",
    "\n",
    "print(result75['Student_id'])\n",
    "condition3 = dataset_temp[(dataset_temp['Student_id'] == 'S07')] \n",
    "min_temperature = condition3['TEMP'].min()\n",
    "min_temperature\n"
   ]
  },
  {
   "cell_type": "markdown",
   "id": "08c2788f",
   "metadata": {},
   "source": [
    "# Q76 Plot the time series of HR( every 5 mins) of student07"
   ]
  },
  {
   "cell_type": "code",
   "execution_count": 88,
   "id": "597b78ea",
   "metadata": {},
   "outputs": [
    {
     "ename": "ValueError",
     "evalue": "x and y must have same first dimension, but have shapes (100,) and (7374,)",
     "output_type": "error",
     "traceback": [
      "\u001b[0;31m---------------------------------------------------------------------------\u001b[0m",
      "\u001b[0;31mValueError\u001b[0m                                Traceback (most recent call last)",
      "Cell \u001b[0;32mIn[88], line 3\u001b[0m\n\u001b[1;32m      1\u001b[0m data \u001b[38;5;241m=\u001b[39m {\u001b[38;5;124m'\u001b[39m\u001b[38;5;124mTimestamp\u001b[39m\u001b[38;5;124m'\u001b[39m: pd\u001b[38;5;241m.\u001b[39mdate_range(start\u001b[38;5;241m=\u001b[39m\u001b[38;5;124m'\u001b[39m\u001b[38;5;124m2023-12-01 00:00:00\u001b[39m\u001b[38;5;124m'\u001b[39m, periods\u001b[38;5;241m=\u001b[39m\u001b[38;5;241m100\u001b[39m, freq\u001b[38;5;241m=\u001b[39m\u001b[38;5;124m'\u001b[39m\u001b[38;5;124m5T\u001b[39m\u001b[38;5;124m'\u001b[39m)}\n\u001b[1;32m      2\u001b[0m plt\u001b[38;5;241m.\u001b[39mfigure(figsize\u001b[38;5;241m=\u001b[39m(\u001b[38;5;241m10\u001b[39m, \u001b[38;5;241m6\u001b[39m))\n\u001b[0;32m----> 3\u001b[0m plt\u001b[38;5;241m.\u001b[39mplot(data[\u001b[38;5;124m'\u001b[39m\u001b[38;5;124mTimestamp\u001b[39m\u001b[38;5;124m'\u001b[39m], dataset_hr[\u001b[38;5;124m'\u001b[39m\u001b[38;5;124mHR\u001b[39m\u001b[38;5;124m'\u001b[39m], marker\u001b[38;5;241m=\u001b[39m\u001b[38;5;124m'\u001b[39m\u001b[38;5;124mo\u001b[39m\u001b[38;5;124m'\u001b[39m, linestyle\u001b[38;5;241m=\u001b[39m\u001b[38;5;124m'\u001b[39m\u001b[38;5;124m-\u001b[39m\u001b[38;5;124m'\u001b[39m)\n\u001b[1;32m      4\u001b[0m plt\u001b[38;5;241m.\u001b[39mtitle(\u001b[38;5;124m'\u001b[39m\u001b[38;5;124mHeart Rate Time Series\u001b[39m\u001b[38;5;124m'\u001b[39m)\n\u001b[1;32m      5\u001b[0m plt\u001b[38;5;241m.\u001b[39mxlabel(\u001b[38;5;124m'\u001b[39m\u001b[38;5;124mTimestamp\u001b[39m\u001b[38;5;124m'\u001b[39m)\n",
      "File \u001b[0;32m~/anaconda3/lib/python3.11/site-packages/matplotlib/pyplot.py:2812\u001b[0m, in \u001b[0;36mplot\u001b[0;34m(scalex, scaley, data, *args, **kwargs)\u001b[0m\n\u001b[1;32m   2810\u001b[0m \u001b[38;5;129m@_copy_docstring_and_deprecators\u001b[39m(Axes\u001b[38;5;241m.\u001b[39mplot)\n\u001b[1;32m   2811\u001b[0m \u001b[38;5;28;01mdef\u001b[39;00m \u001b[38;5;21mplot\u001b[39m(\u001b[38;5;241m*\u001b[39margs, scalex\u001b[38;5;241m=\u001b[39m\u001b[38;5;28;01mTrue\u001b[39;00m, scaley\u001b[38;5;241m=\u001b[39m\u001b[38;5;28;01mTrue\u001b[39;00m, data\u001b[38;5;241m=\u001b[39m\u001b[38;5;28;01mNone\u001b[39;00m, \u001b[38;5;241m*\u001b[39m\u001b[38;5;241m*\u001b[39mkwargs):\n\u001b[0;32m-> 2812\u001b[0m     \u001b[38;5;28;01mreturn\u001b[39;00m gca()\u001b[38;5;241m.\u001b[39mplot(\n\u001b[1;32m   2813\u001b[0m         \u001b[38;5;241m*\u001b[39margs, scalex\u001b[38;5;241m=\u001b[39mscalex, scaley\u001b[38;5;241m=\u001b[39mscaley,\n\u001b[1;32m   2814\u001b[0m         \u001b[38;5;241m*\u001b[39m\u001b[38;5;241m*\u001b[39m({\u001b[38;5;124m\"\u001b[39m\u001b[38;5;124mdata\u001b[39m\u001b[38;5;124m\"\u001b[39m: data} \u001b[38;5;28;01mif\u001b[39;00m data \u001b[38;5;129;01mis\u001b[39;00m \u001b[38;5;129;01mnot\u001b[39;00m \u001b[38;5;28;01mNone\u001b[39;00m \u001b[38;5;28;01melse\u001b[39;00m {}), \u001b[38;5;241m*\u001b[39m\u001b[38;5;241m*\u001b[39mkwargs)\n",
      "File \u001b[0;32m~/anaconda3/lib/python3.11/site-packages/matplotlib/axes/_axes.py:1688\u001b[0m, in \u001b[0;36mAxes.plot\u001b[0;34m(self, scalex, scaley, data, *args, **kwargs)\u001b[0m\n\u001b[1;32m   1445\u001b[0m \u001b[38;5;250m\u001b[39m\u001b[38;5;124;03m\"\"\"\u001b[39;00m\n\u001b[1;32m   1446\u001b[0m \u001b[38;5;124;03mPlot y versus x as lines and/or markers.\u001b[39;00m\n\u001b[1;32m   1447\u001b[0m \n\u001b[0;32m   (...)\u001b[0m\n\u001b[1;32m   1685\u001b[0m \u001b[38;5;124;03m(``'green'``) or hex strings (``'#008000'``).\u001b[39;00m\n\u001b[1;32m   1686\u001b[0m \u001b[38;5;124;03m\"\"\"\u001b[39;00m\n\u001b[1;32m   1687\u001b[0m kwargs \u001b[38;5;241m=\u001b[39m cbook\u001b[38;5;241m.\u001b[39mnormalize_kwargs(kwargs, mlines\u001b[38;5;241m.\u001b[39mLine2D)\n\u001b[0;32m-> 1688\u001b[0m lines \u001b[38;5;241m=\u001b[39m [\u001b[38;5;241m*\u001b[39m\u001b[38;5;28mself\u001b[39m\u001b[38;5;241m.\u001b[39m_get_lines(\u001b[38;5;241m*\u001b[39margs, data\u001b[38;5;241m=\u001b[39mdata, \u001b[38;5;241m*\u001b[39m\u001b[38;5;241m*\u001b[39mkwargs)]\n\u001b[1;32m   1689\u001b[0m \u001b[38;5;28;01mfor\u001b[39;00m line \u001b[38;5;129;01min\u001b[39;00m lines:\n\u001b[1;32m   1690\u001b[0m     \u001b[38;5;28mself\u001b[39m\u001b[38;5;241m.\u001b[39madd_line(line)\n",
      "File \u001b[0;32m~/anaconda3/lib/python3.11/site-packages/matplotlib/axes/_base.py:311\u001b[0m, in \u001b[0;36m_process_plot_var_args.__call__\u001b[0;34m(self, data, *args, **kwargs)\u001b[0m\n\u001b[1;32m    309\u001b[0m     this \u001b[38;5;241m+\u001b[39m\u001b[38;5;241m=\u001b[39m args[\u001b[38;5;241m0\u001b[39m],\n\u001b[1;32m    310\u001b[0m     args \u001b[38;5;241m=\u001b[39m args[\u001b[38;5;241m1\u001b[39m:]\n\u001b[0;32m--> 311\u001b[0m \u001b[38;5;28;01myield from\u001b[39;00m \u001b[38;5;28mself\u001b[39m\u001b[38;5;241m.\u001b[39m_plot_args(\n\u001b[1;32m    312\u001b[0m     this, kwargs, ambiguous_fmt_datakey\u001b[38;5;241m=\u001b[39mambiguous_fmt_datakey)\n",
      "File \u001b[0;32m~/anaconda3/lib/python3.11/site-packages/matplotlib/axes/_base.py:504\u001b[0m, in \u001b[0;36m_process_plot_var_args._plot_args\u001b[0;34m(self, tup, kwargs, return_kwargs, ambiguous_fmt_datakey)\u001b[0m\n\u001b[1;32m    501\u001b[0m     \u001b[38;5;28mself\u001b[39m\u001b[38;5;241m.\u001b[39maxes\u001b[38;5;241m.\u001b[39myaxis\u001b[38;5;241m.\u001b[39mupdate_units(y)\n\u001b[1;32m    503\u001b[0m \u001b[38;5;28;01mif\u001b[39;00m x\u001b[38;5;241m.\u001b[39mshape[\u001b[38;5;241m0\u001b[39m] \u001b[38;5;241m!=\u001b[39m y\u001b[38;5;241m.\u001b[39mshape[\u001b[38;5;241m0\u001b[39m]:\n\u001b[0;32m--> 504\u001b[0m     \u001b[38;5;28;01mraise\u001b[39;00m \u001b[38;5;167;01mValueError\u001b[39;00m(\u001b[38;5;124mf\u001b[39m\u001b[38;5;124m\"\u001b[39m\u001b[38;5;124mx and y must have same first dimension, but \u001b[39m\u001b[38;5;124m\"\u001b[39m\n\u001b[1;32m    505\u001b[0m                      \u001b[38;5;124mf\u001b[39m\u001b[38;5;124m\"\u001b[39m\u001b[38;5;124mhave shapes \u001b[39m\u001b[38;5;132;01m{\u001b[39;00mx\u001b[38;5;241m.\u001b[39mshape\u001b[38;5;132;01m}\u001b[39;00m\u001b[38;5;124m and \u001b[39m\u001b[38;5;132;01m{\u001b[39;00my\u001b[38;5;241m.\u001b[39mshape\u001b[38;5;132;01m}\u001b[39;00m\u001b[38;5;124m\"\u001b[39m)\n\u001b[1;32m    506\u001b[0m \u001b[38;5;28;01mif\u001b[39;00m x\u001b[38;5;241m.\u001b[39mndim \u001b[38;5;241m>\u001b[39m \u001b[38;5;241m2\u001b[39m \u001b[38;5;129;01mor\u001b[39;00m y\u001b[38;5;241m.\u001b[39mndim \u001b[38;5;241m>\u001b[39m \u001b[38;5;241m2\u001b[39m:\n\u001b[1;32m    507\u001b[0m     \u001b[38;5;28;01mraise\u001b[39;00m \u001b[38;5;167;01mValueError\u001b[39;00m(\u001b[38;5;124mf\u001b[39m\u001b[38;5;124m\"\u001b[39m\u001b[38;5;124mx and y can be no greater than 2D, but have \u001b[39m\u001b[38;5;124m\"\u001b[39m\n\u001b[1;32m    508\u001b[0m                      \u001b[38;5;124mf\u001b[39m\u001b[38;5;124m\"\u001b[39m\u001b[38;5;124mshapes \u001b[39m\u001b[38;5;132;01m{\u001b[39;00mx\u001b[38;5;241m.\u001b[39mshape\u001b[38;5;132;01m}\u001b[39;00m\u001b[38;5;124m and \u001b[39m\u001b[38;5;132;01m{\u001b[39;00my\u001b[38;5;241m.\u001b[39mshape\u001b[38;5;132;01m}\u001b[39;00m\u001b[38;5;124m\"\u001b[39m)\n",
      "\u001b[0;31mValueError\u001b[0m: x and y must have same first dimension, but have shapes (100,) and (7374,)"
     ]
    },
    {
     "data": {
      "image/png": "[encoded data removed]",
      "text/plain": [
       "<Figure size 1000x600 with 1 Axes>"
      ]
     },
     "metadata": {},
     "output_type": "display_data"
    }
   ],
   "source": [
    "data = {'Timestamp': pd.date_range(start='2023-12-01 00:00:00', periods=100, freq='5T')}\n",
    "plt.figure(figsize=(10, 6))\n",
    "plt.plot(data['Timestamp'], dataset_hr['HR'], marker='o', linestyle='-')\n",
    "plt.title('Heart Rate Time Series')\n",
    "plt.xlabel('Timestamp')\n",
    "plt.ylabel('Heart Rate (bpm)')\n",
    "plt.grid(True)\n",
    "plt.show()"
   ]
  },
  {
   "cell_type": "code",
   "execution_count": null,
   "id": "d0591f1a",
   "metadata": {},
   "outputs": [],
   "source": []
  }
 ],
 "metadata": {
  "kernelspec": {
   "display_name": "Python 3 (ipykernel)",
   "language": "python",
   "name": "python3"
  },
  "language_info": {
   "codemirror_mode": {
    "name": "ipython",
    "version": 3
   },
   "file_extension": ".py",
   "mimetype": "text/x-python",
   "name": "python",
   "nbconvert_exporter": "python",
   "pygments_lexer": "ipython3",
   "version": "3.11.5"
  }
 },
 "nbformat": 4,
 "nbformat_minor": 5
}
