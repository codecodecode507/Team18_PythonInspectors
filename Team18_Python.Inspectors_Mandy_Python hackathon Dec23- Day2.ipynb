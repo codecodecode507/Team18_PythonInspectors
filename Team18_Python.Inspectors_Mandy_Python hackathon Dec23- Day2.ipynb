{
 "cells": [
  {
   "cell_type": "code",
   "execution_count": 1,
   "id": "619e9b7f",
   "metadata": {},
   "outputs": [],
   "source": [
    "import pandas as pd\n",
    "import numpy as np\n",
    "import matplotlib.pyplot as plt"
   ]
  },
  {
   "cell_type": "code",
   "execution_count": null,
   "id": "36cb497a",
   "metadata": {},
   "outputs": [],
   "source": []
  },
  {
   "cell_type": "code",
   "execution_count": 2,
   "id": "a15dd993",
   "metadata": {},
   "outputs": [],
   "source": [
    "df=pd.read_excel(\"Exam Stress Final.xlsx\",sheet_name=None)"
   ]
  },
  {
   "cell_type": "code",
   "execution_count": 3,
   "id": "beda618b",
   "metadata": {},
   "outputs": [],
   "source": [
    "grades=df['Grades']\n",
    "demography=df['Demography']\n",
    "eda=df['EDA']\n",
    "hr=df['HR']\n",
    "temp=df['Temp']\n",
    "ibi=df['IBI']"
   ]
  },
  {
   "attachments": {},
   "cell_type": "markdown",
   "id": "895476c6",
   "metadata": {},
   "source": [
    "#Q34 Display the Student Demographics and Grades who are born in leap Year"
   ]
  },
  {
   "cell_type": "code",
   "execution_count": 4,
   "id": "95e113b7",
   "metadata": {},
   "outputs": [
    {
     "name": "stdout",
     "output_type": "stream",
     "text": [
      "Student_id                    S04\n",
      "First Name                   John\n",
      "Last Name                     Doe\n",
      "DOB           2008-09-09 00:00:00\n",
      "Midterm 1                      75\n",
      "Midterm 2                      77\n",
      "final                         149\n",
      "Name: 3, dtype: object\n",
      "Student_id                    S06\n",
      "First Name                    Pat\n",
      "Last Name                  Murray\n",
      "DOB           2008-04-04 00:00:00\n",
      "Midterm 1                      71\n",
      "Midterm 2                      64\n",
      "final                         175\n",
      "Name: 5, dtype: object\n"
     ]
    }
   ],
   "source": [
    "# Merge Demography and Grades based on Student Id\n",
    "Student_demo_grade_df = pd.merge(demography[['Student_id', 'First Name', 'Last Name','DOB']],\n",
    "                                 grades[['Student_id','Midterm 1','Midterm 2','final']],\n",
    "                                 on='Student_id',\n",
    "                                 how='inner')\n",
    "#Create and empty List\n",
    "DOB_leap_year=[]\n",
    "\n",
    "# Find Student born in a Leap year \n",
    "for index, row in Student_demo_grade_df.iterrows():\n",
    "    if row['DOB'].year % 4 == 0 and row['DOB'].year % 100 !=0  :\n",
    "        Sid = f\"{row}\"\n",
    "        DOB_leap_year.append(Sid)\n",
    "\n",
    "#print list of  student with their grades born on Leap Year\n",
    "for List in DOB_leap_year:\n",
    "    print(List)\n",
    "    \n",
    "\n",
    "\n"
   ]
  },
  {
   "attachments": {},
   "cell_type": "markdown",
   "id": "3c5a5f33",
   "metadata": {},
   "source": [
    "Q35 Create a Bins of Grades to segregate the students in Grades  'A','B',C'"
   ]
  },
  {
   "cell_type": "code",
   "execution_count": 5,
   "id": "c37be5a5",
   "metadata": {},
   "outputs": [
    {
     "data": {
      "text/html": [
       "<div>\n",
       "<style scoped>\n",
       "    .dataframe tbody tr th:only-of-type {\n",
       "        vertical-align: middle;\n",
       "    }\n",
       "\n",
       "    .dataframe tbody tr th {\n",
       "        vertical-align: top;\n",
       "    }\n",
       "\n",
       "    .dataframe thead th {\n",
       "        text-align: right;\n",
       "    }\n",
       "</style>\n",
       "<table border=\"1\" class=\"dataframe\">\n",
       "  <thead>\n",
       "    <tr style=\"text-align: right;\">\n",
       "      <th></th>\n",
       "      <th>Student_id</th>\n",
       "      <th>Midterm 1</th>\n",
       "      <th>Midterm 2</th>\n",
       "      <th>final</th>\n",
       "      <th>Final Grades</th>\n",
       "    </tr>\n",
       "  </thead>\n",
       "  <tbody>\n",
       "    <tr>\n",
       "      <th>0</th>\n",
       "      <td>S01</td>\n",
       "      <td>78</td>\n",
       "      <td>82</td>\n",
       "      <td>182</td>\n",
       "      <td>A</td>\n",
       "    </tr>\n",
       "    <tr>\n",
       "      <th>1</th>\n",
       "      <td>S02</td>\n",
       "      <td>82</td>\n",
       "      <td>85</td>\n",
       "      <td>180</td>\n",
       "      <td>A</td>\n",
       "    </tr>\n",
       "    <tr>\n",
       "      <th>2</th>\n",
       "      <td>S03</td>\n",
       "      <td>77</td>\n",
       "      <td>90</td>\n",
       "      <td>188</td>\n",
       "      <td>A</td>\n",
       "    </tr>\n",
       "    <tr>\n",
       "      <th>3</th>\n",
       "      <td>S04</td>\n",
       "      <td>75</td>\n",
       "      <td>77</td>\n",
       "      <td>149</td>\n",
       "      <td>C</td>\n",
       "    </tr>\n",
       "    <tr>\n",
       "      <th>4</th>\n",
       "      <td>S05</td>\n",
       "      <td>67</td>\n",
       "      <td>77</td>\n",
       "      <td>157</td>\n",
       "      <td>B</td>\n",
       "    </tr>\n",
       "    <tr>\n",
       "      <th>5</th>\n",
       "      <td>S06</td>\n",
       "      <td>71</td>\n",
       "      <td>64</td>\n",
       "      <td>175</td>\n",
       "      <td>A</td>\n",
       "    </tr>\n",
       "    <tr>\n",
       "      <th>6</th>\n",
       "      <td>S07</td>\n",
       "      <td>64</td>\n",
       "      <td>33</td>\n",
       "      <td>110</td>\n",
       "      <td>C</td>\n",
       "    </tr>\n",
       "    <tr>\n",
       "      <th>7</th>\n",
       "      <td>S08</td>\n",
       "      <td>92</td>\n",
       "      <td>88</td>\n",
       "      <td>184</td>\n",
       "      <td>A</td>\n",
       "    </tr>\n",
       "    <tr>\n",
       "      <th>8</th>\n",
       "      <td>S09</td>\n",
       "      <td>80</td>\n",
       "      <td>39</td>\n",
       "      <td>126</td>\n",
       "      <td>C</td>\n",
       "    </tr>\n",
       "    <tr>\n",
       "      <th>9</th>\n",
       "      <td>S10</td>\n",
       "      <td>89</td>\n",
       "      <td>64</td>\n",
       "      <td>116</td>\n",
       "      <td>C</td>\n",
       "    </tr>\n",
       "  </tbody>\n",
       "</table>\n",
       "</div>"
      ],
      "text/plain": [
       "  Student_id  Midterm 1  Midterm 2  final Final Grades\n",
       "0        S01         78         82    182            A\n",
       "1        S02         82         85    180            A\n",
       "2        S03         77         90    188            A\n",
       "3        S04         75         77    149            C\n",
       "4        S05         67         77    157            B\n",
       "5        S06         71         64    175            A\n",
       "6        S07         64         33    110            C\n",
       "7        S08         92         88    184            A\n",
       "8        S09         80         39    126            C\n",
       "9        S10         89         64    116            C"
      ]
     },
     "execution_count": 5,
     "metadata": {},
     "output_type": "execute_result"
    }
   ],
   "source": [
    "# Bin creation and label declarations\n",
    "bins = [0, 150, 175, 200]  \n",
    "labels = ['C', 'B', 'A']\n",
    "\n",
    "# Apply the binning to create a new column 'Grade_Category'\n",
    "grades['Final Grades'] = pd.cut(grades['final'], bins=bins, labels=labels, right=False)\n",
    "\n",
    "#Print resultset\n",
    "grades\n",
    "\n"
   ]
  },
  {
   "attachments": {},
   "cell_type": "markdown",
   "id": "6a971798",
   "metadata": {},
   "source": [
    "Q36-Create a Word Cloud with First name of Student Names based on thier Race \n"
   ]
  },
  {
   "cell_type": "code",
   "execution_count": 26,
   "id": "c5e6f2fc",
   "metadata": {},
   "outputs": [
    {
     "name": "stdout",
     "output_type": "stream",
     "text": [
      "Requirement already satisfied: wordcloud in c:\\users\\mande\\anaconda3\\lib\\site-packages (1.9.2)Note: you may need to restart the kernel to use updated packages.\n",
      "Requirement already satisfied: numpy>=1.6.1 in c:\\users\\mande\\anaconda3\\lib\\site-packages (from wordcloud) (1.20.3)\n",
      "Requirement already satisfied: matplotlib in c:\\users\\mande\\anaconda3\\lib\\site-packages (from wordcloud) (3.4.3)\n",
      "Requirement already satisfied: pillow in c:\\users\\mande\\anaconda3\\lib\\site-packages (from wordcloud) (10.1.0)\n",
      "Requirement already satisfied: pyparsing>=2.2.1 in c:\\users\\mande\\anaconda3\\lib\\site-packages (from matplotlib->wordcloud) (3.0.4)\n",
      "Requirement already satisfied: python-dateutil>=2.7 in c:\\users\\mande\\anaconda3\\lib\\site-packages (from matplotlib->wordcloud) (2.8.2)\n",
      "Requirement already satisfied: cycler>=0.10 in c:\\users\\mande\\anaconda3\\lib\\site-packages (from matplotlib->wordcloud) (0.10.0)\n",
      "Requirement already satisfied: kiwisolver>=1.0.1 in c:\\users\\mande\\anaconda3\\lib\\site-packages (from matplotlib->wordcloud) (1.3.1)\n",
      "\n"
     ]
    },
    {
     "name": "stderr",
     "output_type": "stream",
     "text": [
      "WARNING: Ignoring invalid distribution -illow (c:\\users\\mande\\anaconda3\\lib\\site-packages)\n",
      "WARNING: Ignoring invalid distribution -illow (c:\\users\\mande\\anaconda3\\lib\\site-packages)\n",
      "WARNING: Ignoring invalid distribution -illow (c:\\users\\mande\\anaconda3\\lib\\site-packages)\n",
      "WARNING: Ignoring invalid distribution -illow (c:\\users\\mande\\anaconda3\\lib\\site-packages)\n",
      "WARNING: Ignoring invalid distribution -illow (c:\\users\\mande\\anaconda3\\lib\\site-packages)\n",
      "WARNING: Ignoring invalid distribution -illow (c:\\users\\mande\\anaconda3\\lib\\site-packages)\n"
     ]
    },
    {
     "name": "stdout",
     "output_type": "stream",
     "text": [
      "Requirement already satisfied: six in c:\\users\\mande\\anaconda3\\lib\\site-packages (from cycler>=0.10->matplotlib->wordcloud) (1.16.0)\n"
     ]
    }
   ],
   "source": [
    "pip install wordcloud"
   ]
  },
  {
   "cell_type": "code",
   "execution_count": 28,
   "id": "f2ac63d7",
   "metadata": {},
   "outputs": [
    {
     "data": {
      "image/png": "[encoded data removed]",
      "text/plain": [
       "<Figure size 432x216 with 1 Axes>"
      ]
     },
     "metadata": {
      "needs_background": "light"
     },
     "output_type": "display_data"
    },
    {
     "data": {
      "image/png": "[encoded data removed]",
      "text/plain": [
       "<Figure size 432x216 with 1 Axes>"
      ]
     },
     "metadata": {
      "needs_background": "light"
     },
     "output_type": "display_data"
    },
    {
     "data": {
      "image/png": "[encoded data removed]",
      "text/plain": [
       "<Figure size 432x216 with 1 Axes>"
      ]
     },
     "metadata": {
      "needs_background": "light"
     },
     "output_type": "display_data"
    },
    {
     "data": {
      "image/png": "[encoded data removed]",
      "text/plain": [
       "<Figure size 432x216 with 1 Axes>"
      ]
     },
     "metadata": {
      "needs_background": "light"
     },
     "output_type": "display_data"
    }
   ],
   "source": [
    "import pandas as pd\n",
    "from wordcloud import WordCloud\n",
    "import matplotlib.pyplot as plt\n",
    "names_by_race = {}\n",
    "\n",
    "# Group by race and aggregate first names\n",
    "grouped_by_race = demography.groupby('Race')['First Name'].apply(lambda x: ' '.join(x))\n",
    "\n",
    "# Create Word Cloud for each race\n",
    "for race, names in grouped_by_race.items():\n",
    "    names_by_race[race] = names\n",
    "\n",
    "    # Generate Word Cloud\n",
    "    wordcloud = WordCloud(width=100, height=50, background_color='white').generate(names)\n",
    "\n",
    "    # Display the Word Cloud\n",
    "    plt.figure(figsize=(6, 3))\n",
    "    plt.imshow(wordcloud, interpolation='bilinear')\n",
    "    plt.title(f'Word Cloud for First Names - Race:{race}' )\n",
    "    plt.axis('off')\n",
    "    plt.show()"
   ]
  },
  {
   "cell_type": "code",
   "execution_count": null,
   "id": "6981a361",
   "metadata": {},
   "outputs": [],
   "source": []
  },
  {
   "cell_type": "code",
   "execution_count": null,
   "id": "fad63b48",
   "metadata": {},
   "outputs": [],
   "source": []
  },
  {
   "attachments": {},
   "cell_type": "markdown",
   "id": "deaa5bf9",
   "metadata": {},
   "source": [
    "Q37 Display the student Names and respective grades who has Maximum heart rate\n"
   ]
  },
  {
   "cell_type": "code",
   "execution_count": 6,
   "id": "10b6fecf",
   "metadata": {},
   "outputs": [
    {
     "data": {
      "text/plain": [
       "Student_id  First Name  Last Name  Midterm 1  Midterm 2  final\n",
       "S01         Barbara     Walters    78         82         182      190.713\n",
       "S02         Nora        Jones      82         85         180      196.847\n",
       "S03         Gabriel     Willows    77         90         188      194.839\n",
       "S04         John        Doe        75         77         149      199.278\n",
       "S05         Jane        Doe        67         77         157      198.272\n",
       "S06         Pat         Murray     71         64         175      199.156\n",
       "S07         Roger       Frederick  64         33         110      186.544\n",
       "S08         John        Wills      92         88         184      192.261\n",
       "S09         Paul        Cartney    80         39         126      197.741\n",
       "Name: HR, dtype: float64"
      ]
     },
     "execution_count": 6,
     "metadata": {},
     "output_type": "execute_result"
    }
   ],
   "source": [
    "#Merge Demo and Grades sets\n",
    "Student_demo_grade_df = pd.merge(demography[['Student_id', 'First Name', 'Last Name','DOB']],\n",
    "                                 grades[['Student_id','Midterm 1','Midterm 2','final']],\n",
    "                                 on='Student_id',\n",
    "                                 how='inner')\n",
    "# Merge Results of merge of Demo and grades to HR\n",
    "Student_HR_df = pd.merge(Student_demo_grade_df[['Student_id', 'First Name', 'Last Name','Midterm 1','Midterm 2','final']],\n",
    "                        hr[['Student_id','HR',]],\n",
    "                        on='Student_id',\n",
    "                        how='inner')\n",
    "# grouping of student id and  other common columns  \n",
    "\n",
    "\n",
    "grouped_data = Student_HR_df.groupby(['Student_id', 'First Name', 'Last Name','Midterm 1','Midterm 2','final'])\n",
    "\n",
    "# applying Max aggregate  funtion \n",
    "max_hr_per_group = grouped_data['HR'].max()\n",
    "\n",
    "#printing New datafreme\n",
    "max_hr_per_group\n",
    "\n"
   ]
  },
  {
   "cell_type": "markdown",
   "id": "b99463dd",
   "metadata": {},
   "source": [
    "Q38 Write a Python program to get the number of occurrences of a specified element in the array."
   ]
  },
  {
   "cell_type": "code",
   "execution_count": 32,
   "id": "bfe00005",
   "metadata": {},
   "outputs": [
    {
     "name": "stdout",
     "output_type": "stream",
     "text": [
      "The element 2 occurs 4 times in the array.\n"
     ]
    }
   ],
   "source": [
    "# Use the count method to get the number of occurrences\n",
    "def count_occurrences(arr, element):\n",
    "    \n",
    "    occurrences = arr.count(element)\n",
    "\n",
    "# Example\n",
    "test_array = [1, 2, 3, 4, 2, 2, 5, 6, 2]\n",
    "\n",
    "specified_element = 2\n",
    "occurences = test_array.count(2)\n",
    "\n",
    "print(f'The element {specified_element} occurs {occurences} times in the array.')"
   ]
  },
  {
   "cell_type": "markdown",
   "id": "3c662951",
   "metadata": {},
   "source": [
    "Q39 Create a 3D list using nested for loops."
   ]
  },
  {
   "cell_type": "code",
   "execution_count": 34,
   "id": "63f67663",
   "metadata": {},
   "outputs": [
    {
     "name": "stdout",
     "output_type": "stream",
     "text": [
      "[[[0, 0], [0, 0]], [[0, 0], [0, 0]]]\n"
     ]
    }
   ],
   "source": [
    "x = 2\n",
    "y = 2\n",
    "z = 2\n",
    "TD_list = []\n",
    "#create 3D list\n",
    "\n",
    "\n",
    "for i in range(x):\n",
    "    TD_list.append([])\n",
    "#add `x` empty lists to the 3D list\n",
    "\n",
    "    for j in range(y):\n",
    "        TD_list[i].append([])\n",
    "#add `y` empty lists to each of the `x` lists\n",
    "\n",
    "        for k in range(z):\n",
    "            TD_list[i][j].append(0)\n",
    "#add initial value of `0` to the innermost list\n",
    "\n",
    "\n",
    "print(TD_list)"
   ]
  },
  {
   "attachments": {},
   "cell_type": "markdown",
   "id": "bbc563aa",
   "metadata": {},
   "source": [
    "Q 40- \"Array = [\n",
    "    [1, 2, 3],\n",
    "    [4, 5, 6],\n",
    "    [7, 8, 9]\n",
    "]\n",
    "\n",
    "Display each row of this array as a separate slice\"\n"
   ]
  },
  {
   "cell_type": "code",
   "execution_count": 35,
   "id": "c656a302",
   "metadata": {},
   "outputs": [
    {
     "name": "stdout",
     "output_type": "stream",
     "text": [
      "[1, 2, 3]\n",
      "[4, 5, 6]\n",
      "[7, 8, 9]\n"
     ]
    }
   ],
   "source": [
    "array = [\n",
    "    [1, 2, 3],\n",
    "    [4, 5, 6],\n",
    "    [7, 8, 9]\n",
    "]\n",
    "\n",
    "for x in array:\n",
    "    print(x)\n",
    "    "
   ]
  },
  {
   "attachments": {},
   "cell_type": "markdown",
   "id": "bcb28142",
   "metadata": {},
   "source": [
    "Q41 Find the Student name and the Exam who has the Temprature '36.042'\n"
   ]
  },
  {
   "cell_type": "code",
   "execution_count": 36,
   "id": "c1007608",
   "metadata": {},
   "outputs": [
    {
     "name": "stdout",
     "output_type": "stream",
     "text": [
      "Students with temperature of 36.042 degrees:\n",
      "    Student_id First Name Last Name        DOB    TEMP   Exam\n",
      "921        S02       Nora     Jones 2009-02-02  36.042  final\n"
     ]
    }
   ],
   "source": [
    "\n",
    "# Merge Demo to Temp\n",
    "Student_Temp_df = pd.merge(demography[['Student_id', 'First Name', 'Last Name','DOB']],\n",
    "                        temp[['Student_id','TEMP','Exam']],\n",
    "                        on='Student_id',\n",
    "                        how='inner')\n",
    "Result_df=  Student_Temp_df[Student_Temp_df['TEMP'] == 36.042]\n",
    "\n",
    "\n",
    "print(\"Students with temperature of 36.042 degrees:\")\n",
    "print (Result_df)"
   ]
  },
  {
   "attachments": {},
   "cell_type": "markdown",
   "id": "53e789f6",
   "metadata": {},
   "source": [
    "Q 42-Using arrays and loops, find the count of students based on gender.\n"
   ]
  },
  {
   "cell_type": "code",
   "execution_count": 37,
   "id": "eace75eb",
   "metadata": {},
   "outputs": [
    {
     "name": "stdout",
     "output_type": "stream",
     "text": [
      "Male Count: 5\n",
      "Female Count: 5\n"
     ]
    }
   ],
   "source": [
    "genders = demography['Gender'].tolist()\n",
    "m_c = 0\n",
    "f_c = 0\n",
    "\n",
    "for x in genders:\n",
    "    if x == 'M':\n",
    "        m_c += 1\n",
    "    elif x == 'F':\n",
    "        f_c += 1\n",
    "\n",
    "print(f\"Male Count: {m_c}\")\n",
    "print(f\"Female Count: {f_c}\")"
   ]
  },
  {
   "attachments": {},
   "cell_type": "markdown",
   "id": "6362bf48",
   "metadata": {},
   "source": [
    "Q46 Find the Grade of a Student whose Name ends with 'S'\n"
   ]
  },
  {
   "cell_type": "code",
   "execution_count": 7,
   "id": "6224407a",
   "metadata": {},
   "outputs": [
    {
     "data": {
      "text/html": [
       "<div>\n",
       "<style scoped>\n",
       "    .dataframe tbody tr th:only-of-type {\n",
       "        vertical-align: middle;\n",
       "    }\n",
       "\n",
       "    .dataframe tbody tr th {\n",
       "        vertical-align: top;\n",
       "    }\n",
       "\n",
       "    .dataframe thead th {\n",
       "        text-align: right;\n",
       "    }\n",
       "</style>\n",
       "<table border=\"1\" class=\"dataframe\">\n",
       "  <thead>\n",
       "    <tr style=\"text-align: right;\">\n",
       "      <th></th>\n",
       "      <th>Student_id</th>\n",
       "      <th>First Name</th>\n",
       "      <th>Last Name</th>\n",
       "      <th>DOB</th>\n",
       "      <th>Midterm 1</th>\n",
       "      <th>Midterm 2</th>\n",
       "      <th>final</th>\n",
       "    </tr>\n",
       "  </thead>\n",
       "  <tbody>\n",
       "    <tr>\n",
       "      <th>0</th>\n",
       "      <td>S01</td>\n",
       "      <td>Barbara</td>\n",
       "      <td>Walters</td>\n",
       "      <td>2009-01-01</td>\n",
       "      <td>78</td>\n",
       "      <td>82</td>\n",
       "      <td>182</td>\n",
       "    </tr>\n",
       "    <tr>\n",
       "      <th>1</th>\n",
       "      <td>S02</td>\n",
       "      <td>Nora</td>\n",
       "      <td>Jones</td>\n",
       "      <td>2009-02-02</td>\n",
       "      <td>82</td>\n",
       "      <td>85</td>\n",
       "      <td>180</td>\n",
       "    </tr>\n",
       "    <tr>\n",
       "      <th>2</th>\n",
       "      <td>S03</td>\n",
       "      <td>Gabriel</td>\n",
       "      <td>Willows</td>\n",
       "      <td>2009-07-12</td>\n",
       "      <td>77</td>\n",
       "      <td>90</td>\n",
       "      <td>188</td>\n",
       "    </tr>\n",
       "    <tr>\n",
       "      <th>7</th>\n",
       "      <td>S08</td>\n",
       "      <td>John</td>\n",
       "      <td>Wills</td>\n",
       "      <td>2009-03-03</td>\n",
       "      <td>92</td>\n",
       "      <td>88</td>\n",
       "      <td>184</td>\n",
       "    </tr>\n",
       "  </tbody>\n",
       "</table>\n",
       "</div>"
      ],
      "text/plain": [
       "  Student_id First Name Last Name        DOB  Midterm 1  Midterm 2  final\n",
       "0        S01    Barbara   Walters 2009-01-01         78         82    182\n",
       "1        S02       Nora     Jones 2009-02-02         82         85    180\n",
       "2        S03    Gabriel   Willows 2009-07-12         77         90    188\n",
       "7        S08       John     Wills 2009-03-03         92         88    184"
      ]
     },
     "execution_count": 7,
     "metadata": {},
     "output_type": "execute_result"
    }
   ],
   "source": [
    "#Merge Demo and Grades sets\n",
    "Student_name_grade_df = pd.merge(demography[['Student_id', 'First Name', 'Last Name','DOB']],\n",
    "                                 grades[['Student_id','Midterm 1','Midterm 2','final']],\n",
    "                                 on='Student_id',\n",
    "                                 how='inner')\n",
    "filtered_students = Student_name_grade_df[Student_name_grade_df['Last Name'].str.endswith('s')]\n",
    "filtered_students"
   ]
  },
  {
   "attachments": {},
   "cell_type": "markdown",
   "id": "932d9b19",
   "metadata": {},
   "source": [
    "Q48-Find the Full Name of the student who has Max HR\n"
   ]
  },
  {
   "cell_type": "code",
   "execution_count": 8,
   "id": "1f5e6a33",
   "metadata": {},
   "outputs": [
    {
     "data": {
      "text/plain": [
       "First Name       John\n",
       "Last Name         Doe\n",
       "Student_id        S04\n",
       "HR            199.278\n",
       "Name: 2720, dtype: object"
      ]
     },
     "execution_count": 8,
     "metadata": {},
     "output_type": "execute_result"
    }
   ],
   "source": [
    "\n",
    "Student_demo_hr_df = pd.merge(demography[[ 'First Name', 'Last Name','Student_id']],\n",
    "                              hr[['Student_id','HR',]],\n",
    "                              on='Student_id',\n",
    "                              how='inner')\n",
    "max_hr_student = Student_demo_hr_df.loc[Student_demo_hr_df['HR'].idxmax()]\n",
    "max_hr_student"
   ]
  },
  {
   "attachments": {},
   "cell_type": "markdown",
   "id": "af15f970",
   "metadata": {},
   "source": [
    "Q44-Create a Box  plot for HR and Temp\n",
    "\n"
   ]
  },
  {
   "cell_type": "code",
   "execution_count": null,
   "id": "3d6e7268",
   "metadata": {},
   "outputs": [],
   "source": [
    "import seaborn as sns\n",
    "import matplotlib.pyplot as plt\n",
    "result_data = pd.merge(temp[['Student_id', 'TEMP']],\n",
    "                        hr[['Student_id','HR',]],\n",
    "                        on='Student_id',\n",
    "                        how='inner')\n",
    "\n",
    "\n",
    "sns.boxplot(data=result_data,x='HR',y='TEMP')\n",
    "plt.show()"
   ]
  },
  {
   "cell_type": "code",
   "execution_count": null,
   "id": "1d75a217",
   "metadata": {},
   "outputs": [],
   "source": []
  },
  {
   "cell_type": "code",
   "execution_count": null,
   "id": "6bcb315d",
   "metadata": {},
   "outputs": [],
   "source": []
  },
  {
   "cell_type": "code",
   "execution_count": null,
   "id": "b3cff971",
   "metadata": {},
   "outputs": [],
   "source": []
  },
  {
   "cell_type": "code",
   "execution_count": null,
   "id": "e8b66f82",
   "metadata": {},
   "outputs": [],
   "source": []
  }
 ],
 "metadata": {
  "kernelspec": {
   "display_name": "Python 3 (ipykernel)",
   "language": "python",
   "name": "python3"
  },
  "language_info": {
   "codemirror_mode": {
    "name": "ipython",
    "version": 3
   },
   "file_extension": ".py",
   "mimetype": "text/x-python",
   "name": "python",
   "nbconvert_exporter": "python",
   "pygments_lexer": "ipython3",
   "version": "3.9.7"
  }
 },
 "nbformat": 4,
 "nbformat_minor": 5
}
