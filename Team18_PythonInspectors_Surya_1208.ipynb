{
 "cells": [
  {
   "cell_type": "code",
   "execution_count": 2,
   "id": "4094763d",
   "metadata": {},
   "outputs": [],
   "source": [
    "\n",
    "import pandas as pd\n",
    "import numpy as np\n",
    "import matplotlib.pyplot as plt\n",
    "from datetime import datetime\n",
    "import seaborn as sns\n",
    "import plotly.express as px"
   ]
  },
  {
   "cell_type": "code",
   "execution_count": 3,
   "id": "b3abe5bb",
   "metadata": {},
   "outputs": [],
   "source": [
    "df = pd.read_excel(\"C:\\Surya\\DA\\Hackathons\\Python Hackathon Dec2023\\Exam Stress Final.xlsx\",sheet_name=None)\n",
    "grades=df['Grades']\n",
    "demography=df['Demography']\n",
    "eda=df['EDA']\n",
    "hr=df['HR']\n",
    "temp=df['Temp']\n",
    "ibi=df['IBI']\n"
   ]
  },
  {
   "cell_type": "markdown",
   "id": "2ab01361",
   "metadata": {},
   "source": [
    "Q1. Using the mean interbeat interval per minute, calculate the Root Mean Square of successive differences for any 30 minute interval and add this to IBI"
   ]
  },
  {
   "cell_type": "code",
   "execution_count": 37,
   "id": "1e05cf98",
   "metadata": {},
   "outputs": [
    {
     "name": "stdout",
     "output_type": "stream",
     "text": [
      "      Time in mins    IBI Student_id       Exam     RMSSD  Adjusted_RMSSD\n",
      "0                0  0.446        S01      final  0.105728        0.031178\n",
      "1                1  0.473        S01      final  0.105728        0.031178\n",
      "2                3  0.444        S01      final  0.105728        0.031178\n",
      "3                4  0.496        S01      final  0.105728        0.031178\n",
      "4                8  0.448        S01      final  0.105728        0.031178\n",
      "...            ...    ...        ...        ...       ...             ...\n",
      "3310           159  0.463       S010  midterm 2  0.073832        0.030835\n",
      "3311           160  0.391       S010  midterm 2  0.073832        0.030835\n",
      "3312           170  0.393       S010  midterm 2  0.073832        0.030835\n",
      "3313           171  0.566       S010  midterm 2  0.073832        0.030835\n",
      "3314           172  0.402       S010  midterm 2  0.073832        0.030835\n",
      "\n",
      "[3315 rows x 6 columns]\n"
     ]
    }
   ],
   "source": [
    "ibi['RMSSD'] = ibi.groupby(['Student_id', 'Exam'])['IBI'].transform(lambda x: np.sqrt(np.mean(np.diff(x) ** 2)))\n",
    "\n",
    "# Calculate the mean exam duration for each student\n",
    "exam_durations = ibi.groupby(['Student_id', 'Exam'])['Time in mins'].max()\n",
    "\n",
    "# Calculate the adjustment factor based on exam duration (assuming 30 minutes for RMSSD calculation)\n",
    "ibi['Adjusted_RMSSD'] = ibi.apply(lambda row: row['RMSSD'] * np.sqrt(30 / exam_durations[(row['Student_id'], row['Exam'])]), axis=1)\n",
    "\n",
    "# Display the DataFrame with RMSSD and Adjusted_RMSSD\n",
    "print(ibi)"
   ]
  },
  {
   "cell_type": "markdown",
   "id": "81c545a5",
   "metadata": {},
   "source": [
    "Q2. Group the rows in the file EDA into 3 parts based on time: First, Second, Third part of each exam\n"
   ]
  },
  {
   "cell_type": "code",
   "execution_count": 5,
   "id": "b74471b4",
   "metadata": {},
   "outputs": [
    {
     "name": "stdout",
     "output_type": "stream",
     "text": [
      "      Time in mins       Exam Time Category\n",
      "0                1      final         First\n",
      "1                2      final         First\n",
      "2                3      final         First\n",
      "3                4      final         First\n",
      "4                5      final         First\n",
      "...            ...        ...           ...\n",
      "7369           212  midterm 2         Third\n",
      "7370           213  midterm 2         Third\n",
      "7371           214  midterm 2         Third\n",
      "7372           215  midterm 2         Third\n",
      "7373           216  midterm 2         Third\n",
      "\n",
      "[7374 rows x 3 columns]\n"
     ]
    }
   ],
   "source": [
    "def time_part(time, max_time):\n",
    "    interval = max_time / 3\n",
    "    \n",
    "    if 0 <= time < interval:\n",
    "        return 'First'\n",
    "    elif interval <= time < 2 * interval:\n",
    "        return 'Second'\n",
    "    else:\n",
    "        return 'Third'    \n",
    "max_times = eda.groupby('Exam')['Time in mins'].max()\n",
    "eda['Time Category'] = eda.apply(lambda row: time_part(row['Time in mins'], max_times[row['Exam']]), axis=1)\n",
    "print(eda[['Time in mins', 'Exam', 'Time Category']])"
   ]
  },
  {
   "cell_type": "markdown",
   "id": "b99c8770",
   "metadata": {},
   "source": [
    "Q3. Based on the calculation in question 2, which part of the exam did students suffer maximum stress? You may assume that higher recorded skin conductance co-incides with high levels of stress\n"
   ]
  },
  {
   "cell_type": "code",
   "execution_count": 6,
   "id": "7969be2b",
   "metadata": {},
   "outputs": [
    {
     "name": "stdout",
     "output_type": "stream",
     "text": [
      "The 'Second' part of the exam gives more stress to students\n"
     ]
    }
   ],
   "source": [
    "average_eda = eda.groupby('Time Category')['EDA'].mean()\n",
    "\n",
    "max_stress_part = average_eda.idxmax()\n",
    "\n",
    "print(f\"The '{max_stress_part}' part of the exam gives more stress to students\")\n"
   ]
  },
  {
   "cell_type": "markdown",
   "id": "36b6269e",
   "metadata": {},
   "source": [
    "Q4. Using Root Mean Square of Successive differences calculated in Q1, calculate and store HRV per exam for every student. \n"
   ]
  },
  {
   "cell_type": "code",
   "execution_count": 39,
   "id": "b07ff93c",
   "metadata": {},
   "outputs": [
    {
     "name": "stdout",
     "output_type": "stream",
     "text": [
      "   Student_id       Exam     RMSSD       HRV\n",
      "0         S01      final  0.105728  0.031178\n",
      "1         S01  midterm 1  0.146946  0.060842\n",
      "2         S01  midterm 2  0.106307  0.044397\n",
      "3        S010      final  0.074598  0.027239\n",
      "4        S010  midterm 1  0.195021  0.079839\n",
      "5        S010  midterm 2  0.073832  0.030835\n",
      "6         S02      final  0.046262  0.014232\n",
      "7         S02  midterm 1  0.209621  0.083076\n",
      "8         S02  midterm 2  0.142914  0.052185\n",
      "9         S03      final  0.097106  0.035697\n",
      "10        S03  midterm 1  0.223070  0.087948\n",
      "11        S03  midterm 2  0.078873  0.035391\n",
      "12        S04      final  0.135062  0.049100\n",
      "13        S04  midterm 1  0.153480  0.062658\n",
      "14        S04  midterm 2  0.194231  0.071888\n",
      "15        S05      final  0.117795  0.043302\n",
      "16        S05  midterm 1  0.248910  0.099697\n",
      "17        S05  midterm 2  0.038738  0.017382\n",
      "18        S06      final  0.084291  0.023378\n",
      "19        S06  midterm 1  0.239818  0.100449\n",
      "20        S06  midterm 2  0.148883  0.055104\n",
      "21        S07      final  0.135883  0.049839\n",
      "22        S07  midterm 1  0.220781  0.088430\n",
      "23        S07  midterm 2  0.153182  0.063243\n",
      "24        S08      final  0.176587  0.065658\n",
      "25        S08  midterm 1  0.114761  0.047380\n",
      "26        S08  midterm 2  0.158297  0.071030\n",
      "27        S09      final  0.085751  0.031243\n",
      "28        S09  midterm 1  0.200271  0.076613\n",
      "29        S09  midterm 2  0.083391  0.039907\n"
     ]
    }
   ],
   "source": [
    "ibi['RMSSD'] = ibi.groupby(['Student_id', 'Exam'])['IBI'].transform(lambda x: np.sqrt(np.mean(np.diff(x) ** 2)))\n",
    "\n",
    "# Calculate the mean RMSSD per exam for every student\n",
    "hrv = ibi.groupby(['Student_id', 'Exam'])['RMSSD'].mean().reset_index()\n",
    "\n",
    "# Adjust HRV for the difference in exam duration (assuming 30 minutes for RMSSD calculation)\n",
    "exam_durations = ibi.groupby(['Student_id', 'Exam'])['Time in mins'].max()\n",
    "hrv['HRV'] = hrv.apply(lambda row: row['RMSSD'] * np.sqrt(30 / exam_durations[(row['Student_id'], row['Exam'])]), axis=1)\n",
    "\n",
    "# Display the DataFrame with Adjusted HRV per exam for every student\n",
    "print(hrv)"
   ]
  },
  {
   "cell_type": "markdown",
   "id": "f8813855",
   "metadata": {},
   "source": [
    "Q7. \"Using numpy functions, transpose and multiply the following arrays\n",
    "a=np.arange(4).reshape(2,2)\n",
    "b=np.arange(6).reshape(3,2) \""
   ]
  },
  {
   "cell_type": "code",
   "execution_count": 18,
   "id": "16888c94",
   "metadata": {},
   "outputs": [
    {
     "name": "stdout",
     "output_type": "stream",
     "text": [
      "\n",
      " Array a:\n",
      "[[0 1]\n",
      " [2 3]]\n",
      "\n",
      " Array b:\n",
      "[[0 1]\n",
      " [2 3]\n",
      " [4 5]]\n",
      "\n",
      "Transposed Array a:\n",
      "[[0 2]\n",
      " [1 3]]\n",
      "\n",
      "Transposed Array b:\n",
      "[[0 2 4]\n",
      " [1 3 5]]\n",
      "\n",
      "Result of Transposed Multiplication:\n",
      "[[ 2  6 10]\n",
      " [ 3 11 19]]\n"
     ]
    }
   ],
   "source": [
    "a = np.arange(4).reshape(2, 2)\n",
    "b = np.arange(6).reshape(3, 2)\n",
    "print(\"\\n Array a:\")\n",
    "print(a)\n",
    "print(\"\\n Array b:\")\n",
    "print(b)\n",
    "print(\"\\nTransposed Array a:\")\n",
    "print(np.transpose(a))\n",
    "\n",
    "print(\"\\nTransposed Array b:\")\n",
    "print(np.transpose(b))\n",
    "\n",
    "print(\"\\nResult of Transposed Multiplication:\")\n",
    "print(np.dot(a_transposed, b_transposed))"
   ]
  },
  {
   "cell_type": "markdown",
   "id": "282aa5b8",
   "metadata": {},
   "source": [
    "Q8.Write a Python program to create an array of 5 integers and display the array items in reverse order"
   ]
  },
  {
   "cell_type": "code",
   "execution_count": 13,
   "id": "137cb5ae",
   "metadata": {},
   "outputs": [
    {
     "name": "stdout",
     "output_type": "stream",
     "text": [
      "Array Created: [1 2 3 4 5]\n",
      "\n",
      "Array in Reverse Order: [5 4 3 2 1]\n"
     ]
    }
   ],
   "source": [
    "array1 = np.array([1, 2, 3, 4, 5])\n",
    "print(\"Array Created:\", array1)\n",
    "\n",
    "rev_array1 = np.flip(array1)\n",
    "print(\"\\nArray in Reverse Order:\", rev_array1)"
   ]
  },
  {
   "cell_type": "markdown",
   "id": "998280ce",
   "metadata": {},
   "source": [
    "Q9. What was the average grade for all students in the final exam vs both midterms"
   ]
  },
  {
   "cell_type": "code",
   "execution_count": 16,
   "id": "fa30319c",
   "metadata": {},
   "outputs": [
    {
     "name": "stdout",
     "output_type": "stream",
     "text": [
      "Average Grade for all Students:\n",
      "            Midterm 1  Midterm 2  final\n",
      "Student_id                             \n",
      "S01              78.0       82.0  182.0\n",
      "S02              82.0       85.0  180.0\n",
      "S03              77.0       90.0  188.0\n",
      "S04              75.0       77.0  149.0\n",
      "S05              67.0       77.0  157.0\n",
      "S06              71.0       64.0  175.0\n",
      "S07              64.0       33.0  110.0\n",
      "S08              92.0       88.0  184.0\n",
      "S09              80.0       39.0  126.0\n",
      "S10              89.0       64.0  116.0\n"
     ]
    }
   ],
   "source": [
    "average_grades_by_student = grades.groupby('Student_id').mean()\n",
    "\n",
    "print(\"Average Grade for all Students:\")\n",
    "print(average_grades_by_student)"
   ]
  },
  {
   "cell_type": "markdown",
   "id": "2491291a",
   "metadata": {},
   "source": [
    "Q10. Which students basal body temperature was highest during the second part of the exam?\n"
   ]
  },
  {
   "cell_type": "code",
   "execution_count": 14,
   "id": "8dea2be7",
   "metadata": {},
   "outputs": [
    {
     "name": "stdout",
     "output_type": "stream",
     "text": [
      "The student with the highest basal body temperature during the second part of the exam is: S02\n"
     ]
    }
   ],
   "source": [
    "def categorize_time(row):\n",
    "    if row['Time in mins'] <= row['Max Time'] / 3:\n",
    "        return 'First'\n",
    "    elif row['Time in mins'] <= 2 * row['Max Time'] / 3:\n",
    "        return 'Second'\n",
    "    else:\n",
    "        return 'Third'\n",
    "\n",
    "# Identify the maximum time for each exam\n",
    "max_times = temp.groupby('Exam')['Time in mins'].max().reset_index()\n",
    "max_times.columns = ['Exam', 'Max Time']\n",
    "\n",
    "# Merge max_times with temp_df\n",
    "temp = pd.merge(temp, max_times, on='Exam')\n",
    "\n",
    "# Categorize time into parts\n",
    "temp['Time Category'] = temp.apply(categorize_time, axis=1)\n",
    "\n",
    "# Filter data for the second part of each exam\n",
    "second_part_temp = temp[temp['Time Category'] == 'Second']\n",
    "\n",
    "# Identify the student with the highest basal body temperature during the second part\n",
    "student_highest_temp = second_part_temp.loc[second_part_temp['TEMP'].idxmax(), 'Student_id']\n",
    "\n",
    "print(f\"The student with the highest basal body temperature during the second part of the exam is: {student_highest_temp}\")"
   ]
  },
  {
   "cell_type": "markdown",
   "id": "5eb36c2b",
   "metadata": {},
   "source": [
    "Q11. What are the top 3 grades in the final exam? What % of the top 3 grades belonged to males vs females? \n"
   ]
  },
  {
   "cell_type": "code",
   "execution_count": 32,
   "id": "e2c523fe",
   "metadata": {},
   "outputs": [
    {
     "name": "stdout",
     "output_type": "stream",
     "text": [
      "Top 3 grades in final exam:\n",
      "\n",
      "  Student_id First Name Last Name Gender  final\n",
      "2        S03    Gabriel   Willows      F    188\n",
      "7        S08       John     Wills      M    184\n",
      "0        S01    Barbara   Walters      F    182\n",
      "\n",
      "Male percentage in Top 3: 33.3%\n",
      "Female percentage in Top 3: 66.7%\n"
     ]
    }
   ],
   "source": [
    "merged_df = pd.merge(grades, demography, on='Student_id', how='inner')\n",
    "\n",
    "top_3_final_grades = merged_df.nlargest(3, 'final')\n",
    "print(\"Top 3 grades in final exam:\\n\")\n",
    "print(top_3_final_grades[['Student_id', 'First Name', 'Last Name', 'Gender', 'final']])\n",
    "\n",
    "# Calculate the percentage of top 3 grades belonging to males and females\n",
    "total_top_3 = top_3_final_grades.shape[0]\n",
    "male_percentage = (top_3_final_grades['Gender'].value_counts().get('M', 0) / total_top_3) * 100\n",
    "female_percentage = (top_3_final_grades['Gender'].value_counts().get('F', 0) / total_top_3) * 100\n",
    "\n",
    "print(f\"\\nMale percentage in Top 3: {male_percentage:.1f}%\")\n",
    "print(f\"Female percentage in Top 3: {female_percentage:.1f}%\")"
   ]
  },
  {
   "cell_type": "markdown",
   "id": "137d95f6",
   "metadata": {},
   "source": [
    "Q12. phonebook={\"john\":938477566,\"Jack\":938377264,\"Jill\":947662781}  ,find the phone number of Joe"
   ]
  },
  {
   "cell_type": "code",
   "execution_count": 36,
   "id": "b6f8d3f6",
   "metadata": {},
   "outputs": [
    {
     "name": "stdout",
     "output_type": "stream",
     "text": [
      "Not Found\n"
     ]
    }
   ],
   "source": [
    "phonebook = {\"john\": 938477566, \"Jack\": 938377264, \"Jill\": 947662781}\n",
    "\n",
    "output = phonebook.get(\"Joe\",\"Not Found\")\n",
    "\n",
    "print(output)"
   ]
  },
  {
   "cell_type": "markdown",
   "id": "6ec471e4",
   "metadata": {},
   "source": [
    "Q13. How many minutes did the midterm 2 last( on average) for all 10 students\n"
   ]
  },
  {
   "cell_type": "code",
   "execution_count": 40,
   "id": "9f7b3ad1",
   "metadata": {},
   "outputs": [
    {
     "name": "stdout",
     "output_type": "stream",
     "text": [
      " Average duration of Midterm 2 for all 10 students: 102.6 minutes\n"
     ]
    }
   ],
   "source": [
    "midterm2_df = eda[eda['Exam'] == 'midterm 2']\n",
    "avg_time = midterm2_df['Time in mins'].mean()\n",
    "\n",
    "print(f\" Average duration of midterm-2 for all 10 students: {avg_time:.1f} minutes\")"
   ]
  },
  {
   "cell_type": "markdown",
   "id": "2dde34d1",
   "metadata": {},
   "source": [
    "Q14. Analyze the trend of body temp at the start of the exam. Were body temperatures higher or lower in the first part of the exam. What is the overall trend?\n"
   ]
  },
  {
   "cell_type": "code",
   "execution_count": 32,
   "id": "55fa4b8a",
   "metadata": {},
   "outputs": [
    {
     "name": "stdout",
     "output_type": "stream",
     "text": [
      "        Exam  Max Time\n",
      "0  Midterm 1       211\n",
      "1  Midterm 2       236\n",
      "2      final       430\n"
     ]
    },
    {
     "data": {
      "image/png": "[encoded data removed]",
      "text/plain": [
       "<Figure size 800x600 with 1 Axes>"
      ]
     },
     "metadata": {},
     "output_type": "display_data"
    }
   ],
   "source": [
    "max_times = temp.groupby('Exam')['Time in mins'].max().reset_index()\n",
    "max_times.columns = ['Exam', 'Max Time']\n",
    "print(max_times)\n",
    "\n",
    "temp = pd.merge(temp, max_times, on='Exam')\n",
    "\n",
    "def categorize_time(row):\n",
    "    if row['Time in mins'] <= row['Max Time'] / 3:\n",
    "        return 'First'\n",
    "    elif row['Time in mins'] <= 2 * row['Max Time'] / 3:\n",
    "        return 'Second'\n",
    "    else:\n",
    "        return 'Third'\n",
    "    \n",
    "\n",
    "temp['Time Category'] = temp.apply(categorize_time, axis=1)\n",
    "\n",
    "\n",
    "average_temp_by_category = temp.groupby('Time Category')['TEMP'].mean()\n",
    "\n",
    "average_temp_by_category = temp.groupby('Time Category')['TEMP'].mean()\n",
    "plt.figure(figsize=(8, 6))\n",
    "bars = average_temp_by_category.plot(kind='bar', color='skyblue')\n",
    "\n",
    "\n",
    "for bar in bars.patches:\n",
    "    plt.annotate(f'{bar.get_height():.2f}', (bar.get_x() + bar.get_width() / 2, bar.get_height()),\n",
    "                 ha='center', va='center', xytext=(0, 10), textcoords='offset points')\n",
    "plt.title('Average Body Temperature Trend at the Start of the Exam')\n",
    "plt.xlabel('Time Category')\n",
    "plt.ylabel('Average Body Temperature')\n",
    "plt.show()\n"
   ]
  },
  {
   "cell_type": "markdown",
   "id": "c92929ef",
   "metadata": {},
   "source": [
    "Q16. What was the % difference between scores in both mid-terms vs the final\n"
   ]
  },
  {
   "cell_type": "code",
   "execution_count": 35,
   "id": "fc6c7b43",
   "metadata": {},
   "outputs": [
    {
     "name": "stdout",
     "output_type": "stream",
     "text": [
      "Percentage difference of grades in both Midterms Vs Final:\n",
      "  Student_id  result\n",
      "0        S01    11.0\n",
      "1        S02     6.5\n",
      "2        S03    10.5\n",
      "3        S04    -1.5\n",
      "4        S05     6.5\n",
      "5        S06    20.0\n",
      "6        S07     6.5\n",
      "7        S08     2.0\n",
      "8        S09     3.5\n",
      "9        S10   -18.5\n"
     ]
    }
   ],
   "source": [
    "midterm = (grades['Midterm 1'] + grades['Midterm 2'])\n",
    "\n",
    "grades['result'] = ((grades['final'] - midterm) / 200) * 100\n",
    "print(\"Percentage difference of grades in both Midterms Vs Final:\")\n",
    "print(grades[['Student_id','result']])"
   ]
  },
  {
   "cell_type": "code",
   "execution_count": null,
   "id": "d2a63be2",
   "metadata": {},
   "outputs": [],
   "source": []
  }
 ],
 "metadata": {
  "kernelspec": {
   "display_name": "Python 3 (ipykernel)",
   "language": "python",
   "name": "python3"
  },
  "language_info": {
   "codemirror_mode": {
    "name": "ipython",
    "version": 3
   },
   "file_extension": ".py",
   "mimetype": "text/x-python",
   "name": "python",
   "nbconvert_exporter": "python",
   "pygments_lexer": "ipython3",
   "version": "3.10.9"
  }
 },
 "nbformat": 4,
 "nbformat_minor": 5
}
