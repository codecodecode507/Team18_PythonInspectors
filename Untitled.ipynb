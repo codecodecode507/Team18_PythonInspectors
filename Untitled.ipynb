{
 "cells": [
  {
   "cell_type": "code",
   "execution_count": null,
   "id": "c05e8a78",
   "metadata": {},
   "outputs": [],
   "source": [
    "ibi_mean = np.mean(ibi.IBI)\n",
    "selected_interval = ibi.IBI[:30]\n",
    "successive_diff = np.diff(selected_interval)\n",
    "rmssd = np.sqrt(np.mean(successive_diff**2))\n",
    "ibi_with_rmssd = ibi_mean + rmssd\n",
    "print('RMSSD: ',ibi_with_rmssd)"
   ]
  },
  {
   "cell_type": "code",
   "execution_count": null,
   "id": "88158a73",
   "metadata": {},
   "outputs": [],
   "source": []
  },
  {
   "cell_type": "code",
   "execution_count": null,
   "id": "fb02e966",
   "metadata": {},
   "outputs": [],
   "source": []
  },
  {
   "cell_type": "code",
   "execution_count": null,
   "id": "52de3e2d",
   "metadata": {},
   "outputs": [],
   "source": [
    "# Find the student(s) with the maximum mean EDA\n",
    "max_mean_students = mean_eda_by_student[mean_eda_by_student == mean_eda_by_student.max()]\n",
    "\n",
    "print(\"Students with the maximum mean EDA attending 'final' exam:\")\n",
    "for student_id, mean_eda in max_mean_students.items():\n",
    "    print(f\"Student ID: {student_id}, Maximum Mean EDA: {mean_eda}\")"
   ]
  },
  {
   "cell_type": "code",
   "execution_count": null,
   "id": "39157bbf",
   "metadata": {},
   "outputs": [],
   "source": [
    "import pandas as pd\n",
    "import numpy as np\n",
    "import matplotlib.pyplot as plt\n",
    "df = pd.read_excel(\"C:\\Surya\\DA\\Hackathons\\Python Hackathon Dec2023\\Exam Stress Final.xlsx\",sheet_name=None)\n",
    "grades=df['Grades']\n",
    "demography=df['Demography']\n",
    "eda=df['EDA']\n",
    "hr=df['HR']\n",
    "temp=df['Temp']\n",
    "ibi=df['IBI']\n",
    "Q1. Using the mean interbeat interval per minute, calculate the Root Mean Square of successive differences for any 30 minute interval and add this to IBI\n",
    "\n",
    "ibi_mean = np.mean(ibi.IBI)\n",
    "selected_interval = ibi.IBI[:30]\n",
    "successive_diff = np.diff(selected_interval)\n",
    "rmssd = np.sqrt(np.mean(successive_diff**2))\n",
    "ibi_with_rmssd = ibi_mean + rmssd\n",
    "print('RMSSD: ',ibi_with_rmssd)\n",
    "RMSSD:  0.6549284511905323\n",
    "Q7. \"Using numpy functions, transpose and multiply the following arrays a=np.arange(4).reshape(2,2) b=np.arange(6).reshape(3,2) \""
   ]
  },
  {
   "cell_type": "code",
   "execution_count": null,
   "id": "91e6236a",
   "metadata": {},
   "outputs": [],
   "source": [
    "a = np.arange(4).reshape(2, 2)\n",
    "b = np.arange(6).reshape(3, 2)\n",
    "print(\"\\n Array a:\")\n",
    "print(a)\n",
    "print(\"\\n Array b:\")\n",
    "print(b)\n",
    "print(\"\\nTransposed Array a:\")\n",
    "print(np.transpose(a))\n",
    "\n",
    "print(\"\\nTransposed Array b:\")\n",
    "print(np.transpose(b))\n",
    "\n",
    "print(\"\\nResult of Transposed Multiplication:\")\n",
    "print(np.dot(a_transposed, b_transposed))"
   ]
  },
  {
   "cell_type": "code",
   "execution_count": null,
   "id": "3a495cfa",
   "metadata": {},
   "outputs": [],
   "source": [
    "#8\n",
    "array1 = np.array([1, 2, 3, 4, 5])\n",
    "print(\"Array Created:\", array1)\n",
    "\n",
    "rev_array1 = np.flip(array1)\n",
    "print(\"\\nArray in Reverse Order:\", rev_array1)"
   ]
  },
  {
   "cell_type": "code",
   "execution_count": 14,
   "id": "a3549ff2",
   "metadata": {},
   "outputs": [
    {
     "name": "stdout",
     "output_type": "stream",
     "text": [
      "Average Grade for all Students:\n",
      "            Midterm 1  Midterm 2  final\n",
      "Student_id                             \n",
      "S01              78.0       82.0  182.0\n",
      "S02              82.0       85.0  180.0\n",
      "S03              77.0       90.0  188.0\n",
      "S04              75.0       77.0  149.0\n",
      "S05              67.0       77.0  157.0\n",
      "S06              71.0       64.0  175.0\n",
      "S07              64.0       33.0  110.0\n",
      "S08              92.0       88.0  184.0\n",
      "S09              80.0       39.0  126.0\n",
      "S10              89.0       64.0  116.0\n"
     ]
    }
   ],
   "source": [
    "#9\n",
    "average_grades_by_student = grades.groupby('Student_id').mean()\n",
    "\n",
    "print(\"Average Grade for all Students:\")\n",
    "print(average_grades_by_student)"
   ]
  },
  {
   "cell_type": "code",
   "execution_count": null,
   "id": "bc09394f",
   "metadata": {},
   "outputs": [],
   "source": [
    "for index, row in demography.iterrows():\n",
    "    if row['DOB'].year == 2010:\n",
    "        full_name = f\"{row['First Name']} {row['Last Name']}\"\n",
    "        students_born_2010_names.append(full_name)\n",
    "\n",
    "# Display the full names of students born in 2010\n",
    "print(\"Full Names of Students Born in 2010:\")\n",
    "for name in students_born_2010_names:\n",
    "    print(name)"
   ]
  },
  {
   "cell_type": "code",
   "execution_count": null,
   "id": "4f26e272",
   "metadata": {},
   "outputs": [],
   "source": [
    "# Create an empty list to store full names of students born in 2010\n",
    "students_born_2010_names = []\n",
    "\n",
    "# Iterate through rows and check if the student was born in 2010\n",
    "for index, row in demography.iterrows():\n",
    "    if row['DOB'].year == 2010:\n",
    "        full_name = f\"{row['First Name']} {row['Last Name']}\"\n",
    "        students_born_2010_names.append(full_name)\n",
    "\n",
    "# Display the full names of students born in 2010\n",
    "print(\"Full Names of Students Born in 2010:\")\n",
    "for name in students_born_2010_names:\n",
    "    print(name)"
   ]
  },
  {
   "cell_type": "code",
   "execution_count": null,
   "id": "f7aa964c",
   "metadata": {},
   "outputs": [],
   "source": [
    "students_born_2010 = demography[demography['DOB'].dt.year == 2010]\n",
    "\n",
    "# Display the full names of students born in 2010 without row numbers\n",
    "print(\"Full Names of Students Born in 2010:\")\n",
    "print(students_born_2010[['First Name', 'Last Name']].to_string(index=False))"
   ]
  },
  {
   "cell_type": "code",
   "execution_count": 19,
   "id": "f61f037a",
   "metadata": {},
   "outputs": [
    {
     "name": "stdout",
     "output_type": "stream",
     "text": [
      "The average HR of students with top 3 grades in Midterm 2: 107.99\n"
     ]
    }
   ],
   "source": [
    "top_3_midterm2 = grades.sort_values(by='Midterm 2', ascending=False).head(3)\n",
    "\n",
    "# Get the Student_ids of the top 3 grades\n",
    "top_3_student_ids = top_3_midterm2['Student_id']\n",
    "\n",
    "# Filter the HR DataFrame for students with top 3 grades in Midterm 2\n",
    "hr_top_3 = hr[hr['Student_id'].isin(top_3_student_ids)]\n",
    "# Calculate the average HR for these students\n",
    "average_hr_top_3 = hr_top_3['HR'].mean()\n",
    "\n",
    "print(f\"The average HR of students with top 3 grades in Midterm 2: {average_hr_top_3:.2f}\")"
   ]
  },
  {
   "cell_type": "code",
   "execution_count": null,
   "id": "02105760",
   "metadata": {},
   "outputs": [],
   "source": [
    "plt.bar(grades['Student_id'], grades['Midterm 1'])\n",
    "\n",
    "# Set labels and title\n",
    "plt.xlabel('Student ID')\n",
    "plt.ylabel('Midterm 1 Grade')\n",
    "plt.title('Midterm 1 Grades of Students')\n",
    "\n",
    "# Display the bar chart\n",
    "plt.show()"
   ]
  },
  {
   "cell_type": "code",
   "execution_count": null,
   "id": "89695773",
   "metadata": {},
   "outputs": [],
   "source": [
    "female_percentage = (demography['Gender'].value_counts(normalize=True).get('F', 0)) * 100\n",
    "\n",
    "print(f\"The percentage of female students is: {female_percentage:.2f}%\")"
   ]
  },
  {
   "cell_type": "code",
   "execution_count": null,
   "id": "68e3efb7",
   "metadata": {},
   "outputs": [],
   "source": [
    "students_below_basal_temp = temp[temp['TEMP'] < 36]\n",
    "\n",
    "# Display the relevant information\n",
    "print(\"Students for whom temperature fell below basal body temp of 36 degrees:\")\n",
    "print(students_below_basal_temp)"
   ]
  },
  {
   "cell_type": "code",
   "execution_count": null,
   "id": "10c2cb3a",
   "metadata": {},
   "outputs": [],
   "source": [
    "students_below_basal_temp = temp[temp['TEMP'] < 36]\n",
    "\n",
    "# Extract distinct student IDs from the filtered DataFrame\n",
    "distinct_student_ids = students_below_basal_temp['Student_id'].drop_duplicates()\n",
    "\n",
    "# Display distinct student IDs for whom temperature fell below basal body temp\n",
    "print(\"Distinct Student IDs for whom temperature fell below basal body temp of 36 degrees:\")\n",
    "print(distinct_student_ids)"
   ]
  },
  {
   "cell_type": "code",
   "execution_count": null,
   "id": "f341d1b2",
   "metadata": {},
   "outputs": [],
   "source": [
    "students_below_basal_temp = temp[temp['TEMP'] < 36]\n",
    "\n",
    "# Merge with Demography to get first name and last name\n",
    "result_df = pd.merge(students_below_basal_temp[['Student_id']],\n",
    "                     demography[['Student_id', 'First Name', 'Last Name']],\n",
    "                     on='Student_id',\n",
    "                     how='inner')\n",
    "\n",
    "# Display distinct student IDs with first name and last name\n",
    "print(\"Distinct Student IDs with first name and last name for whom temperature fell below basal body temp of 36 degrees:\")\n",
    "print(result_df.drop_duplicates(subset='Student_id'))"
   ]
  },
  {
   "cell_type": "code",
   "execution_count": null,
   "id": "8c0bdf83",
   "metadata": {},
   "outputs": [],
   "source": [
    "phonebook = {\"john\": 938477566, \"Jack\": 938377264, \"Jill\": 947662781}\n",
    "\n",
    "# Attempt to find Joe's phone number with a default value\n",
    "joe_phone = phonebook.get(\"Joe\", \"Joe's phone number not found\")\n",
    "\n",
    "print(joe_phone)"
   ]
  },
  {
   "cell_type": "code",
   "execution_count": null,
   "id": "79a9a5eb",
   "metadata": {},
   "outputs": [],
   "source": [
    "midterm2_df = eda[eda['Exam'] == 'Midterm 2']\n",
    "\n",
    "# Calculate the average duration of Midterm 2\n",
    "average_duration_midterm2 = midterm2_df['Time in mins'].mean()\n",
    "print(average_duration_midterm2)\n",
    "\n",
    "print(f\"The average duration of Midterm 2 for all 10 students: {average_duration_midterm2:.2f} minutes\")"
   ]
  },
  {
   "cell_type": "code",
   "execution_count": null,
   "id": "883ef091",
   "metadata": {},
   "outputs": [],
   "source": [
    "midterm2_df = eda[eda['Exam'] == 'midterm 2']\n",
    "print(midterm2_df)\n",
    "\n",
    "# Calculate the average duration of Midterm 2, excluding NaN values\n",
    "average_duration_midterm2 = midterm2_df['Time in mins'].mean()\n",
    "\n",
    "print(f\"The average duration of Midterm 2 for all 10 students: {average_duration_midterm2:.2f} minutes\")"
   ]
  },
  {
   "cell_type": "code",
   "execution_count": null,
   "id": "a2efdd05",
   "metadata": {},
   "outputs": [],
   "source": [
    "#17\n",
    "race_counts = demography['Race'].value_counts()\n",
    "asian_percentage = (race_counts.get('Asian', 0) / len(demography)) * 100\n",
    "print(\"Percentage of Asian Students: \",asian_percentage)"
   ]
  },
  {
   "cell_type": "code",
   "execution_count": null,
   "id": "c9818a10",
   "metadata": {},
   "outputs": [],
   "source": []
  },
  {
   "cell_type": "code",
   "execution_count": null,
   "id": "3c61252f",
   "metadata": {},
   "outputs": [],
   "source": []
  },
  {
   "cell_type": "code",
   "execution_count": null,
   "id": "57ed26f2",
   "metadata": {},
   "outputs": [],
   "source": [
    "filtered_students = demography[demography['Last Name'].str.endswith('s')]\n",
    "print(filtered_students)"
   ]
  },
  {
   "cell_type": "code",
   "execution_count": null,
   "id": "611cc87f",
   "metadata": {},
   "outputs": [],
   "source": [
    "# Convert the string to a datetime object\n",
    "date_object = DOB.strptime(date_string, \"%Y-%m-%d\")\n",
    "\n",
    "demography.DOB=pd.to_datetime(demography.DOB).dt.year\n",
    "leap_year_df = demography.DOB % 4 == 0\n",
    "leap_year_df\n"
   ]
  },
  {
   "cell_type": "code",
   "execution_count": null,
   "id": "333473fa",
   "metadata": {},
   "outputs": [],
   "source": []
  },
  {
   "cell_type": "code",
   "execution_count": null,
   "id": "0eb84508",
   "metadata": {},
   "outputs": [],
   "source": [
    "\n",
    "# Extract the year from the 'Birth_year' column\n",
    "df['DOB'] = pd.to_datetime(df['DOB']).dt.year\n",
    "\n",
    "\n"
   ]
  },
  {
   "cell_type": "code",
   "execution_count": 5,
   "id": "6f37dd01",
   "metadata": {},
   "outputs": [],
   "source": [
    "import pandas as pd\n",
    "import numpy as np\n",
    "import matplotlib.pyplot as plt\n",
    "\n",
    "df=pd.read_excel(\"Exam Stress Final.xlsx\",sheet_name=None)"
   ]
  },
  {
   "cell_type": "code",
   "execution_count": 8,
   "id": "f919dbb4",
   "metadata": {},
   "outputs": [],
   "source": [
    "grades=df['Grades']\n",
    "demography=df['Demography']\n",
    "eda=df['EDA']\n",
    "hr=df['HR']\n",
    "temp=df['Temp']\n",
    "ibi=df['IBI']"
   ]
  },
  {
   "cell_type": "markdown",
   "id": "97c802e5",
   "metadata": {},
   "source": [
    "#Q 33Make a Pivot table where Student IDs are the columns and EDA, HR and temp values are the rows"
   ]
  },
  {
   "cell_type": "code",
   "execution_count": 13,
   "id": "8a305b03",
   "metadata": {},
   "outputs": [
    {
     "ename": "KeyError",
     "evalue": "'Student_id'",
     "output_type": "error",
     "traceback": [
      "\u001b[1;31m---------------------------------------------------------------------------\u001b[0m",
      "\u001b[1;31mKeyError\u001b[0m                                  Traceback (most recent call last)",
      "\u001b[1;32m~\\AppData\\Local\\Temp/ipykernel_23096/433732115.py\u001b[0m in \u001b[0;36m<module>\u001b[1;34m\u001b[0m\n\u001b[0;32m      3\u001b[0m \u001b[1;33m\u001b[0m\u001b[0m\n\u001b[0;32m      4\u001b[0m \u001b[1;31m# Merge the EDA, HR, and Temp DataFrames into a single DataFrame\u001b[0m\u001b[1;33m\u001b[0m\u001b[1;33m\u001b[0m\u001b[0m\n\u001b[1;32m----> 5\u001b[1;33m \u001b[0meda_df\u001b[0m \u001b[1;33m=\u001b[0m \u001b[0mpd\u001b[0m\u001b[1;33m.\u001b[0m\u001b[0mDataFrame\u001b[0m\u001b[1;33m(\u001b[0m\u001b[1;33m{\u001b[0m\u001b[1;34m'Student_id'\u001b[0m\u001b[1;33m:\u001b[0m \u001b[0mdf\u001b[0m\u001b[1;33m[\u001b[0m\u001b[1;34m'Student_id'\u001b[0m\u001b[1;33m]\u001b[0m\u001b[1;33m,\u001b[0m \u001b[1;34m'EDA'\u001b[0m\u001b[1;33m:\u001b[0m \u001b[0mdf\u001b[0m\u001b[1;33m[\u001b[0m\u001b[1;34m'EDA'\u001b[0m\u001b[1;33m]\u001b[0m\u001b[1;33m}\u001b[0m\u001b[1;33m)\u001b[0m\u001b[1;33m\u001b[0m\u001b[1;33m\u001b[0m\u001b[0m\n\u001b[0m\u001b[0;32m      6\u001b[0m \u001b[0mhr_df\u001b[0m \u001b[1;33m=\u001b[0m \u001b[0mpd\u001b[0m\u001b[1;33m.\u001b[0m\u001b[0mDataFrame\u001b[0m\u001b[1;33m(\u001b[0m\u001b[1;33m{\u001b[0m\u001b[1;34m'Student_id'\u001b[0m\u001b[1;33m:\u001b[0m \u001b[0mdf\u001b[0m\u001b[1;33m[\u001b[0m\u001b[1;34m'Student_id'\u001b[0m\u001b[1;33m]\u001b[0m\u001b[1;33m,\u001b[0m \u001b[1;34m'HR'\u001b[0m\u001b[1;33m:\u001b[0m \u001b[0mdf\u001b[0m\u001b[1;33m[\u001b[0m\u001b[1;34m'HR'\u001b[0m\u001b[1;33m]\u001b[0m\u001b[1;33m}\u001b[0m\u001b[1;33m)\u001b[0m\u001b[1;33m\u001b[0m\u001b[1;33m\u001b[0m\u001b[0m\n\u001b[0;32m      7\u001b[0m \u001b[0mtemp_df\u001b[0m \u001b[1;33m=\u001b[0m \u001b[0mpd\u001b[0m\u001b[1;33m.\u001b[0m\u001b[0mDataFrame\u001b[0m\u001b[1;33m(\u001b[0m\u001b[1;33m{\u001b[0m\u001b[1;34m'Student_id'\u001b[0m\u001b[1;33m:\u001b[0m \u001b[0mdf\u001b[0m\u001b[1;33m[\u001b[0m\u001b[1;34m'Student_id'\u001b[0m\u001b[1;33m]\u001b[0m\u001b[1;33m,\u001b[0m \u001b[1;34m'Temp'\u001b[0m\u001b[1;33m:\u001b[0m \u001b[0mdf\u001b[0m\u001b[1;33m[\u001b[0m\u001b[1;34m'Temp'\u001b[0m\u001b[1;33m]\u001b[0m\u001b[1;33m}\u001b[0m\u001b[1;33m)\u001b[0m\u001b[1;33m\u001b[0m\u001b[1;33m\u001b[0m\u001b[0m\n",
      "\u001b[1;31mKeyError\u001b[0m: 'Student_id'"
     ]
    }
   ],
   "source": [
    "\n",
    "# Assuming df contains the data for EDA, HR, and Temp\n",
    "# If your EDA, HR, and Temp columns have different names, replace them accordingly\n",
    "\n",
    "# Merge the EDA, HR, and Temp DataFrames into a single DataFrame\n",
    "eda_df = pd.DataFrame({'Student_id': df['Student_id'], 'EDA': df['EDA']})\n",
    "hr_df = pd.DataFrame({'Student_id': df['Student_id'], 'HR': df['HR']})\n",
    "temp_df = pd.DataFrame({'Student_id': df['Student_id'], 'Temp': df['Temp']})\n",
    "\n",
    "# Merge the DataFrames\n",
    "merged_df = pd.concat([eda_df, hr_df, temp_df], axis=0)\n",
    "\n",
    "# Create a pivot table\n",
    "p_table = merged_df.pivot_table(index='EDA', columns='Student_id', values='HR', aggfunc='first')\n",
    "\n",
    "# Display the pivot table\n",
    "print(pivot_table)"
   ]
  },
  {
   "cell_type": "code",
   "execution_count": 12,
   "id": "3e750b48",
   "metadata": {},
   "outputs": [
    {
     "ename": "KeyError",
     "evalue": "'Student id'",
     "output_type": "error",
     "traceback": [
      "\u001b[1;31m---------------------------------------------------------------------------\u001b[0m",
      "\u001b[1;31mKeyError\u001b[0m                                  Traceback (most recent call last)",
      "\u001b[1;32m~\\AppData\\Local\\Temp/ipykernel_23096/3504574162.py\u001b[0m in \u001b[0;36m<module>\u001b[1;34m\u001b[0m\n\u001b[1;32m----> 1\u001b[1;33m \u001b[0meda_df\u001b[0m \u001b[1;33m=\u001b[0m \u001b[0mpd\u001b[0m\u001b[1;33m.\u001b[0m\u001b[0mDataFrame\u001b[0m\u001b[1;33m(\u001b[0m\u001b[1;33m{\u001b[0m\u001b[1;34m'Student id'\u001b[0m\u001b[1;33m:\u001b[0m \u001b[0mdf\u001b[0m\u001b[1;33m[\u001b[0m\u001b[1;34m'Student id'\u001b[0m\u001b[1;33m]\u001b[0m\u001b[1;33m,\u001b[0m \u001b[1;34m'EDA'\u001b[0m\u001b[1;33m:\u001b[0m \u001b[0meda\u001b[0m\u001b[1;33m}\u001b[0m\u001b[1;33m)\u001b[0m\u001b[1;33m\u001b[0m\u001b[1;33m\u001b[0m\u001b[0m\n\u001b[0m\u001b[0;32m      2\u001b[0m \u001b[0mhr_df\u001b[0m \u001b[1;33m=\u001b[0m \u001b[0mpd\u001b[0m\u001b[1;33m.\u001b[0m\u001b[0mDataFrame\u001b[0m\u001b[1;33m(\u001b[0m\u001b[1;33m{\u001b[0m\u001b[1;34m'Student id'\u001b[0m\u001b[1;33m:\u001b[0m \u001b[0mdf\u001b[0m\u001b[1;33m[\u001b[0m\u001b[1;34m'Student id'\u001b[0m\u001b[1;33m]\u001b[0m\u001b[1;33m,\u001b[0m \u001b[1;34m'HR'\u001b[0m\u001b[1;33m:\u001b[0m \u001b[0mhr\u001b[0m\u001b[1;33m}\u001b[0m\u001b[1;33m)\u001b[0m\u001b[1;33m\u001b[0m\u001b[1;33m\u001b[0m\u001b[0m\n\u001b[0;32m      3\u001b[0m \u001b[0mtemp_df\u001b[0m \u001b[1;33m=\u001b[0m \u001b[0mpd\u001b[0m\u001b[1;33m.\u001b[0m\u001b[0mDataFrame\u001b[0m\u001b[1;33m(\u001b[0m\u001b[1;33m{\u001b[0m\u001b[1;34m'Student id'\u001b[0m\u001b[1;33m:\u001b[0m \u001b[0mdf\u001b[0m\u001b[1;33m[\u001b[0m\u001b[1;34m'Student id'\u001b[0m\u001b[1;33m]\u001b[0m\u001b[1;33m,\u001b[0m \u001b[1;34m'Temp'\u001b[0m\u001b[1;33m:\u001b[0m \u001b[0mtemp\u001b[0m\u001b[1;33m}\u001b[0m\u001b[1;33m)\u001b[0m\u001b[1;33m\u001b[0m\u001b[1;33m\u001b[0m\u001b[0m\n",
      "\u001b[1;31mKeyError\u001b[0m: 'Student id'"
     ]
    }
   ],
   "source": [
    "eda_df = pd.DataFrame({'Student id': df['Student id'], 'EDA': eda})\n",
    "hr_df = pd.DataFrame({'Student id': df['Student id'], 'HR': hr})\n",
    "temp_df = pd.DataFrame({'Student id': df['Student id'], 'Temp': temp})"
   ]
  },
  {
   "cell_type": "code",
   "execution_count": null,
   "id": "d79bb5f1",
   "metadata": {},
   "outputs": [],
   "source": [
    "pandas.pivot_table(data, values=None, index=None, columns=None, aggfunc='mean', fill_value=None,\n",
    "                   margins=False, dropna=True, margins_name='All', observed=False, sort=True)"
   ]
  }
 ],
 "metadata": {
  "kernelspec": {
   "display_name": "Python 3 (ipykernel)",
   "language": "python",
   "name": "python3"
  },
  "language_info": {
   "codemirror_mode": {
    "name": "ipython",
    "version": 3
   },
   "file_extension": ".py",
   "mimetype": "text/x-python",
   "name": "python",
   "nbconvert_exporter": "python",
   "pygments_lexer": "ipython3",
   "version": "3.9.7"
  }
 },
 "nbformat": 4,
 "nbformat_minor": 5
}
